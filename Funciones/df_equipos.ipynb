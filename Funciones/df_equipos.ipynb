{
 "cells": [
  {
   "cell_type": "code",
   "execution_count": 4,
   "metadata": {},
   "outputs": [],
   "source": [
    "import pandas as pd\n",
    "import requests\n",
    "from bs4 import BeautifulSoup\n",
    "import time\n",
    "import modulo as md"
   ]
  },
  {
   "cell_type": "code",
   "execution_count": 5,
   "metadata": {},
   "outputs": [],
   "source": [
    "headers={'user-agent':'Mozilla/5.0 (Windows NT 10.0; Win64; x64) AppleWebKit/537.36 (KHTML, like Gecko) Chrome/116.0.0.0 Safari/537.36'}"
   ]
  },
  {
   "cell_type": "markdown",
   "metadata": {},
   "source": [
    "## Funcion que se encarga de tomar todos los equipos en la lista de ligas que le de y ponerlos en un df junto con sus ids en la web"
   ]
  },
  {
   "cell_type": "code",
   "execution_count": 3,
   "metadata": {},
   "outputs": [],
   "source": [
    "#codigos ligas:\n",
    "paisesA=[9,12,11,13,20]\n",
    "PaisesB=[10,17,18,60,33]\n",
    "#0inglesa=[9,10]\n",
    "#1españolas=[12,17]\n",
    "#2italianas=[10,18]\n",
    "#3francesa=[13,60]\n",
    "#4alemanas=[20,33]"
   ]
  },
  {
   "cell_type": "code",
   "execution_count": 1,
   "metadata": {},
   "outputs": [],
   "source": [
    "def teams_df(ListLiguesNumbers):# ejemplo lista paises=[9,10],[12,17],[10,18],[13,60],[20,33]\n",
    "    equiposall=[]               #devuelve un df\n",
    "    codigosall=[]\n",
    "    \n",
    "    for liga in ListLiguesNumbers:\n",
    "\n",
    "        print(liga)\n",
    "        url=f'https://fbref.com/es/comps/{liga}'\n",
    "        res=requests.get(url, headers=headers)\n",
    "        equipos=md.get_teams(res)\n",
    "        time.sleep(1)\n",
    "        equiposall+=equipos[0]\n",
    "        codigosall+=equipos[1]\n",
    "            \n",
    "    columnas=['Nombre', 'id Web']\n",
    "    datos = {\n",
    "    'Nombre': equiposall,\n",
    "    'id Web': codigosall\n",
    "    }\n",
    "    equipos=pd.DataFrame(datos, columns=columnas)\n",
    "    return equipos\n"
   ]
  },
  {
   "cell_type": "code",
   "execution_count": 6,
   "metadata": {},
   "outputs": [
    {
     "name": "stdout",
     "output_type": "stream",
     "text": [
      "9\n",
      "12\n",
      "11\n",
      "13\n",
      "20\n",
      "10\n",
      "17\n",
      "18\n",
      "60\n",
      "33\n"
     ]
    }
   ],
   "source": [
    "equiposA=teams_df(paisesA)\n",
    "equiposB=teams_df(PaisesB)"
   ]
  },
  {
   "cell_type": "markdown",
   "metadata": {},
   "source": [
    "# Obtengo todos los umeros en las id web de los equipos y los vuelvo mis ids locales, para el ml "
   ]
  },
  {
   "cell_type": "code",
   "execution_count": 7,
   "metadata": {},
   "outputs": [],
   "source": [
    "equiposA['id_ml']=equiposA['id Web'].apply(md.get_numbers)\n",
    "equiposB['id_ml']=equiposB['id Web'].apply(md.get_numbers)"
   ]
  },
  {
   "cell_type": "code",
   "execution_count": 10,
   "metadata": {},
   "outputs": [
    {
     "data": {
      "text/html": [
       "<div>\n",
       "<style scoped>\n",
       "    .dataframe tbody tr th:only-of-type {\n",
       "        vertical-align: middle;\n",
       "    }\n",
       "\n",
       "    .dataframe tbody tr th {\n",
       "        vertical-align: top;\n",
       "    }\n",
       "\n",
       "    .dataframe thead th {\n",
       "        text-align: right;\n",
       "    }\n",
       "</style>\n",
       "<table border=\"1\" class=\"dataframe\">\n",
       "  <thead>\n",
       "    <tr style=\"text-align: right;\">\n",
       "      <th></th>\n",
       "      <th>Nombre</th>\n",
       "      <th>id Web</th>\n",
       "      <th>id_ml</th>\n",
       "    </tr>\n",
       "  </thead>\n",
       "  <tbody>\n",
       "    <tr>\n",
       "      <th>0</th>\n",
       "      <td>Birmingham City</td>\n",
       "      <td>ec79b7c2</td>\n",
       "      <td>7972</td>\n",
       "    </tr>\n",
       "    <tr>\n",
       "      <th>1</th>\n",
       "      <td>Blackburn</td>\n",
       "      <td>e090f40b</td>\n",
       "      <td>09040</td>\n",
       "    </tr>\n",
       "    <tr>\n",
       "      <th>2</th>\n",
       "      <td>Bristol City</td>\n",
       "      <td>93493607</td>\n",
       "      <td>93493607</td>\n",
       "    </tr>\n",
       "    <tr>\n",
       "      <th>3</th>\n",
       "      <td>Cardiff City</td>\n",
       "      <td>75fae011</td>\n",
       "      <td>75011</td>\n",
       "    </tr>\n",
       "    <tr>\n",
       "      <th>4</th>\n",
       "      <td>Coventry City</td>\n",
       "      <td>f7e3dfe9</td>\n",
       "      <td>739</td>\n",
       "    </tr>\n",
       "    <tr>\n",
       "      <th>...</th>\n",
       "      <td>...</td>\n",
       "      <td>...</td>\n",
       "      <td>...</td>\n",
       "    </tr>\n",
       "    <tr>\n",
       "      <th>99</th>\n",
       "      <td>Osnabrück</td>\n",
       "      <td>3ce4e72c</td>\n",
       "      <td>3472</td>\n",
       "    </tr>\n",
       "    <tr>\n",
       "      <th>100</th>\n",
       "      <td>Paderborn 07</td>\n",
       "      <td>d9f93f02</td>\n",
       "      <td>99302</td>\n",
       "    </tr>\n",
       "    <tr>\n",
       "      <th>101</th>\n",
       "      <td>Schalke 04</td>\n",
       "      <td>c539e393</td>\n",
       "      <td>539393</td>\n",
       "    </tr>\n",
       "    <tr>\n",
       "      <th>102</th>\n",
       "      <td>St. Pauli</td>\n",
       "      <td>54864664</td>\n",
       "      <td>54864664</td>\n",
       "    </tr>\n",
       "    <tr>\n",
       "      <th>103</th>\n",
       "      <td>Wehen</td>\n",
       "      <td>432f2430</td>\n",
       "      <td>4322430</td>\n",
       "    </tr>\n",
       "  </tbody>\n",
       "</table>\n",
       "<p>104 rows × 3 columns</p>\n",
       "</div>"
      ],
      "text/plain": [
       "              Nombre    id Web     id_ml\n",
       "0    Birmingham City  ec79b7c2      7972\n",
       "1          Blackburn  e090f40b     09040\n",
       "2       Bristol City  93493607  93493607\n",
       "3       Cardiff City  75fae011     75011\n",
       "4      Coventry City  f7e3dfe9       739\n",
       "..               ...       ...       ...\n",
       "99         Osnabrück  3ce4e72c      3472\n",
       "100     Paderborn 07  d9f93f02     99302\n",
       "101       Schalke 04  c539e393    539393\n",
       "102        St. Pauli  54864664  54864664\n",
       "103            Wehen  432f2430   4322430\n",
       "\n",
       "[104 rows x 3 columns]"
      ]
     },
     "execution_count": 10,
     "metadata": {},
     "output_type": "execute_result"
    }
   ],
   "source": [
    "equiposB"
   ]
  },
  {
   "cell_type": "code",
   "execution_count": 8,
   "metadata": {},
   "outputs": [
    {
     "data": {
      "text/html": [
       "<div>\n",
       "<style scoped>\n",
       "    .dataframe tbody tr th:only-of-type {\n",
       "        vertical-align: middle;\n",
       "    }\n",
       "\n",
       "    .dataframe tbody tr th {\n",
       "        vertical-align: top;\n",
       "    }\n",
       "\n",
       "    .dataframe thead th {\n",
       "        text-align: right;\n",
       "    }\n",
       "</style>\n",
       "<table border=\"1\" class=\"dataframe\">\n",
       "  <thead>\n",
       "    <tr style=\"text-align: right;\">\n",
       "      <th></th>\n",
       "      <th>Nombre</th>\n",
       "      <th>id Web</th>\n",
       "      <th>id_ml</th>\n",
       "    </tr>\n",
       "  </thead>\n",
       "  <tbody>\n",
       "    <tr>\n",
       "      <th>0</th>\n",
       "      <td>Birmingham City</td>\n",
       "      <td>ec79b7c2</td>\n",
       "      <td>7972</td>\n",
       "    </tr>\n",
       "    <tr>\n",
       "      <th>1</th>\n",
       "      <td>Blackburn</td>\n",
       "      <td>e090f40b</td>\n",
       "      <td>09040</td>\n",
       "    </tr>\n",
       "    <tr>\n",
       "      <th>2</th>\n",
       "      <td>Bristol City</td>\n",
       "      <td>93493607</td>\n",
       "      <td>93493607</td>\n",
       "    </tr>\n",
       "    <tr>\n",
       "      <th>3</th>\n",
       "      <td>Cardiff City</td>\n",
       "      <td>75fae011</td>\n",
       "      <td>75011</td>\n",
       "    </tr>\n",
       "    <tr>\n",
       "      <th>4</th>\n",
       "      <td>Coventry City</td>\n",
       "      <td>f7e3dfe9</td>\n",
       "      <td>739</td>\n",
       "    </tr>\n",
       "    <tr>\n",
       "      <th>...</th>\n",
       "      <td>...</td>\n",
       "      <td>...</td>\n",
       "      <td>...</td>\n",
       "    </tr>\n",
       "    <tr>\n",
       "      <th>99</th>\n",
       "      <td>Osnabrück</td>\n",
       "      <td>3ce4e72c</td>\n",
       "      <td>3472</td>\n",
       "    </tr>\n",
       "    <tr>\n",
       "      <th>100</th>\n",
       "      <td>Paderborn 07</td>\n",
       "      <td>d9f93f02</td>\n",
       "      <td>99302</td>\n",
       "    </tr>\n",
       "    <tr>\n",
       "      <th>101</th>\n",
       "      <td>Schalke 04</td>\n",
       "      <td>c539e393</td>\n",
       "      <td>539393</td>\n",
       "    </tr>\n",
       "    <tr>\n",
       "      <th>102</th>\n",
       "      <td>St. Pauli</td>\n",
       "      <td>54864664</td>\n",
       "      <td>54864664</td>\n",
       "    </tr>\n",
       "    <tr>\n",
       "      <th>103</th>\n",
       "      <td>Wehen</td>\n",
       "      <td>432f2430</td>\n",
       "      <td>4322430</td>\n",
       "    </tr>\n",
       "  </tbody>\n",
       "</table>\n",
       "<p>104 rows × 3 columns</p>\n",
       "</div>"
      ],
      "text/plain": [
       "              Nombre    id Web     id_ml\n",
       "0    Birmingham City  ec79b7c2      7972\n",
       "1          Blackburn  e090f40b     09040\n",
       "2       Bristol City  93493607  93493607\n",
       "3       Cardiff City  75fae011     75011\n",
       "4      Coventry City  f7e3dfe9       739\n",
       "..               ...       ...       ...\n",
       "99         Osnabrück  3ce4e72c      3472\n",
       "100     Paderborn 07  d9f93f02     99302\n",
       "101       Schalke 04  c539e393    539393\n",
       "102        St. Pauli  54864664  54864664\n",
       "103            Wehen  432f2430   4322430\n",
       "\n",
       "[104 rows x 3 columns]"
      ]
     },
     "execution_count": 8,
     "metadata": {},
     "output_type": "execute_result"
    }
   ],
   "source": [
    "equiposA.drop_duplicates('id_ml')\n",
    "equiposB.drop_duplicates('id_ml')"
   ]
  },
  {
   "cell_type": "markdown",
   "metadata": {},
   "source": [
    "## hago que todos los ids tengan la misma longitud"
   ]
  },
  {
   "cell_type": "code",
   "execution_count": 11,
   "metadata": {},
   "outputs": [
    {
     "name": "stdout",
     "output_type": "stream",
     "text": [
      "8\n",
      "8\n"
     ]
    }
   ],
   "source": [
    "max_lengthA = equiposA['id_ml'].str.len().max()\n",
    "max_lengthB = equiposB['id_ml'].str.len().max()\n",
    "print(max_lengthA)\n",
    "print(max_lengthB)"
   ]
  },
  {
   "cell_type": "code",
   "execution_count": 13,
   "metadata": {},
   "outputs": [
    {
     "data": {
      "text/html": [
       "<div>\n",
       "<style scoped>\n",
       "    .dataframe tbody tr th:only-of-type {\n",
       "        vertical-align: middle;\n",
       "    }\n",
       "\n",
       "    .dataframe tbody tr th {\n",
       "        vertical-align: top;\n",
       "    }\n",
       "\n",
       "    .dataframe thead th {\n",
       "        text-align: right;\n",
       "    }\n",
       "</style>\n",
       "<table border=\"1\" class=\"dataframe\">\n",
       "  <thead>\n",
       "    <tr style=\"text-align: right;\">\n",
       "      <th></th>\n",
       "      <th>Nombre</th>\n",
       "      <th>id Web</th>\n",
       "      <th>id_ml</th>\n",
       "    </tr>\n",
       "  </thead>\n",
       "  <tbody>\n",
       "    <tr>\n",
       "      <th>0</th>\n",
       "      <td>Arsenal</td>\n",
       "      <td>18bb7c10</td>\n",
       "      <td>18710000</td>\n",
       "    </tr>\n",
       "    <tr>\n",
       "      <th>1</th>\n",
       "      <td>Aston Villa</td>\n",
       "      <td>8602292d</td>\n",
       "      <td>86022920</td>\n",
       "    </tr>\n",
       "    <tr>\n",
       "      <th>2</th>\n",
       "      <td>Bournemouth</td>\n",
       "      <td>4ba7cbea</td>\n",
       "      <td>47000000</td>\n",
       "    </tr>\n",
       "    <tr>\n",
       "      <th>3</th>\n",
       "      <td>Brentford</td>\n",
       "      <td>cd051869</td>\n",
       "      <td>05186900</td>\n",
       "    </tr>\n",
       "    <tr>\n",
       "      <th>4</th>\n",
       "      <td>Brighton</td>\n",
       "      <td>d07537b9</td>\n",
       "      <td>07537900</td>\n",
       "    </tr>\n",
       "    <tr>\n",
       "      <th>...</th>\n",
       "      <td>...</td>\n",
       "      <td>...</td>\n",
       "      <td>...</td>\n",
       "    </tr>\n",
       "    <tr>\n",
       "      <th>91</th>\n",
       "      <td>RB Leipzig</td>\n",
       "      <td>acbb6a5b</td>\n",
       "      <td>65000000</td>\n",
       "    </tr>\n",
       "    <tr>\n",
       "      <th>92</th>\n",
       "      <td>Stuttgart</td>\n",
       "      <td>598bc722</td>\n",
       "      <td>59872200</td>\n",
       "    </tr>\n",
       "    <tr>\n",
       "      <th>93</th>\n",
       "      <td>Union Berlin</td>\n",
       "      <td>7a41008f</td>\n",
       "      <td>74100800</td>\n",
       "    </tr>\n",
       "    <tr>\n",
       "      <th>94</th>\n",
       "      <td>Werder Bremen</td>\n",
       "      <td>62add3bf</td>\n",
       "      <td>62300000</td>\n",
       "    </tr>\n",
       "    <tr>\n",
       "      <th>95</th>\n",
       "      <td>Wolfsburg</td>\n",
       "      <td>4eaa11d7</td>\n",
       "      <td>41170000</td>\n",
       "    </tr>\n",
       "  </tbody>\n",
       "</table>\n",
       "<p>96 rows × 3 columns</p>\n",
       "</div>"
      ],
      "text/plain": [
       "           Nombre    id Web     id_ml\n",
       "0         Arsenal  18bb7c10  18710000\n",
       "1     Aston Villa  8602292d  86022920\n",
       "2     Bournemouth  4ba7cbea  47000000\n",
       "3       Brentford  cd051869  05186900\n",
       "4        Brighton  d07537b9  07537900\n",
       "..            ...       ...       ...\n",
       "91     RB Leipzig  acbb6a5b  65000000\n",
       "92      Stuttgart  598bc722  59872200\n",
       "93   Union Berlin  7a41008f  74100800\n",
       "94  Werder Bremen  62add3bf  62300000\n",
       "95      Wolfsburg  4eaa11d7  41170000\n",
       "\n",
       "[96 rows x 3 columns]"
      ]
     },
     "execution_count": 13,
     "metadata": {},
     "output_type": "execute_result"
    }
   ],
   "source": [
    "max_length = equiposA['id_ml'].str.len().max()\n",
    "\n",
    "# Aplicar zfill para igualar la longitud\n",
    "equiposA['id_ml'] = equiposA['id_ml'].str.pad(width=max_length, side='right', fillchar='0')\n",
    "equiposB['id_ml'] = equiposB['id_ml'].str.pad(width=max_length, side='right', fillchar='0')\n",
    "equiposA"
   ]
  },
  {
   "cell_type": "markdown",
   "metadata": {},
   "source": [
    "## compruebo que no hayan ids duplicados"
   ]
  },
  {
   "cell_type": "code",
   "execution_count": 14,
   "metadata": {},
   "outputs": [
    {
     "data": {
      "text/plain": [
       "0"
      ]
     },
     "execution_count": 14,
     "metadata": {},
     "output_type": "execute_result"
    }
   ],
   "source": [
    "dfs=[]\n",
    "for index, row in equiposA.iterrows():\n",
    "    equipo=row['id_ml']\n",
    "    df=equiposA[equiposA['id_ml']==equipo]\n",
    "    \n",
    "    if df.shape[0] != 1:\n",
    "        dfs.append(df)\n",
    "\n",
    "len(dfs)"
   ]
  },
  {
   "cell_type": "code",
   "execution_count": 15,
   "metadata": {},
   "outputs": [
    {
     "data": {
      "text/plain": [
       "0"
      ]
     },
     "execution_count": 15,
     "metadata": {},
     "output_type": "execute_result"
    }
   ],
   "source": [
    "dfs=[]\n",
    "for index, row in equiposB.iterrows():\n",
    "    equipo=row['id_ml']\n",
    "    df=equiposB[equiposB['id_ml']==equipo]\n",
    "    \n",
    "    if df.shape[0] != 1:\n",
    "        dfs.append(df)\n",
    "\n",
    "len(dfs)"
   ]
  },
  {
   "cell_type": "code",
   "execution_count": 19,
   "metadata": {},
   "outputs": [],
   "source": [
    "equiposA.to_csv(r'C:\\Users\\ARTUROS\\Desktop\\Archivos Adrian\\personal\\proyectos personales\\lacaprichosa\\dataset\\All_teamsA.csv',index=False)\n",
    "equiposB.to_csv(r'C:\\Users\\ARTUROS\\Desktop\\Archivos Adrian\\personal\\proyectos personales\\lacaprichosa\\dataset\\All_teamsB.csv',index=False)"
   ]
  },
  {
   "cell_type": "markdown",
   "metadata": {},
   "source": [
    "esto es solo la prueba para intentar crear la funcion que cree ids"
   ]
  },
  {
   "cell_type": "code",
   "execution_count": 49,
   "metadata": {},
   "outputs": [],
   "source": [
    "def lista_ids(cantidad, digitos):\n",
    "    lista=[123,321]\n",
    "    return lista\n",
    "\n",
    "def prueba():\n",
    "    listcantidades=[2]\n",
    "    listdigitos=[3]\n",
    "    \n",
    "    for cantidad, digito in zip(listcantidades,listdigitos):\n",
    "        \n",
    "        condicion = lambda x: len(x) == digito\n",
    "        lista=lista_ids(cantidad,listdigitos)\n",
    "        lista_de_cadenas = list(map(str, lista))\n",
    "        if (len(lista) != cantidad) or (len([elemento for elemento in lista_de_cadenas if condicion(elemento)])!= cantidad):\n",
    "            \n",
    "            return 'Reprobado' \n",
    "        \n",
    "    return 'Aprobado'\n",
    "    "
   ]
  }
 ],
 "metadata": {
  "kernelspec": {
   "display_name": "Python 3",
   "language": "python",
   "name": "python3"
  },
  "language_info": {
   "codemirror_mode": {
    "name": "ipython",
    "version": 3
   },
   "file_extension": ".py",
   "mimetype": "text/x-python",
   "name": "python",
   "nbconvert_exporter": "python",
   "pygments_lexer": "ipython3",
   "version": "3.11.4"
  },
  "orig_nbformat": 4
 },
 "nbformat": 4,
 "nbformat_minor": 2
}
