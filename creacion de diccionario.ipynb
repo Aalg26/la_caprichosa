{
 "cells": [
  {
   "cell_type": "code",
   "execution_count": null,
   "metadata": {},
   "outputs": [],
   "source": [
    "import pandas as pd\n",
    "import requests\n",
    "from bs4 import BeautifulSoup\n",
    "import time"
   ]
  },
  {
   "cell_type": "markdown",
   "metadata": {},
   "source": [
    "recolectar todos los marcadores y partidos en las ultimas 2 temporadas\n",
    "de cada equipo participante en laliga 23-24 en un archivo csv por equipo\n",
    "llamado: 'Desempeño (nombre_equipo) (años_de_la_muestra)"
   ]
  },
  {
   "cell_type": "code",
   "execution_count": null,
   "metadata": {},
   "outputs": [],
   "source": [
    "headers={'user-agent':'Mozilla/5.0 (Windows NT 10.0; Win64; x64) AppleWebKit/537.36 (KHTML, like Gecko) Chrome/116.0.0.0 Safari/537.36'}"
   ]
  },
  {
   "cell_type": "markdown",
   "metadata": {},
   "source": [
    "primero voy a obtener los codigos de los equipos"
   ]
  },
  {
   "cell_type": "code",
   "execution_count": null,
   "metadata": {},
   "outputs": [],
   "source": [
    "#url de la tabla con todos los equipos\n",
    "url='https://fbref.com/es/comps/12/Estadisticas-de-La-Liga' \n",
    "res=requests.get(url, headers=headers, timeout=10)\n",
    "soup= BeautifulSoup(res.text, 'html.parser')"
   ]
  },
  {
   "cell_type": "code",
   "execution_count": null,
   "metadata": {},
   "outputs": [],
   "source": [
    "#de la sopa obtengo todos los tbody\n",
    "tbodys=soup.find_all(\"tbody\")\n",
    "#entre los tbodys elijo el 11 y extraigo los tr\n",
    "trs=tbodys[11].find_all('tr')\n",
    "trs"
   ]
  },
  {
   "cell_type": "code",
   "execution_count": null,
   "metadata": {},
   "outputs": [],
   "source": [
    "ths=[]\n",
    "codigos=[]\n",
    "equipos=[]\n",
    "#a la lista llamada ths le agrego cada th de la clase left en forma de texto\n",
    "for tr in trs:\n",
    "   ths.append(str(tr.find('th', class_='left')))\n",
    "#parto cada th en 2 y luego lo vuelvo a dividir y me quedo solo con elemento que\n",
    "#contiene el codigo y lo agrego a la lista codigos y lo mismo para obtener los equipos\n",
    "for th in ths: \n",
    "   texto_split=th.split('href=\"/es/equipos/')\n",
    "   codigos.append(texto_split[1].split('/Estadisticas')[0].strip())\n",
    "   equipos.append(texto_split[1].split('>vs.')[1].split('</a>')[0].strip())"
   ]
  },
  {
   "cell_type": "code",
   "execution_count": null,
   "metadata": {},
   "outputs": [],
   "source": [
    "codigos\n",
    "equipos"
   ]
  },
  {
   "cell_type": "code",
   "execution_count": null,
   "metadata": {},
   "outputs": [],
   "source": [
    "#creo una lista para los dataframes con el historial de partidos \n",
    "dataframes=[]\n",
    "ediciones=['2021-2022','2022-2023']\n",
    "\n",
    "for i in codigos:\n",
    "    df=[]\n",
    "    for n in ediciones:\n",
    "        url=f'https://fbref.com/es/equipos/{i}/{n}/partidos/all_comps/schedule/'\n",
    "        pagina=pd.read_html(url)\n",
    "        df.append(pagina[0])\n",
    "        time.sleep(2)\n",
    "        \n",
    "    #añado a dataframes los dos datos de dfs correspondientes a los resultados de 2 tmporadas \n",
    "    #por cada equipo\n",
    "    dataframes.append(pd.concat([df[0],df[1]], ignore_index=True))\n",
    "\n",
    "    \n",
    "\n"
   ]
  },
  {
   "cell_type": "code",
   "execution_count": null,
   "metadata": {},
   "outputs": [],
   "source": [
    "dataframes[2]"
   ]
  },
  {
   "cell_type": "code",
   "execution_count": null,
   "metadata": {},
   "outputs": [],
   "source": [
    "\n",
    "\n",
    "\n"
   ]
  },
  {
   "cell_type": "code",
   "execution_count": null,
   "metadata": {},
   "outputs": [],
   "source": [
    "url='https://fbref.com/es/equipos/53a2f082/2021-2022/partidos/all_comps/schedule/Resultados-y-partidos-de-Real-Madrid-Todas-las-competencias'"
   ]
  },
  {
   "cell_type": "markdown",
   "metadata": {},
   "source": []
  },
  {
   "cell_type": "code",
   "execution_count": null,
   "metadata": {},
   "outputs": [],
   "source": [
    "pagina=pd.read_html(url)"
   ]
  },
  {
   "cell_type": "code",
   "execution_count": null,
   "metadata": {},
   "outputs": [],
   "source": [
    "len(pagina)"
   ]
  },
  {
   "cell_type": "markdown",
   "metadata": {},
   "source": [
    "CADA EQUIPO TIENE UN CODIGO TIPO HASH Y NECESITO HACER WEBSCRAPING PARA EN PRIMER LUGAR OBTENER CADA CODIGO"
   ]
  }
 ],
 "metadata": {
  "kernelspec": {
   "display_name": "Python 3",
   "language": "python",
   "name": "python3"
  },
  "language_info": {
   "codemirror_mode": {
    "name": "ipython",
    "version": 3
   },
   "file_extension": ".py",
   "mimetype": "text/x-python",
   "name": "python",
   "nbconvert_exporter": "python",
   "pygments_lexer": "ipython3",
   "version": "3.11.4"
  },
  "orig_nbformat": 4
 },
 "nbformat": 4,
 "nbformat_minor": 2
}
