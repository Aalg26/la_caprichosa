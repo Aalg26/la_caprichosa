{
 "cells": [
  {
   "cell_type": "code",
   "execution_count": 2,
   "metadata": {},
   "outputs": [],
   "source": [
    "import pandas as pd\n",
    "import requests\n",
    "from bs4 import BeautifulSoup\n",
    "import time\n",
    "import modulo as md"
   ]
  },
  {
   "cell_type": "code",
   "execution_count": 3,
   "metadata": {},
   "outputs": [],
   "source": [
    "headers={'user-agent':'Mozilla/5.0 (Windows NT 10.0; Win64; x64) AppleWebKit/537.36 (KHTML, like Gecko) Chrome/116.0.0.0 Safari/537.36'}"
   ]
  },
  {
   "cell_type": "markdown",
   "metadata": {},
   "source": [
    "## Funcion que se encarga de tomar todos los equipos en la lista de ligas que le de y ponerlos en un df junto con sus ids en la web"
   ]
  },
  {
   "cell_type": "code",
   "execution_count": 17,
   "metadata": {},
   "outputs": [],
   "source": [
    "#codigos ligas:\n",
    "\n",
    "all_leagues=[9,10,12,17,11,18,13,60,20,33]\n",
    "countries = {\n",
    "'England':[9,10],\n",
    "'Spain': [12,17],\n",
    "'Italy':[11,18],\n",
    "'France':[13,60],\n",
    "'Germany':[20,33]\n",
    "}"
   ]
  },
  {
   "cell_type": "code",
   "execution_count": 1,
   "metadata": {},
   "outputs": [],
   "source": [
    "def teams_df(ListLiguesNumbers):# ejemplo lista paises=[9,10],[12,17],[10,18],[13,60],[20,33]\n",
    "    equiposall=[]               #devuelve un df\n",
    "    codigosall=[]\n",
    "    \n",
    "    for liga in ListLiguesNumbers:\n",
    "\n",
    "        print(liga)\n",
    "        url=f'https://fbref.com/es/comps/{liga}'\n",
    "        res=requests.get(url, headers=headers)\n",
    "        equipos=md.get_teams(res)\n",
    "        time.sleep(1)\n",
    "        equiposall+=equipos[0]\n",
    "        codigosall+=equipos[1]\n",
    "            \n",
    "    columnas=['Nombre', 'id Web']\n",
    "    datos = {\n",
    "    'Nombre': equiposall,\n",
    "    'id Web': codigosall\n",
    "    }\n",
    "    equipos=pd.DataFrame(datos, columns=columnas)\n",
    "    equipos['id_ml']=equipos['id Web'].apply(md.get_numbers)\n",
    "    max_length = equipos['id_ml'].str.len().max()\n",
    "    equipos['id_ml'] = equipos['id_ml'].str.pad(width=max_length, side='right', fillchar='0')\n",
    "\n",
    "    \n",
    "    return equipos\n"
   ]
  },
  {
   "cell_type": "code",
   "execution_count": 11,
   "metadata": {},
   "outputs": [
    {
     "name": "stdout",
     "output_type": "stream",
     "text": [
      "9\n",
      "10\n",
      "12\n",
      "17\n",
      "11\n",
      "18\n",
      "13\n",
      "60\n",
      "20\n",
      "33\n"
     ]
    },
    {
     "data": {
      "text/html": [
       "<div>\n",
       "<style scoped>\n",
       "    .dataframe tbody tr th:only-of-type {\n",
       "        vertical-align: middle;\n",
       "    }\n",
       "\n",
       "    .dataframe tbody tr th {\n",
       "        vertical-align: top;\n",
       "    }\n",
       "\n",
       "    .dataframe thead th {\n",
       "        text-align: right;\n",
       "    }\n",
       "</style>\n",
       "<table border=\"1\" class=\"dataframe\">\n",
       "  <thead>\n",
       "    <tr style=\"text-align: right;\">\n",
       "      <th></th>\n",
       "      <th>Nombre</th>\n",
       "      <th>id Web</th>\n",
       "      <th>id_ml</th>\n",
       "    </tr>\n",
       "  </thead>\n",
       "  <tbody>\n",
       "    <tr>\n",
       "      <th>0</th>\n",
       "      <td>Arsenal</td>\n",
       "      <td>18bb7c10</td>\n",
       "      <td>18710000</td>\n",
       "    </tr>\n",
       "    <tr>\n",
       "      <th>1</th>\n",
       "      <td>Aston Villa</td>\n",
       "      <td>8602292d</td>\n",
       "      <td>86022920</td>\n",
       "    </tr>\n",
       "    <tr>\n",
       "      <th>2</th>\n",
       "      <td>Bournemouth</td>\n",
       "      <td>4ba7cbea</td>\n",
       "      <td>47000000</td>\n",
       "    </tr>\n",
       "    <tr>\n",
       "      <th>3</th>\n",
       "      <td>Brentford</td>\n",
       "      <td>cd051869</td>\n",
       "      <td>05186900</td>\n",
       "    </tr>\n",
       "    <tr>\n",
       "      <th>4</th>\n",
       "      <td>Brighton</td>\n",
       "      <td>d07537b9</td>\n",
       "      <td>07537900</td>\n",
       "    </tr>\n",
       "    <tr>\n",
       "      <th>...</th>\n",
       "      <td>...</td>\n",
       "      <td>...</td>\n",
       "      <td>...</td>\n",
       "    </tr>\n",
       "    <tr>\n",
       "      <th>195</th>\n",
       "      <td>Osnabrück</td>\n",
       "      <td>3ce4e72c</td>\n",
       "      <td>34720000</td>\n",
       "    </tr>\n",
       "    <tr>\n",
       "      <th>196</th>\n",
       "      <td>Paderborn 07</td>\n",
       "      <td>d9f93f02</td>\n",
       "      <td>99302000</td>\n",
       "    </tr>\n",
       "    <tr>\n",
       "      <th>197</th>\n",
       "      <td>Schalke 04</td>\n",
       "      <td>c539e393</td>\n",
       "      <td>53939300</td>\n",
       "    </tr>\n",
       "    <tr>\n",
       "      <th>198</th>\n",
       "      <td>St. Pauli</td>\n",
       "      <td>54864664</td>\n",
       "      <td>54864664</td>\n",
       "    </tr>\n",
       "    <tr>\n",
       "      <th>199</th>\n",
       "      <td>Wehen</td>\n",
       "      <td>432f2430</td>\n",
       "      <td>43224300</td>\n",
       "    </tr>\n",
       "  </tbody>\n",
       "</table>\n",
       "<p>200 rows × 3 columns</p>\n",
       "</div>"
      ],
      "text/plain": [
       "           Nombre    id Web     id_ml\n",
       "0         Arsenal  18bb7c10  18710000\n",
       "1     Aston Villa  8602292d  86022920\n",
       "2     Bournemouth  4ba7cbea  47000000\n",
       "3       Brentford  cd051869  05186900\n",
       "4        Brighton  d07537b9  07537900\n",
       "..            ...       ...       ...\n",
       "195     Osnabrück  3ce4e72c  34720000\n",
       "196  Paderborn 07  d9f93f02  99302000\n",
       "197    Schalke 04  c539e393  53939300\n",
       "198     St. Pauli  54864664  54864664\n",
       "199         Wehen  432f2430  43224300\n",
       "\n",
       "[200 rows x 3 columns]"
      ]
     },
     "execution_count": 11,
     "metadata": {},
     "output_type": "execute_result"
    }
   ],
   "source": [
    "all_teams=teams_df(all_leagues)\n",
    "all_teams"
   ]
  },
  {
   "cell_type": "markdown",
   "metadata": {},
   "source": [
    "## compruebo que no hayan ids duplicados"
   ]
  },
  {
   "cell_type": "code",
   "execution_count": 12,
   "metadata": {},
   "outputs": [
    {
     "data": {
      "text/plain": [
       "0"
      ]
     },
     "execution_count": 12,
     "metadata": {},
     "output_type": "execute_result"
    }
   ],
   "source": [
    "dfs=[]\n",
    "for index, row in all_teams.iterrows():\n",
    "    team=row['id_ml']\n",
    "    df=all_teams[all_teams['id_ml']==team]\n",
    "    \n",
    "    if df.shape[0] != 1:\n",
    "        dfs.append(df)\n",
    "\n",
    "len(dfs)"
   ]
  },
  {
   "cell_type": "code",
   "execution_count": 13,
   "metadata": {},
   "outputs": [],
   "source": [
    "all_teams.to_csv('/dataset/All_teams.csv',index=False)"
   ]
  },
  {
   "cell_type": "code",
   "execution_count": 18,
   "metadata": {},
   "outputs": [
    {
     "name": "stdout",
     "output_type": "stream",
     "text": [
      "9\n",
      "10\n",
      "12\n",
      "17\n",
      "11\n",
      "18\n",
      "13\n",
      "60\n",
      "20\n",
      "33\n"
     ]
    }
   ],
   "source": [
    "for key in countries.keys():\n",
    "    teams=teams_df(countries[key])\n",
    "    teams.to_csv(f'/dataset/{key}_teams.csv',index=False)\n",
    "\n",
    "        "
   ]
  },
  {
   "cell_type": "code",
   "execution_count": null,
   "metadata": {},
   "outputs": [],
   "source": []
  },
  {
   "cell_type": "markdown",
   "metadata": {},
   "source": [
    "esto es solo la prueba para intentar crear la funcion que cree ids"
   ]
  },
  {
   "cell_type": "code",
   "execution_count": 49,
   "metadata": {},
   "outputs": [],
   "source": [
    "def lista_ids(cantidad, digitos):\n",
    "    lista=[123,321]\n",
    "    return lista\n",
    "\n",
    "def prueba():\n",
    "    listcantidades=[2]\n",
    "    listdigitos=[3]\n",
    "    \n",
    "    for cantidad, digito in zip(listcantidades,listdigitos):\n",
    "        \n",
    "        condicion = lambda x: len(x) == digito\n",
    "        lista=lista_ids(cantidad,listdigitos)\n",
    "        lista_de_cadenas = list(map(str, lista))\n",
    "        if (len(lista) != cantidad) or (len([elemento for elemento in lista_de_cadenas if condicion(elemento)])!= cantidad):\n",
    "            \n",
    "            return 'Reprobado' \n",
    "        \n",
    "    return 'Aprobado'\n",
    "    "
   ]
  }
 ],
 "metadata": {
  "kernelspec": {
   "display_name": "Python 3",
   "language": "python",
   "name": "python3"
  },
  "language_info": {
   "codemirror_mode": {
    "name": "ipython",
    "version": 3
   },
   "file_extension": ".py",
   "mimetype": "text/x-python",
   "name": "python",
   "nbconvert_exporter": "python",
   "pygments_lexer": "ipython3",
   "version": "3.11.4"
  },
  "orig_nbformat": 4
 },
 "nbformat": 4,
 "nbformat_minor": 2
}
