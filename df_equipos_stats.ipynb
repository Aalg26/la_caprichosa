{
 "cells": [
  {
   "cell_type": "code",
   "execution_count": 1,
   "metadata": {},
   "outputs": [],
   "source": [
    "import pandas as pd\n",
    "import modulo as md\n",
    "import requests\n",
    "import time \n",
    "from bs4 import BeautifulSoup\n"
   ]
  },
  {
   "cell_type": "code",
   "execution_count": 2,
   "metadata": {},
   "outputs": [],
   "source": [
    "headers={'user-agent':'Mozilla/5.0 (Windows NT 10.0; Win64; x64) AppleWebKit/537.36 (KHTML, like Gecko) Chrome/116.0.0.0 Safari/537.36'}"
   ]
  },
  {
   "cell_type": "markdown",
   "metadata": {},
   "source": [
    "Estos son los equipos ingleses que estan en primera y segunda division en la temporada el año actual 2023-2024 sin embargo a los equipos que hayan estado en 2 divisiones en los ultimos años se tomaran como equipos de la menor division en la que hayan estado por ejemplo el Luton equipo recien ascendido a premier league aunque actualmente este en primera division en general será tratado como equipo de segunda division."
   ]
  },
  {
   "cell_type": "code",
   "execution_count": 3,
   "metadata": {},
   "outputs": [],
   "source": [
    "equipos_ingleses=pd.read_csv('dataset\\England_teams.csv')"
   ]
  },
  {
   "cell_type": "code",
   "execution_count": 4,
   "metadata": {},
   "outputs": [],
   "source": [
    "temporadas=md.listnEditions(5,2023)\n"
   ]
  },
  {
   "cell_type": "code",
   "execution_count": 5,
   "metadata": {},
   "outputs": [
    {
     "name": "stdout",
     "output_type": "stream",
     "text": [
      "El Bournemouth estuvo en segunda en la temporada 2021-2022 al momento van 2 equipos\n",
      "El Brentford estuvo en segunda en la temporada 2020-2021 al momento van 2 equipos\n",
      "El Burnley estuvo en segunda en la temporada 2022-2023 al momento van 3 equipos\n",
      "Chelsea 2020-2021\r"
     ]
    },
    {
     "ename": "KeyboardInterrupt",
     "evalue": "",
     "output_type": "error",
     "traceback": [
      "\u001b[1;31m---------------------------------------------------------------------------\u001b[0m",
      "\u001b[1;31mKeyboardInterrupt\u001b[0m                         Traceback (most recent call last)",
      "\u001b[1;32mc:\\Users\\ARTUROS\\Desktop\\Archivos Adrian\\personal\\proyectos personales\\lacaprichosa\\df_equipos_stats.ipynb Cell 6\u001b[0m line \u001b[0;36m2\n\u001b[0;32m     <a href='vscode-notebook-cell:/c%3A/Users/ARTUROS/Desktop/Archivos%20Adrian/personal/proyectos%20personales/lacaprichosa/df_equipos_stats.ipynb#W5sZmlsZQ%3D%3D?line=26'>27</a>\u001b[0m url\u001b[39m=\u001b[39m\u001b[39mf\u001b[39m\u001b[39m'\u001b[39m\u001b[39mhttps://fbref.com/es/equipos/\u001b[39m\u001b[39m{\u001b[39;00mcodigoE\u001b[39m}\u001b[39;00m\u001b[39m/\u001b[39m\u001b[39m{\u001b[39;00mtemporada\u001b[39m}\u001b[39;00m\u001b[39m/all_comps/\u001b[39m\u001b[39m'\u001b[39m\n\u001b[0;32m     <a href='vscode-notebook-cell:/c%3A/Users/ARTUROS/Desktop/Archivos%20Adrian/personal/proyectos%20personales/lacaprichosa/df_equipos_stats.ipynb#W5sZmlsZQ%3D%3D?line=27'>28</a>\u001b[0m res \u001b[39m=\u001b[39m requests\u001b[39m.\u001b[39mget(url, headers\u001b[39m=\u001b[39mheaders)\n\u001b[1;32m---> <a href='vscode-notebook-cell:/c%3A/Users/ARTUROS/Desktop/Archivos%20Adrian/personal/proyectos%20personales/lacaprichosa/df_equipos_stats.ipynb#W5sZmlsZQ%3D%3D?line=28'>29</a>\u001b[0m soup\u001b[39m=\u001b[39mBeautifulSoup(res\u001b[39m.\u001b[39;49mtext, \u001b[39m'\u001b[39;49m\u001b[39mhtml.parser\u001b[39;49m\u001b[39m'\u001b[39;49m)\n\u001b[0;32m     <a href='vscode-notebook-cell:/c%3A/Users/ARTUROS/Desktop/Archivos%20Adrian/personal/proyectos%20personales/lacaprichosa/df_equipos_stats.ipynb#W5sZmlsZQ%3D%3D?line=30'>31</a>\u001b[0m \u001b[39m#si el equipo en algun momento estuvo de otra division diferente a la 1 creo un diccionario con sus datos y lo agrego a una lista\u001b[39;00m\n\u001b[0;32m     <a href='vscode-notebook-cell:/c%3A/Users/ARTUROS/Desktop/Archivos%20Adrian/personal/proyectos%20personales/lacaprichosa/df_equipos_stats.ipynb#W5sZmlsZQ%3D%3D?line=31'>32</a>\u001b[0m \u001b[39m# de diccionarios de equipos descendidos\u001b[39;00m\n\u001b[0;32m     <a href='vscode-notebook-cell:/c%3A/Users/ARTUROS/Desktop/Archivos%20Adrian/personal/proyectos%20personales/lacaprichosa/df_equipos_stats.ipynb#W5sZmlsZQ%3D%3D?line=32'>33</a>\u001b[0m nivelactual\u001b[39m=\u001b[39mmd\u001b[39m.\u001b[39mleague_level(soup)\n",
      "File \u001b[1;32m~\\AppData\\Local\\Packages\\PythonSoftwareFoundation.Python.3.11_qbz5n2kfra8p0\\LocalCache\\local-packages\\Python311\\site-packages\\bs4\\__init__.py:335\u001b[0m, in \u001b[0;36mBeautifulSoup.__init__\u001b[1;34m(self, markup, features, builder, parse_only, from_encoding, exclude_encodings, element_classes, **kwargs)\u001b[0m\n\u001b[0;32m    333\u001b[0m \u001b[39mself\u001b[39m\u001b[39m.\u001b[39mbuilder\u001b[39m.\u001b[39minitialize_soup(\u001b[39mself\u001b[39m)\n\u001b[0;32m    334\u001b[0m \u001b[39mtry\u001b[39;00m:\n\u001b[1;32m--> 335\u001b[0m     \u001b[39mself\u001b[39;49m\u001b[39m.\u001b[39;49m_feed()\n\u001b[0;32m    336\u001b[0m     success \u001b[39m=\u001b[39m \u001b[39mTrue\u001b[39;00m\n\u001b[0;32m    337\u001b[0m     \u001b[39mbreak\u001b[39;00m\n",
      "File \u001b[1;32m~\\AppData\\Local\\Packages\\PythonSoftwareFoundation.Python.3.11_qbz5n2kfra8p0\\LocalCache\\local-packages\\Python311\\site-packages\\bs4\\__init__.py:478\u001b[0m, in \u001b[0;36mBeautifulSoup._feed\u001b[1;34m(self)\u001b[0m\n\u001b[0;32m    475\u001b[0m \u001b[39m# Convert the document to Unicode.\u001b[39;00m\n\u001b[0;32m    476\u001b[0m \u001b[39mself\u001b[39m\u001b[39m.\u001b[39mbuilder\u001b[39m.\u001b[39mreset()\n\u001b[1;32m--> 478\u001b[0m \u001b[39mself\u001b[39;49m\u001b[39m.\u001b[39;49mbuilder\u001b[39m.\u001b[39;49mfeed(\u001b[39mself\u001b[39;49m\u001b[39m.\u001b[39;49mmarkup)\n\u001b[0;32m    479\u001b[0m \u001b[39m# Close out any unfinished strings and close all the open tags.\u001b[39;00m\n\u001b[0;32m    480\u001b[0m \u001b[39mself\u001b[39m\u001b[39m.\u001b[39mendData()\n",
      "File \u001b[1;32m~\\AppData\\Local\\Packages\\PythonSoftwareFoundation.Python.3.11_qbz5n2kfra8p0\\LocalCache\\local-packages\\Python311\\site-packages\\bs4\\builder\\_htmlparser.py:380\u001b[0m, in \u001b[0;36mHTMLParserTreeBuilder.feed\u001b[1;34m(self, markup)\u001b[0m\n\u001b[0;32m    378\u001b[0m parser\u001b[39m.\u001b[39msoup \u001b[39m=\u001b[39m \u001b[39mself\u001b[39m\u001b[39m.\u001b[39msoup\n\u001b[0;32m    379\u001b[0m \u001b[39mtry\u001b[39;00m:\n\u001b[1;32m--> 380\u001b[0m     parser\u001b[39m.\u001b[39;49mfeed(markup)\n\u001b[0;32m    381\u001b[0m \u001b[39mexcept\u001b[39;00m \u001b[39mAssertionError\u001b[39;00m \u001b[39mas\u001b[39;00m e:\n\u001b[0;32m    382\u001b[0m     \u001b[39m# html.parser raises AssertionError in rare cases to\u001b[39;00m\n\u001b[0;32m    383\u001b[0m     \u001b[39m# indicate a fatal problem with the markup, especially\u001b[39;00m\n\u001b[0;32m    384\u001b[0m     \u001b[39m# when there's an error in the doctype declaration.\u001b[39;00m\n\u001b[0;32m    385\u001b[0m     \u001b[39mraise\u001b[39;00m ParserRejectedMarkup(e)\n",
      "File \u001b[1;32mC:\\Program Files\\WindowsApps\\PythonSoftwareFoundation.Python.3.11_3.11.1264.0_x64__qbz5n2kfra8p0\\Lib\\html\\parser.py:110\u001b[0m, in \u001b[0;36mHTMLParser.feed\u001b[1;34m(self, data)\u001b[0m\n\u001b[0;32m    104\u001b[0m \u001b[39m\u001b[39m\u001b[39mr\u001b[39m\u001b[39m\"\"\"Feed data to the parser.\u001b[39;00m\n\u001b[0;32m    105\u001b[0m \n\u001b[0;32m    106\u001b[0m \u001b[39mCall this as often as you want, with as little or as much text\u001b[39;00m\n\u001b[0;32m    107\u001b[0m \u001b[39mas you want (may include '\\n').\u001b[39;00m\n\u001b[0;32m    108\u001b[0m \u001b[39m\"\"\"\u001b[39;00m\n\u001b[0;32m    109\u001b[0m \u001b[39mself\u001b[39m\u001b[39m.\u001b[39mrawdata \u001b[39m=\u001b[39m \u001b[39mself\u001b[39m\u001b[39m.\u001b[39mrawdata \u001b[39m+\u001b[39m data\n\u001b[1;32m--> 110\u001b[0m \u001b[39mself\u001b[39;49m\u001b[39m.\u001b[39;49mgoahead(\u001b[39m0\u001b[39;49m)\n",
      "File \u001b[1;32mC:\\Program Files\\WindowsApps\\PythonSoftwareFoundation.Python.3.11_3.11.1264.0_x64__qbz5n2kfra8p0\\Lib\\html\\parser.py:168\u001b[0m, in \u001b[0;36mHTMLParser.goahead\u001b[1;34m(self, end)\u001b[0m\n\u001b[0;32m    166\u001b[0m \u001b[39mif\u001b[39;00m i \u001b[39m==\u001b[39m n: \u001b[39mbreak\u001b[39;00m\n\u001b[0;32m    167\u001b[0m startswith \u001b[39m=\u001b[39m rawdata\u001b[39m.\u001b[39mstartswith\n\u001b[1;32m--> 168\u001b[0m \u001b[39mif\u001b[39;00m startswith(\u001b[39m'\u001b[39;49m\u001b[39m<\u001b[39;49m\u001b[39m'\u001b[39;49m, i):\n\u001b[0;32m    169\u001b[0m     \u001b[39mif\u001b[39;00m starttagopen\u001b[39m.\u001b[39mmatch(rawdata, i): \u001b[39m# < + letter\u001b[39;00m\n\u001b[0;32m    170\u001b[0m         k \u001b[39m=\u001b[39m \u001b[39mself\u001b[39m\u001b[39m.\u001b[39mparse_starttag(i)\n",
      "\u001b[1;31mKeyboardInterrupt\u001b[0m: "
     ]
    }
   ],
   "source": [
    "def get_teams_mean(nivelliga,equipos,anios):\n",
    "#creo una lista donde voy a guardar 1 dataframe por equipo con el rendimiento de ese equipo durante las ultimas 5 temporadas\n",
    " \n",
    "    resultados=[]\n",
    "\n",
    "    '''defino una variable que me dice de en que division  deberian estar todos los equipos durante las temporadas,\n",
    "    a los equipos que esten en segunda division o hayan estado en segunda durante los ultimos 5 años solo les estudiare 3 años de su historial\n",
    "    y si durante esos 3 años estuvo en tercera division solo se le valeran los años que estuvo en primera o segunda.'''\n",
    "\n",
    "    nivelliga='1'\n",
    "\n",
    "    equipos_descendidos=[]\n",
    "    #recorro el dataframe que guarda todos los equipos \n",
    "    for index, row in equipos.iterrows():\n",
    "        #en el principio asumo que el equipo no ha descendido en las ultimas 5 temporadas\n",
    "        descendio=False\n",
    "        # elijo el equipo\n",
    "        nombre=row['Nombre']\n",
    "        codigoE=row['id Web']\n",
    "        anios_en_nivel=0\n",
    "\n",
    "        # creo una lista donde voy guardar los resulados del equipo en cada temporada\n",
    "        temporadas_equipo=[]\n",
    "\n",
    "        #recorro las temporadas obteniendo los datos del equipo esa temporada\n",
    "        for temporada in temporadas:\n",
    "            #muestro el equipo y la temporada que estoy scrapeando\n",
    "            print(nombre,temporada, end='\\r')\n",
    "            url=f'https://fbref.com/es/equipos/{codigoE}/{temporada}/all_comps/'\n",
    "            res = requests.get(url, headers=headers)\n",
    "            soup=BeautifulSoup(res.text, 'html.parser')\n",
    "\n",
    "            #si el equipo en algun momento estuvo de otra division diferente a la 1 creo un diccionario con sus datos y lo agrego a una lista\n",
    "            # de diccionarios de equipos descendidos\n",
    "            nivelactual=md.league_level(soup)\n",
    "            if nivelactual != nivelliga and anios_en_nivel < anios:\n",
    "\n",
    "                print('El ' + nombre+' estuvo en segunda en la temporada '+temporada + ' al momento van '+str(len(resultados))+ ' equipos', end='\\n\\r')\n",
    "                equipo_descendido={}\n",
    "                equipo_descendido['Nombre']=nombre\n",
    "                equipo_descendido['id Web']=codigoE\n",
    "                equipo_descendido['id_ml']=row['id_ml']\n",
    "                equipos_descendidos.append(equipo_descendido)\n",
    "                #activo descendio\n",
    "                descendio=True\n",
    "                #me salgo del bucle de temporadas\n",
    "                \n",
    "                break \n",
    "\n",
    "            #obtengo los resultados para el equipo en la temporada\n",
    "            equipo=md.get_players_mean(res,url)\n",
    "            #añado una columna llamada temporada donde guardare de que temporada es el registro\n",
    "            equipo['temporada']=temporada\n",
    "            #añado los resultados a la lista\n",
    "            temporadas_equipo.append(equipo)\n",
    "            anios_en_nivel+=1\n",
    "\n",
    "            \n",
    "\n",
    "        #si el equipo no descendio \n",
    "        if not descendio:\n",
    "            \n",
    "            #apilo todos los registros del equipo en un solo dataframe \n",
    "            resultado = pd.concat(temporadas_equipo, ignore_index=True)\n",
    "            resultados.append(resultado)\n",
    "\n",
    "    equipos = pd.concat(resultados, ignore_index=True)\n",
    "\n",
    "    return [equipos, equipos_descendidos]\n",
    "    \n",
    "        \n",
    "\n"
   ]
  },
  {
   "cell_type": "code",
   "execution_count": 23,
   "metadata": {},
   "outputs": [],
   "source": [
    "url='https://fbref.com/es/equipos/ee7c297c/2020-2021/all_comps/Estadisticas-de-Cadiz-Todas-las-competencias'\n",
    "res = requests.get(url, headers=headers)\n",
    "soup=BeautifulSoup(res.text, 'html.parser')"
   ]
  },
  {
   "cell_type": "code",
   "execution_count": 24,
   "metadata": {},
   "outputs": [
    {
     "data": {
      "text/plain": [
       "<div class=\"filter switcher\" data-controls=\"#switcher_stats_standard\">\n",
       "<div class=\"current\">\n",
       "<a class=\"sr_preset\" data-hide=\"#all_stats_standard .section_heading, #all_stats_standard .topscroll_div\" data-show=\".assoc_stats_standard_combined\">Todas las competencias</a>\n",
       "</div><div class=\"\">\n",
       "<a class=\"sr_preset\" data-hide=\"#all_stats_standard .section_heading, #all_stats_standard .topscroll_div\" data-show=\".assoc_stats_standard_12\">La Liga</a>\n",
       "</div><div class=\"\">\n",
       "<a class=\"sr_preset\" data-hide=\"#all_stats_standard .section_heading, #all_stats_standard .topscroll_div\" data-show=\".assoc_stats_standard_569\">Copa del Rey</a>\n",
       "</div></div>"
      ]
     },
     "execution_count": 24,
     "metadata": {},
     "output_type": "execute_result"
    }
   ],
   "source": [
    "\n",
    "# considero en cuantas competiciones participa el equipo para luego poder elegir las tablas \n",
    "\n",
    "tamaño=soup.find('div', class_='filter switcher')\n",
    "\n",
    "if  tamaño is None:\n",
    "     print('hola')\n"
   ]
  },
  {
   "cell_type": "code",
   "execution_count": 11,
   "metadata": {},
   "outputs": [],
   "source": [
    "if equipo[1] != '1':\n",
    "    print('si')"
   ]
  }
 ],
 "metadata": {
  "kernelspec": {
   "display_name": "Python 3",
   "language": "python",
   "name": "python3"
  },
  "language_info": {
   "codemirror_mode": {
    "name": "ipython",
    "version": 3
   },
   "file_extension": ".py",
   "mimetype": "text/x-python",
   "name": "python",
   "nbconvert_exporter": "python",
   "pygments_lexer": "ipython3",
   "version": "3.11.4"
  },
  "orig_nbformat": 4
 },
 "nbformat": 4,
 "nbformat_minor": 2
}
