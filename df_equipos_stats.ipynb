{
 "cells": [
  {
   "cell_type": "code",
   "execution_count": 1,
   "metadata": {},
   "outputs": [],
   "source": [
    "import pandas as pd\n",
    "import modulo as md\n",
    "import requests\n",
    "import time \n",
    "from bs4 import BeautifulSoup\n"
   ]
  },
  {
   "cell_type": "code",
   "execution_count": 2,
   "metadata": {},
   "outputs": [],
   "source": [
    "headers={'user-agent':'Mozilla/5.0 (Windows NT 10.0; Win64; x64) AppleWebKit/537.36 (KHTML, like Gecko) Chrome/116.0.0.0 Safari/537.36'}"
   ]
  },
  {
   "cell_type": "markdown",
   "metadata": {},
   "source": [
    "Estos son los equipos ingleses que estan en primera y segunda division en la temporada el año actual 2023-2024 sin embargo a los equipos que hayan estado en 2 divisiones en los ultimos años se tomaran como equipos de la menor division en la que hayan estado por ejemplo el Luton equipo recien ascendido a premier league aunque actualmente este en primera division en general será tratado como equipo de segunda division."
   ]
  },
  {
   "cell_type": "code",
   "execution_count": 3,
   "metadata": {},
   "outputs": [],
   "source": [
    "ingleses=pd.read_csv('dataset\\All_countries_teams\\England_teams.csv')\n",
    "españoles=pd.read_csv('dataset\\All_countries_teams\\Spain_teams.csv')\n",
    "italianos=pd.read_csv('dataset\\All_countries_teams\\Italy_teams.csv')\n",
    "franceses=pd.read_csv('dataset\\All_countries_teams\\France_teams.csv')\n",
    "alemanes=pd.read_csv('dataset\\All_countries_teams\\Germany_teams.csv')"
   ]
  },
  {
   "cell_type": "code",
   "execution_count": 4,
   "metadata": {},
   "outputs": [],
   "source": [
    "def get_teams_mean(league_level,teams,years:int):\n",
    "    league_level=int(league_level)\n",
    "    #league_level: la division de los equipos a los que les tomaras las medias\n",
    "    #teams: el dataframe donde se encuentran los equipos\n",
    "    #anios: la cantidad de años que debe estar el equipo en esa division para ser considerado parte de ella\n",
    "    \n",
    "    #creo una lista donde voy a guardar 1 dataframe por equipo con el rendimiento de ese equipo durante las ultimas 5 temporadas\n",
    " \n",
    "    resultados=[]\n",
    "\n",
    "    '''defino una variable que me dice de en que division  deberian estar todos los equipos durante las temporadas,\n",
    "    a los equipos que esten en segunda division o hayan estado en segunda durante los ultimos 5 años solo les estudiare 3 años de su historial\n",
    "    y si durante esos 3 años estuvo en tercera division solo se le valeran los años que estuvo en primera o segunda.'''\n",
    "    if league_level =='1':\n",
    "\n",
    "        temporadas=md.listnEditions(5,md.year())\n",
    "    else:\n",
    "        temporadas=md.listnEditions(3,md.year())\n",
    "\n",
    "    equipos_descendidos=[]\n",
    "    #recorro el dataframe que guarda todos los equipos \n",
    "    for index, row in teams.iterrows():\n",
    "        #en el principio asumo que el equipo no ha descendido en las ultimas 5 temporadas\n",
    "        descendio=False\n",
    "        # elijo el equipo\n",
    "        nombre=row['Nombre']\n",
    "        codigoE=row['id Web']\n",
    "        anios_en_nivel=0\n",
    "\n",
    "        # creo una lista donde voy guardar los resulados del equipo en cada temporada\n",
    "        temporadas_equipo=[]\n",
    "\n",
    "        #recorro las temporadas obteniendo los datos del equipo esa temporada\n",
    "        for temporada in temporadas:\n",
    "            #muestro el equipo y la temporada que estoy scrapeando\n",
    "            print(nombre,temporada, end='\\r')\n",
    "            url=f'https://fbref.com/es/equipos/{codigoE}/{temporada}/all_comps/'\n",
    "            res = requests.get(url, headers=headers)\n",
    "            soup=BeautifulSoup(res.text, 'html.parser')\n",
    "\n",
    "            #si el equipo en algun momento estuvo de otra division diferente a la 1 creo un diccionario con sus datos y lo agrego a una lista\n",
    "            # de diccionarios de equipos descendidos\n",
    "            nivelactual=md.league_level(soup)\n",
    "            if nivelactual is None:\n",
    "                nivelactual=5\n",
    "            if nivelactual > league_level and anios_en_nivel < years:\n",
    "\n",
    "                print('El ' + nombre+' estuvo en segunda en la temporada '+temporada + ' al momento van '+str(len(resultados))+ ' equipos', end='\\n\\r')\n",
    "                equipo_descendido={}\n",
    "                equipo_descendido['Nombre']=nombre\n",
    "                equipo_descendido['id Web']=codigoE\n",
    "                equipo_descendido['id_ml']=row['id_ml']\n",
    "                equipos_descendidos.append(equipo_descendido)\n",
    "                #activo descendio\n",
    "                descendio=True\n",
    "                #me salgo del bucle de temporadas\n",
    "                \n",
    "                break \n",
    "\n",
    "            #obtengo los resultados para el equipo en la temporada\n",
    "            equipo=md.get_players_mean(res,url)\n",
    "            #añado una columna llamada temporada donde guardare de que temporada es el registro\n",
    "            equipo['temporada']=temporada\n",
    "            #añado los resultados a la lista\n",
    "            temporadas_equipo.append(equipo)\n",
    "            anios_en_nivel+=1\n",
    "\n",
    "            \n",
    "\n",
    "        #si el equipo no descendio \n",
    "        if not descendio:\n",
    "            \n",
    "            #apilo todos los registros del equipo en un solo dataframe \n",
    "            resultado = pd.concat(temporadas_equipo, ignore_index=True)\n",
    "            resultados.append(resultado)\n",
    "\n",
    "    equipos = pd.concat(resultados, ignore_index=True)\n",
    "\n",
    "    equipos_descendidos=md.concat_dicts(equipos_descendidos)\n",
    "    \n",
    "    return [equipos, equipos_descendidos]\n",
    "    \n",
    "        \n",
    "\n"
   ]
  },
  {
   "cell_type": "code",
   "execution_count": 8,
   "metadata": {},
   "outputs": [
    {
     "name": "stdout",
     "output_type": "stream",
     "text": [
      "El Bournemouth estuvo en segunda en la temporada 2021-2022 al momento van 2 equipos\n",
      "El Brentford estuvo en segunda en la temporada 2020-2021 al momento van 2 equipos\n",
      "El Burnley estuvo en segunda en la temporada 2022-2023 al momento van 3 equipos\n",
      "El Fulham estuvo en segunda en la temporada 2021-2022 al momento van 6 equipos\n",
      "El Luton Town estuvo en segunda en la temporada 2022-2023 al momento van 7 equipos\n",
      "El Nott'ham Forest estuvo en segunda en la temporada 2021-2022 al momento van 10 equipos\n",
      "El Sheffield Utd estuvo en segunda en la temporada 2022-2023 al momento van 10 equipos\n",
      "El Birmingham City estuvo en segunda en la temporada 2022-2023 al momento van 13 equipos\n",
      "El Blackburn estuvo en segunda en la temporada 2022-2023 al momento van 13 equipos\n",
      "El Bristol City estuvo en segunda en la temporada 2022-2023 al momento van 13 equipos\n",
      "El Cardiff City estuvo en segunda en la temporada 2022-2023 al momento van 13 equipos\n",
      "El Coventry City estuvo en segunda en la temporada 2022-2023 al momento van 13 equipos\n",
      "El Huddersfield estuvo en segunda en la temporada 2022-2023 al momento van 13 equipos\n",
      "El Hull City estuvo en segunda en la temporada 2022-2023 al momento van 13 equipos\n",
      "El Ipswich Town estuvo en segunda en la temporada 2022-2023 al momento van 13 equipos\n",
      "El Middlesbrough estuvo en segunda en la temporada 2022-2023 al momento van 15 equipos\n",
      "El Millwall estuvo en segunda en la temporada 2022-2023 al momento van 15 equipos\n",
      "El Norwich City estuvo en segunda en la temporada 2022-2023 al momento van 15 equipos\n",
      "El Plymouth Argyle estuvo en segunda en la temporada 2022-2023 al momento van 15 equipos\n",
      "El Preston estuvo en segunda en la temporada 2022-2023 al momento van 15 equipos\n",
      "El QPR estuvo en segunda en la temporada 2022-2023 al momento van 15 equipos\n",
      "El Rotherham Utd estuvo en segunda en la temporada 2022-2023 al momento van 15 equipos\n",
      "El Sheffield Weds estuvo en segunda en la temporada 2022-2023 al momento van 15 equipos\n",
      "El Stoke City estuvo en segunda en la temporada 2022-2023 al momento van 16 equipos\n",
      "El Sunderland estuvo en segunda en la temporada 2022-2023 al momento van 16 equipos\n",
      "El Swansea City estuvo en segunda en la temporada 2022-2023 al momento van 16 equipos\n",
      "El Watford estuvo en segunda en la temporada 2022-2023 al momento van 16 equipos\n",
      "El West Brom estuvo en segunda en la temporada 2022-2023 al momento van 16 equipos\n",
      "\r"
     ]
    }
   ],
   "source": [
    "equipos_ingleses=get_teams_mean('1',ingleses,3)"
   ]
  },
  {
   "cell_type": "code",
   "execution_count": 29,
   "metadata": {},
   "outputs": [],
   "source": [
    "equipos_ingleses[0].to_csv('dataset/Equipos_primera/England.csv',index=False)"
   ]
  },
  {
   "cell_type": "code",
   "execution_count": 30,
   "metadata": {},
   "outputs": [],
   "source": [
    "equipos_ingleses[1].to_csv('dataset/Equipos_segunda/England.csv',index=False)"
   ]
  },
  {
   "cell_type": "code",
   "execution_count": 5,
   "metadata": {},
   "outputs": [
    {
     "name": "stdout",
     "output_type": "stream",
     "text": [
      "El Bochum estuvo en segunda en la temporada 2020-2021 al momento van 2 equipos\n",
      "El Darmstadt 98 estuvo en segunda en la temporada 2022-2023 al momento van 2 equipos\n",
      "El Heidenheim estuvo en segunda en la temporada 2022-2023 al momento van 5 equipos\n",
      "El Werder Bremen estuvo en segunda en la temporada 2021-2022 al momento van 13 equipos\n",
      "Braunschweig 2022-2023\r"
     ]
    }
   ],
   "source": [
    "equipos_alemanes=get_teams_mean('1',alemanes,3)"
   ]
  }
 ],
 "metadata": {
  "kernelspec": {
   "display_name": "Python 3",
   "language": "python",
   "name": "python3"
  },
  "language_info": {
   "codemirror_mode": {
    "name": "ipython",
    "version": 3
   },
   "file_extension": ".py",
   "mimetype": "text/x-python",
   "name": "python",
   "nbconvert_exporter": "python",
   "pygments_lexer": "ipython3",
   "version": "3.11.4"
  },
  "orig_nbformat": 4
 },
 "nbformat": 4,
 "nbformat_minor": 2
}
