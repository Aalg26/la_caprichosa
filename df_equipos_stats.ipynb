{
 "cells": [
  {
   "cell_type": "code",
   "execution_count": 1,
   "metadata": {},
   "outputs": [],
   "source": [
    "import pandas as pd\n",
    "import modulo as md\n",
    "import requests\n",
    "import time \n",
    "from bs4 import BeautifulSoup\n",
    "import numpy as np\n"
   ]
  },
  {
   "cell_type": "code",
   "execution_count": 2,
   "metadata": {},
   "outputs": [],
   "source": [
    "headers={'user-agent':'Mozilla/5.0 (Windows NT 10.0; Win64; x64) AppleWebKit/537.36 (KHTML, like Gecko) Chrome/116.0.0.0 Safari/537.36'}"
   ]
  },
  {
   "cell_type": "markdown",
   "metadata": {},
   "source": [
    "Estos son los equipos ingleses que estan en primera y segunda division en la temporada el año actual 2023-2024 sin embargo a los equipos que hayan estado en 2 divisiones en los ultimos años se tomaran como equipos de la menor division en la que hayan estado por ejemplo el Luton equipo recien ascendido a premier league aunque actualmente este en primera division en general será tratado como equipo de segunda division."
   ]
  },
  {
   "cell_type": "code",
   "execution_count": 5,
   "metadata": {},
   "outputs": [],
   "source": [
    "ingleses=pd.read_csv('dataset\\All_countries_teams\\England_teams.csv')\n",
    "españoles=pd.read_csv('dataset\\All_countries_teams\\Spain_teams.csv')\n",
    "italianos=pd.read_csv('dataset\\All_countries_teams\\Italy_teams.csv')\n",
    "franceses=pd.read_csv('dataset\\All_countries_teams\\France_teams.csv')\n",
    "alemanes=pd.read_csv('dataset\\All_countries_teams\\Germany_teams.csv')"
   ]
  },
  {
   "cell_type": "code",
   "execution_count": 3,
   "metadata": {},
   "outputs": [],
   "source": [
    "def descenso(nombre, codigoE,id_ml,temporada, resultados,equipos_descendidos):\n",
    "    print('El ' + nombre+' estuvo en segunda division en la temporada '+temporada + ' al momento van '+str(len(resultados))+ ' equipos', end='\\n\\r')\n",
    "    equipo_descendido={}\n",
    "    equipo_descendido['Nombre']=nombre\n",
    "    equipo_descendido['id Web']=codigoE\n",
    "    equipo_descendido['id_ml']=id_ml\n",
    "    equipos_descendidos.append(equipo_descendido)\n",
    "    #activo descendio\n",
    "    descendio=True\n",
    "    return descendio\n",
    "\n",
    "\n",
    "\n",
    "\n",
    "\n",
    "def get_top_teams_mean(teams,years:int):\n",
    "    league_level=1\n",
    "    \n",
    "    #league_level: la division de los equipos a los que les tomaras las medias\n",
    "    #teams: el dataframe donde se encuentran los equipos\n",
    "    #anios: la cantidad de años que debe estar el equipo en esa division para ser considerado parte de ella\n",
    "    \n",
    "    #creo una lista donde voy a guardar 1 dataframe por equipo con el rendimiento de ese equipo durante las ultimas 5 temporadas\n",
    " \n",
    "    resultados=[]\n",
    "\n",
    "    '''defino una variable que me dice de en que division  deberian estar todos los equipos durante las temporadas,\n",
    "    a los equipos que esten en segunda division o hayan estado en segunda durante los ultimos 5 años solo les estudiare 3 años de su historial\n",
    "    y si durante esos 3 años estuvo en tercera division solo se le valeran los años que estuvo en primera o segunda.'''\n",
    "    \n",
    "\n",
    "    temporadas=md.listnEditions(5,md.year())\n",
    "    \n",
    "\n",
    "    equipos_descendidos=[]\n",
    "    #recorro el dataframe que guarda todos los equipos \n",
    "    for index, row in teams.iterrows():\n",
    "        #en el principio asumo que el equipo no ha descendido en las ultimas 5 temporadas\n",
    "        descendio=False\n",
    "        # elijo el equipo\n",
    "        nombre=row['Nombre']\n",
    "        codigoE=row['id Web']\n",
    "        id_ml=row['id_ml']\n",
    "        anios_en_nivel=0\n",
    "        \n",
    "        # creo una lista donde voy guardar los resulados del equipo en cada temporada\n",
    "        temporadas_equipo=[]\n",
    "\n",
    "        #recorro las temporadas obteniendo los datos del equipo esa temporada\n",
    "        for temporada in temporadas:\n",
    "            #muestro el equipo y la temporada que estoy scrapeando\n",
    "            print(nombre,temporada, end='\\r')\n",
    "            url=f'https://fbref.com/es/equipos/{codigoE}/{temporada}/all_comps/'\n",
    "            res = requests.get(url, headers=headers)\n",
    "            soup=BeautifulSoup(res.text, 'html.parser')\n",
    "\n",
    "            #si el equipo en algun momento estuvo de otra division diferente a la 1 creo un diccionario con sus datos y lo agrego a una lista\n",
    "            # de diccionarios de equipos descendidos\n",
    "            nivelactual=md.league_level(soup)\n",
    "            \n",
    "            if not nivelactual:\n",
    "\n",
    "                descendio=descenso(nombre, codigoE,id_ml,temporada, resultados,equipos_descendidos)\n",
    "\n",
    "                break\n",
    "\n",
    "            nivelactual=int(nivelactual)\n",
    "            \n",
    "            if nivelactual > league_level and anios_en_nivel < years:\n",
    "\n",
    "                \n",
    "                descendio=descenso(nombre, codigoE,id_ml,temporada, resultados,equipos_descendidos)\n",
    "                \n",
    "                break \n",
    "\n",
    "            #obtengo los resultados para el equipo en la temporada\n",
    "            equipo=md.get_players_mean(res,url)\n",
    "            #añado una columna llamada temporada donde guardare de que temporada es el registro\n",
    "            equipo['temporada']=temporada\n",
    "            #añado los resultados a la lista\n",
    "            temporadas_equipo.append(equipo)\n",
    "            anios_en_nivel+=1\n",
    "\n",
    "\n",
    "        #si el equipo no descendio \n",
    "        if not descendio:\n",
    "            \n",
    "            #apilo todos los registros del equipo en un solo dataframe \n",
    "            resultado = pd.concat(temporadas_equipo, ignore_index=True)\n",
    "            resultados.append(resultado)\n",
    "\n",
    "    equipos = pd.concat(resultados, ignore_index=True)\n",
    "    if nivelactual:\n",
    "        equipos_descendidos=md.concat_dicts(equipos_descendidos)\n",
    "    \n",
    "    return [equipos, equipos_descendidos]\n",
    "    \n",
    "        \n",
    "\n"
   ]
  },
  {
   "cell_type": "code",
   "execution_count": 5,
   "metadata": {},
   "outputs": [
    {
     "name": "stdout",
     "output_type": "stream",
     "text": [
      "El Bournemouth estuvo en segunda en la temporada 2021-2022 al momento van 2 equipos\n",
      "El Brentford estuvo en segunda en la temporada 2020-2021 al momento van 2 equipos\n",
      "El Burnley estuvo en segunda en la temporada 2022-2023 al momento van 3 equipos\n",
      "El Fulham estuvo en segunda en la temporada 2021-2022 al momento van 6 equipos\n",
      "El Luton Town estuvo en segunda en la temporada 2022-2023 al momento van 7 equipos\n",
      "El Nott'ham Forest estuvo en segunda en la temporada 2021-2022 al momento van 10 equipos\n",
      "El Sheffield Utd estuvo en segunda en la temporada 2022-2023 al momento van 10 equipos\n",
      "El Birmingham City estuvo en segunda en la temporada 2022-2023 al momento van 13 equipos\n",
      "El Blackburn estuvo en segunda en la temporada 2022-2023 al momento van 13 equipos\n",
      "El Bristol City estuvo en segunda en la temporada 2022-2023 al momento van 13 equipos\n",
      "El Cardiff City estuvo en segunda en la temporada 2022-2023 al momento van 13 equipos\n",
      "El Coventry City estuvo en segunda en la temporada 2022-2023 al momento van 13 equipos\n",
      "El Huddersfield estuvo en segunda en la temporada 2022-2023 al momento van 13 equipos\n",
      "El Hull City estuvo en segunda en la temporada 2022-2023 al momento van 13 equipos\n",
      "El Ipswich Town estuvo en segunda en la temporada 2022-2023 al momento van 13 equipos\n",
      "El Middlesbrough estuvo en segunda en la temporada 2022-2023 al momento van 15 equipos\n",
      "El Millwall estuvo en segunda en la temporada 2022-2023 al momento van 15 equipos\n",
      "El Norwich City estuvo en segunda en la temporada 2022-2023 al momento van 15 equipos\n",
      "El Plymouth Argyle estuvo en segunda en la temporada 2022-2023 al momento van 15 equipos\n",
      "El Preston estuvo en segunda en la temporada 2022-2023 al momento van 15 equipos\n",
      "El QPR estuvo en segunda en la temporada 2022-2023 al momento van 15 equipos\n",
      "El Rotherham Utd estuvo en segunda en la temporada 2022-2023 al momento van 15 equipos\n",
      "El Sheffield Weds estuvo en segunda en la temporada 2022-2023 al momento van 15 equipos\n",
      "El Stoke City estuvo en segunda en la temporada 2022-2023 al momento van 16 equipos\n",
      "El Sunderland estuvo en segunda en la temporada 2022-2023 al momento van 16 equipos\n",
      "El Swansea City estuvo en segunda en la temporada 2022-2023 al momento van 16 equipos\n",
      "El Watford estuvo en segunda en la temporada 2022-2023 al momento van 16 equipos\n",
      "El West Brom estuvo en segunda en la temporada 2022-2023 al momento van 16 equipos\n",
      "\r"
     ]
    }
   ],
   "source": [
    "equipos_ingleses=get_top_teams_mean(ingleses,3)"
   ]
  },
  {
   "cell_type": "code",
   "execution_count": 6,
   "metadata": {},
   "outputs": [],
   "source": [
    "equipos_ingleses[0].to_csv('dataset/Equipos_primera/England.csv',index=False)\n",
    "equipos_ingleses[1].to_csv('dataset/Equipos_segunda/England.csv',index=False)"
   ]
  },
  {
   "cell_type": "code",
   "execution_count": 7,
   "metadata": {},
   "outputs": [
    {
     "name": "stdout",
     "output_type": "stream",
     "text": [
      "Augsburg 2022-2023\r"
     ]
    },
    {
     "name": "stdout",
     "output_type": "stream",
     "text": [
      "El Bochum estuvo en segunda en la temporada 2020-2021 al momento van 2 equipos\n",
      "El Darmstadt 98 estuvo en segunda en la temporada 2022-2023 al momento van 2 equipos\n",
      "El Heidenheim estuvo en segunda en la temporada 2022-2023 al momento van 5 equipos\n",
      "El Werder Bremen estuvo en segunda en la temporada 2021-2022 al momento van 13 equipos\n",
      "El Braunschweig estuvo en segunda en la temporada 2022-2023 al momento van 14 equipos\n",
      "El Düsseldorf estuvo en segunda en la temporada 2022-2023 al momento van 14 equipos\n",
      "El Elversberg estuvo en segunda en la temporada 2022-2023 al momento van 14 equipos\n",
      "El Greuther Fürth estuvo en segunda en la temporada 2022-2023 al momento van 14 equipos\n",
      "El Hamburger SV estuvo en segunda en la temporada 2022-2023 al momento van 14 equipos\n",
      "El Hannover 96 estuvo en segunda en la temporada 2022-2023 al momento van 14 equipos\n",
      "El Hansa Rostock estuvo en segunda en la temporada 2022-2023 al momento van 14 equipos\n",
      "El Holstein Kiel estuvo en segunda en la temporada 2022-2023 al momento van 15 equipos\n",
      "El Kaiserslautern estuvo en segunda en la temporada 2022-2023 al momento van 15 equipos\n",
      "El Karlsruher estuvo en segunda en la temporada 2022-2023 al momento van 15 equipos\n",
      "El Magdeburg estuvo en segunda en la temporada 2022-2023 al momento van 15 equipos\n",
      "El Nürnberg estuvo en segunda en la temporada 2022-2023 al momento van 15 equipos\n",
      "El Osnabrück estuvo en segunda en la temporada 2022-2023 al momento van 15 equipos\n",
      "El Paderborn 07 estuvo en segunda en la temporada 2022-2023 al momento van 15 equipos\n",
      "El Schalke 04 estuvo en segunda en la temporada 2021-2022 al momento van 15 equipos\n",
      "El St. Pauli estuvo en segunda en la temporada 2022-2023 al momento van 15 equipos\n",
      "El Wehen estuvo en segunda en la temporada 2022-2023 al momento van 15 equipos\n",
      "\r"
     ]
    }
   ],
   "source": [
    "equipos_alemanes=get_top_teams_mean(alemanes,3)"
   ]
  },
  {
   "cell_type": "code",
   "execution_count": 8,
   "metadata": {},
   "outputs": [],
   "source": [
    "equipos_alemanes[0].to_csv('dataset/Equipos_primera/Germany.csv',index=False)\n",
    "equipos_alemanes[1].to_csv('dataset/Equipos_segunda/Germany.csv',index=False)"
   ]
  },
  {
   "cell_type": "code",
   "execution_count": 9,
   "metadata": {},
   "outputs": [
    {
     "name": "stdout",
     "output_type": "stream",
     "text": [
      "El Clermont Foot estuvo en segunda en la temporada 2020-2021 al momento van 1 equipos\n",
      "El Le Havre estuvo en segunda en la temporada 2022-2023 al momento van 1 equipos\n",
      "El Metz estuvo en segunda en la temporada 2022-2023 al momento van 6 equipos\n",
      "El Toulouse estuvo en segunda en la temporada 2021-2022 al momento van 14 equipos\n",
      "El Ajaccio estuvo en segunda en la temporada 2021-2022 al momento van 14 equipos\n",
      "El Amiens estuvo en segunda en la temporada 2022-2023 al momento van 14 equipos\n",
      "El Annecy estuvo en segunda en la temporada 2022-2023 al momento van 15 equipos\n",
      "El Auxerre estuvo en segunda en la temporada 2021-2022 al momento van 15 equipos\n",
      "El Bastia estuvo en segunda en la temporada 2022-2023 al momento van 15 equipos\n",
      "El Bordeaux estuvo en segunda en la temporada 2022-2023 al momento van 15 equipos\n",
      "El Caen estuvo en segunda en la temporada 2022-2023 al momento van 15 equipos\n",
      "El Dunkerque estuvo en segunda en la temporada 2022-2023 al momento van 15 equipos\n",
      "El Grenoble estuvo en segunda en la temporada 2022-2023 al momento van 15 equipos\n",
      "El Guingamp estuvo en segunda en la temporada 2022-2023 al momento van 15 equipos\n",
      "El Paris FC estuvo en segunda en la temporada 2022-2023 al momento van 15 equipos\n",
      "El Pau FC estuvo en segunda en la temporada 2022-2023 al momento van 15 equipos\n",
      "El Quevilly-Rouen estuvo en segunda en la temporada 2022-2023 al momento van 15 equipos\n",
      "El Rodez Aveyron estuvo en segunda en la temporada 2022-2023 al momento van 15 equipos\n",
      "El Saint-Étienne estuvo en segunda en la temporada 2022-2023 al momento van 15 equipos\n",
      "El Stade Laval estuvo en segunda en la temporada 2022-2023 al momento van 15 equipos\n",
      "El Troyes estuvo en segunda en la temporada 2020-2021 al momento van 15 equipos\n",
      "El US Concarneau estuvo en segunda en la temporada 2022-2023 al momento van 15 equipos\n",
      "El Valenciennes estuvo en segunda en la temporada 2022-2023 al momento van 15 equipos\n",
      "\r"
     ]
    }
   ],
   "source": [
    "equipos_franceses=get_top_teams_mean(franceses,3)"
   ]
  },
  {
   "cell_type": "code",
   "execution_count": 10,
   "metadata": {},
   "outputs": [],
   "source": [
    "equipos_franceses[0].to_csv('dataset/Equipos_primera/France.csv',index=False)\n",
    "equipos_franceses[1].to_csv('dataset/Equipos_segunda/France.csv',index=False)"
   ]
  },
  {
   "cell_type": "code",
   "execution_count": 11,
   "metadata": {},
   "outputs": [
    {
     "name": "stdout",
     "output_type": "stream",
     "text": [
      "El Alavés estuvo en segunda en la temporada 2022-2023 al momento van 0 equipos\n",
      "El Almería estuvo en segunda en la temporada 2021-2022 al momento van 0 equipos\n",
      "El Girona estuvo en segunda en la temporada 2021-2022 al momento van 7 equipos\n",
      "El Granada estuvo en segunda en la temporada 2022-2023 al momento van 7 equipos\n",
      "El Las Palmas estuvo en segunda en la temporada 2022-2023 al momento van 7 equipos\n",
      "El Mallorca estuvo en segunda en la temporada 2020-2021 al momento van 7 equipos\n",
      "El Rayo Vallecano estuvo en segunda en la temporada 2020-2021 al momento van 8 equipos\n",
      "El Albacete estuvo en segunda en la temporada 2022-2023 al momento van 13 equipos\n",
      "El Alcorcón estuvo en segunda en la temporada 2022-2023 al momento van 13 equipos\n",
      "El Burgos estuvo en segunda en la temporada 2022-2023 al momento van 13 equipos\n",
      "El Cartagena estuvo en segunda en la temporada 2022-2023 al momento van 13 equipos\n",
      "El CD Eldense estuvo en segunda en la temporada 2022-2023 al momento van 13 equipos\n",
      "El CD Mirandés estuvo en segunda en la temporada 2022-2023 al momento van 13 equipos\n",
      "El Eibar estuvo en segunda en la temporada 2022-2023 al momento van 13 equipos\n",
      "El Espanyol estuvo en segunda en la temporada 2020-2021 al momento van 14 equipos\n",
      "El FC Andorra estuvo en segunda en la temporada 2022-2023 al momento van 14 equipos\n",
      "El Huesca estuvo en segunda en la temporada 2022-2023 al momento van 14 equipos\n",
      "El Leganés estuvo en segunda en la temporada 2022-2023 al momento van 14 equipos\n",
      "El Levante estuvo en segunda en la temporada 2022-2023 al momento van 14 equipos\n",
      "El Oviedo estuvo en segunda en la temporada 2022-2023 al momento van 14 equipos\n",
      "El Racing Ferrol estuvo en segunda en la temporada 2022-2023 al momento van 14 equipos\n",
      "El Racing Sant estuvo en segunda en la temporada 2022-2023 al momento van 14 equipos\n",
      "El SD Amorebieta estuvo en segunda en la temporada 2022-2023 al momento van 14 equipos\n",
      "El Sporting Gijón estuvo en segunda en la temporada 2022-2023 al momento van 14 equipos\n",
      "El Tenerife estuvo en segunda en la temporada 2022-2023 al momento van 14 equipos\n",
      "El Valladolid estuvo en segunda en la temporada 2021-2022 al momento van 14 equipos\n",
      "El Villarreal B estuvo en segunda en la temporada 2022-2023 al momento van 14 equipos\n",
      "El Zaragoza estuvo en segunda en la temporada 2022-2023 al momento van 14 equipos\n",
      "\r"
     ]
    }
   ],
   "source": [
    "equipos_españoles=get_top_teams_mean(españoles,3)"
   ]
  },
  {
   "cell_type": "code",
   "execution_count": 12,
   "metadata": {},
   "outputs": [],
   "source": [
    "equipos_españoles[0].to_csv('dataset/Equipos_primera/Spain.csv',index=False)\n",
    "equipos_españoles[1].to_csv('dataset/Equipos_segunda/Spain.csv',index=False)"
   ]
  },
  {
   "cell_type": "code",
   "execution_count": 8,
   "metadata": {},
   "outputs": [
    {
     "name": "stdout",
     "output_type": "stream",
     "text": [
      "El Cagliari estuvo en segunda division en la temporada 2022-2023 al momento van 2 equipos\n",
      "El Empoli estuvo en segunda division en la temporada 2020-2021 al momento van 2 equipos\n",
      "El Frosinone estuvo en segunda division en la temporada 2022-2023 al momento van 3 equipos\n",
      "El Genoa estuvo en segunda division en la temporada 2022-2023 al momento van 3 equipos\n",
      "El Lecce estuvo en segunda division en la temporada 2021-2022 al momento van 7 equipos\n",
      "El Monza estuvo en segunda division en la temporada 2021-2022 al momento van 8 equipos\n",
      "El Salernitana estuvo en segunda division en la temporada 2020-2021 al momento van 10 equipos\n",
      "El Ascoli estuvo en segunda division en la temporada 2022-2023 al momento van 13 equipos\n",
      "El Bari estuvo en segunda division en la temporada 2022-2023 al momento van 13 equipos\n",
      "El Brescia estuvo en segunda division en la temporada 2022-2023 al momento van 13 equipos\n",
      "El Calcio Lecco 1912 estuvo en segunda division en la temporada 2022-2023 al momento van 13 equipos\n",
      "El Catanzaro estuvo en segunda division en la temporada 2022-2023 al momento van 13 equipos\n",
      "El Cittadella estuvo en segunda division en la temporada 2022-2023 al momento van 13 equipos\n",
      "El Como estuvo en segunda division en la temporada 2022-2023 al momento van 13 equipos\n",
      "El Cosenza estuvo en segunda division en la temporada 2022-2023 al momento van 13 equipos\n",
      "El Cremonese estuvo en segunda division en la temporada 2021-2022 al momento van 13 equipos\n",
      "El FeralpiSalò estuvo en segunda division en la temporada 2022-2023 al momento van 13 equipos\n",
      "El Modena estuvo en segunda division en la temporada 2022-2023 al momento van 13 equipos\n",
      "El Palermo estuvo en segunda division en la temporada 2022-2023 al momento van 13 equipos\n",
      "El Parma estuvo en segunda division en la temporada 2022-2023 al momento van 13 equipos\n",
      "El Pisa estuvo en segunda division en la temporada 2022-2023 al momento van 13 equipos\n",
      "El Reggiana estuvo en segunda division en la temporada 2022-2023 al momento van 13 equipos\n",
      "El Südtirol estuvo en segunda division en la temporada 2022-2023 al momento van 15 equipos\n",
      "El Ternana estuvo en segunda division en la temporada 2022-2023 al momento van 15 equipos\n",
      "El Venezia estuvo en segunda division en la temporada 2022-2023 al momento van 15 equipos\n",
      "\r"
     ]
    }
   ],
   "source": [
    "equipos_italianos=get_top_teams_mean(italianos,3)"
   ]
  },
  {
   "cell_type": "code",
   "execution_count": 10,
   "metadata": {},
   "outputs": [],
   "source": [
    "equipos_italianos[0].to_csv('dataset/Equipos_primera/Italy.csv',index=False)\n",
    "equipos_italianos[1].to_csv('dataset/Equipos_segunda/Italy.csv',index=False)"
   ]
  },
  {
   "cell_type": "markdown",
   "metadata": {},
   "source": []
  },
  {
   "cell_type": "code",
   "execution_count": 4,
   "metadata": {},
   "outputs": [],
   "source": [
    "def get_second_teams_mean(teams):\n",
    "    league_level=2\n",
    "    \n",
    "    #league_level: la division de los equipos a los que les tomaras las medias\n",
    "    #teams: el dataframe donde se encuentran los equipos\n",
    "    #anios: la cantidad de años que debe estar el equipo en esa division para ser considerado parte de ella\n",
    "    \n",
    "    #creo una lista donde voy a guardar 1 dataframe por equipo con el rendimiento de ese equipo durante las ultimas 5 temporadas\n",
    " \n",
    "    resultados=[]\n",
    "\n",
    "    '''defino una variable que me dice de en que division  deberian estar todos los equipos durante las temporadas,\n",
    "    a los equipos que esten en segunda division o hayan estado en segunda durante los ultimos 5 años solo les estudiare 3 años de su historial\n",
    "    y si durante esos 3 años estuvo en tercera division solo se le valeran los años que estuvo en primera o segunda.'''\n",
    "    \n",
    "\n",
    "    temporadas=md.listnEditions(3,md.year())\n",
    "    \n",
    "    #recorro el dataframe que guarda todos los equipos \n",
    "    for index, row in teams.iterrows():\n",
    "        #en el principio asumo que el equipo no ha descendido en las ultimas 5 temporadas\n",
    "        \n",
    "        # elijo el equipo\n",
    "        nombre=row['Nombre']\n",
    "        codigoE=row['id Web']\n",
    "       \n",
    "        # creo una lista donde voy guardar los resulados del equipo en cada temporada\n",
    "        temporadas_equipo=[]\n",
    "\n",
    "        #recorro las temporadas obteniendo los datos del equipo esa temporada\n",
    "        for temporada in temporadas:\n",
    "            #muestro el equipo y la temporada que estoy scrapeando\n",
    "            print(nombre,temporada, end='\\r')\n",
    "            url=f'https://fbref.com/es/equipos/{codigoE}/{temporada}/all_comps/'\n",
    "            res = requests.get(url, headers=headers)\n",
    "            soup=BeautifulSoup(res.text, 'html.parser')\n",
    "\n",
    "            #si el equipo en algun momento estuvo de otra division diferente a la 1 creo un diccionario con sus datos y lo agrego a una lista\n",
    "            # de diccionarios de equipos descendidos\n",
    "            nivelactual=md.league_level(soup)\n",
    "            \n",
    "            if not nivelactual:\n",
    "                print(f'la temporada {temporada} del {nombre} no cuenta para el registro')\n",
    "                break\n",
    "\n",
    "            nivelactual=int(nivelactual)\n",
    "            \n",
    "            if nivelactual > league_level:\n",
    "                print(f'la temporada {temporada} del {nombre} no cuenta para el registro')\n",
    "                break \n",
    "            \n",
    "            \n",
    "            #obtengo los resultados para el equipo en la temporada\n",
    "            equipo=md.get_players_mean(res,url)\n",
    "            if  equipo.empty:\n",
    "                print(f'la temporada {temporada} del {nombre} no cuenta para el registro')\n",
    "                break\n",
    "            #añado una columna llamada temporada donde guardare de que temporada es el registro\n",
    "            equipo['temporada']=temporada\n",
    "            #añado los resultados a la lista\n",
    "            temporadas_equipo.append(equipo)\n",
    "            \n",
    "\n",
    "        if len(temporadas_equipo) > 1:\n",
    "        #apilo todos los registros del equipo en un solo dataframe \n",
    "            resultado = pd.concat(temporadas_equipo, ignore_index=True)\n",
    "            resultados.append(resultado)\n",
    "        elif len(temporadas_equipo)==1:\n",
    "            \n",
    "            resultado=temporadas_equipo[0]\n",
    "            resultados.append(resultado)\n",
    "        \n",
    "        \n",
    "        print(len(resultados))\n",
    "    equipos = pd.concat(resultados, ignore_index=True)\n",
    "    \n",
    "    \n",
    "    return equipos"
   ]
  },
  {
   "cell_type": "code",
   "execution_count": 5,
   "metadata": {},
   "outputs": [],
   "source": [
    "second_england=pd.read_csv('dataset\\Equipos_segunda\\England.csv')\n",
    "second_france=pd.read_csv('dataset\\Equipos_segunda\\France.csv')\n",
    "second_germany=pd.read_csv('dataset\\Equipos_segunda\\Germany.csv')\n",
    "second_italy=pd.read_csv('dataset\\Equipos_segunda\\Italy.csv')\n",
    "second_spain=pd.read_csv('dataset\\Equipos_segunda\\Spain.csv')"
   ]
  },
  {
   "cell_type": "code",
   "execution_count": 13,
   "metadata": {},
   "outputs": [
    {
     "name": "stdout",
     "output_type": "stream",
     "text": [
      "1ournemouth 2020-2021\n",
      "2rentford 2020-2021\n",
      "3urnley 2020-2021\n",
      "4ulham 2020-2021\n",
      "5uton Town 2020-2021\n",
      "6ott'ham Forest 2020-2021\n",
      "7heffield Utd 2020-2021\n",
      "8irmingham City 2020-2021\n",
      "9lackburn 2020-2021\n",
      "10istol City 2020-2021\n",
      "11rdiff City 2020-2021\n",
      "12ventry City 2020-2021\n",
      "13ddersfield 2020-2021\n",
      "la temporada 2020-2021 del Hull City no cuenta para el registro\n",
      "14\n",
      "la temporada 2022-2023 del Ipswich Town no cuenta para el registro\n",
      "14\n",
      "15ddlesbrough 2020-2021\n",
      "16llwall 2020-2021\n",
      "17rwich City 2020-2021\n",
      "la temporada 2022-2023 del Plymouth Argyle no cuenta para el registro\n",
      "17\n",
      "18eston 2020-2021\n",
      "19R 2020-2021\n",
      "la temporada 2021-2022 del Rotherham Utd no cuenta para el registro\n",
      "20\n",
      "la temporada 2022-2023 del Sheffield Weds no cuenta para el registro\n",
      "20\n",
      "21oke City 2020-2021\n",
      "la temporada 2021-2022 del Sunderland no cuenta para el registro\n",
      "22\n",
      "23ansea City 2020-2021\n",
      "24tford 2020-2021\n",
      "25st Brom 2020-2021\n"
     ]
    }
   ],
   "source": [
    "second_england_mean=get_second_teams_mean(second_england)"
   ]
  },
  {
   "cell_type": "code",
   "execution_count": 15,
   "metadata": {},
   "outputs": [],
   "source": [
    "second_england_mean.to_csv('dataset\\Equipos_segunda\\England.csv', index=False)"
   ]
  },
  {
   "cell_type": "code",
   "execution_count": 18,
   "metadata": {},
   "outputs": [
    {
     "name": "stdout",
     "output_type": "stream",
     "text": [
      "1lermont Foot 2020-2021\n",
      "2e Havre 2020-2021\n",
      "3etz 2020-2021\n",
      "4oulouse 2020-2021\n",
      "5jaccio 2020-2021\n",
      "6miens 2020-2021\n",
      "la temporada 2021-2022 del Annecy no cuenta para el registro\n",
      "7\n",
      "8uxerre 2020-2021\n",
      "la temporada 2020-2021 del Bastia no cuenta para el registro\n",
      "9\n",
      "10rdeaux 2020-2021\n",
      "11en 2020-2021\n",
      "la temporada 2022-2023 del Dunkerque no cuenta para el registro\n",
      "11\n",
      "12enoble 2020-2021\n",
      "13ingamp 2020-2021\n",
      "14ris FC 2020-2021\n",
      "15u FC 2020-2021\n",
      "la temporada 2020-2021 del Quevilly-Rouen no cuenta para el registro\n",
      "16\n",
      "17dez Aveyron 2020-2021\n",
      "18int-Étienne 2020-2021\n",
      "la temporada 2021-2022 del Stade Laval no cuenta para el registro\n",
      "19\n",
      "20oyes 2020-2021\n",
      "la temporada 2022-2023 del US Concarneau no cuenta para el registro\n",
      "20\n",
      "21lenciennes 2020-2021\n"
     ]
    }
   ],
   "source": [
    "second_france_mean=get_second_teams_mean(second_france)"
   ]
  },
  {
   "cell_type": "code",
   "execution_count": null,
   "metadata": {},
   "outputs": [],
   "source": [
    "second_france_mean.to_csv('dataset\\Equipos_segunda\\England.csv', index=False)\n"
   ]
  },
  {
   "cell_type": "code",
   "execution_count": 8,
   "metadata": {},
   "outputs": [
    {
     "name": "stdout",
     "output_type": "stream",
     "text": [
      "1ochum 2020-2021\n",
      "2armstadt 98 2020-2021\n",
      "3eidenheim 2020-2021\n",
      "4erder Bremen 2020-2021\n",
      "la temporada 2021-2022 del Braunschweig no cuenta para el registro\n",
      "5\n",
      "6üsseldorf 2020-2021\n",
      "la temporada 2022-2023 del Elversberg no cuenta para el registro\n",
      "6\n",
      "7reuther Fürth 2020-2021\n",
      "8amburger SV 2020-2021\n",
      "9annover 96 2020-2021\n",
      "la temporada 2020-2021 del Hansa Rostock no cuenta para el registro\n",
      "10\n",
      "11lstein Kiel 2020-2021\n",
      "la temporada 2021-2022 del Kaiserslautern no cuenta para el registro\n",
      "12\n",
      "13rlsruher 2020-2021\n",
      "la temporada 2021-2022 del Magdeburg no cuenta para el registro\n",
      "14\n",
      "15rnberg 2020-2021\n",
      "la temporada 2022-2023 del Osnabrück no cuenta para el registro\n",
      "15\n",
      "16derborn 07 2020-2021\n",
      "17halke 04 2020-2021\n",
      "18. Pauli 2020-2021\n",
      "la temporada 2022-2023 del Wehen no cuenta para el registro\n",
      "18\n"
     ]
    }
   ],
   "source": [
    "second_germany_mean=get_second_teams_mean(second_germany)"
   ]
  },
  {
   "cell_type": "code",
   "execution_count": 9,
   "metadata": {},
   "outputs": [],
   "source": [
    "second_germany_mean.to_csv('dataset\\Equipos_segunda\\Germany.csv', index=False)"
   ]
  },
  {
   "cell_type": "code",
   "execution_count": 8,
   "metadata": {},
   "outputs": [
    {
     "name": "stdout",
     "output_type": "stream",
     "text": [
      "1agliari 2020-2021\n",
      "2mpoli 2020-2021\n",
      "3rosinone 2020-2021\n",
      "4enoa 2020-2021\n",
      "5ecce 2020-2021\n",
      "6onza 2020-2021\n",
      "7alernitana 2020-2021\n",
      "8scoli 2020-2021\n",
      "la temporada 2021-2022 del Bari no cuenta para el registro\n",
      "9\n",
      "10escia 2020-2021\n",
      "la temporada 2022-2023 del Calcio Lecco 1912 no cuenta para el registro\n",
      "10\n",
      "la temporada 2022-2023 del Catanzaro no cuenta para el registro\n",
      "10\n",
      "11ttadella 2020-2021\n",
      "la temporada 2020-2021 del Como no cuenta para el registro\n",
      "12\n",
      "13senza 2020-2021\n",
      "14emonese 2020-2021\n",
      "la temporada 2022-2023 del FeralpiSalò no cuenta para el registro\n",
      "14\n",
      "la temporada 2021-2022 del Modena no cuenta para el registro\n",
      "15\n",
      "la temporada 2021-2022 del Palermo no cuenta para el registro\n",
      "16\n",
      "17rma 2020-2021\n",
      "18sa 2020-2021\n",
      "la temporada 2022-2023 del Reggiana no cuenta para el registro\n",
      "18\n",
      "la temporada 2021-2022 del Südtirol no cuenta para el registro\n",
      "19\n",
      "la temporada 2020-2021 del Ternana no cuenta para el registro\n",
      "20\n",
      "21nezia 2020-2021\n"
     ]
    }
   ],
   "source": [
    "second_italy_mean=get_second_teams_mean(second_italy)"
   ]
  },
  {
   "cell_type": "code",
   "execution_count": 9,
   "metadata": {},
   "outputs": [],
   "source": [
    "second_italy_mean.to_csv('dataset\\Equipos_segunda\\Italy.csv', index=False)"
   ]
  },
  {
   "cell_type": "code",
   "execution_count": 6,
   "metadata": {},
   "outputs": [
    {
     "name": "stdout",
     "output_type": "stream",
     "text": [
      "1lavés 2020-2021\n",
      "2lmería 2020-2021\n",
      "3irona 2020-2021\n",
      "4ranada 2020-2021\n",
      "5as Palmas 2020-2021\n",
      "6allorca 2020-2021\n",
      "7ayo Vallecano 2020-2021\n",
      "la temporada 2021-2022 del Albacete no cuenta para el registro\n",
      "8\n",
      "la temporada 2022-2023 del Alcorcón no cuenta para el registro\n",
      "8\n",
      "la temporada 2020-2021 del Burgos no cuenta para el registro\n",
      "9\n",
      "10rtagena 2020-2021\n",
      "la temporada 2022-2023 del CD Eldense no cuenta para el registro\n",
      "10\n",
      "11 Mirandés 2020-2021\n",
      "12bar 2020-2021\n",
      "13panyol 2020-2021\n",
      "la temporada 2021-2022 del FC Andorra no cuenta para el registro\n",
      "14\n",
      "15esca 2020-2021\n",
      "16ganés 2020-2021\n",
      "17vante 2020-2021\n",
      "18iedo 2020-2021\n",
      "la temporada 2022-2023 del Racing Ferrol no cuenta para el registro\n",
      "18\n",
      "la temporada 2021-2022 del Racing Sant no cuenta para el registro\n",
      "19\n",
      "la temporada 2022-2023 del SD Amorebieta no cuenta para el registro\n",
      "19\n",
      "20orting Gijón 2020-2021\n",
      "21nerife 2020-2021\n",
      "22lladolid 2020-2021\n",
      "la temporada 2022-2023 del Villarreal B no cuenta para el registro\n",
      "22\n",
      "23ragoza 2020-2021\n"
     ]
    }
   ],
   "source": [
    "second_spain_mean=get_second_teams_mean(second_spain)"
   ]
  },
  {
   "cell_type": "code",
   "execution_count": 7,
   "metadata": {},
   "outputs": [],
   "source": [
    "second_spain_mean.to_csv('dataset\\Equipos_segunda\\Spain.csv', index=False)\n"
   ]
  }
 ],
 "metadata": {
  "kernelspec": {
   "display_name": "Python 3",
   "language": "python",
   "name": "python3"
  },
  "language_info": {
   "codemirror_mode": {
    "name": "ipython",
    "version": 3
   },
   "file_extension": ".py",
   "mimetype": "text/x-python",
   "name": "python",
   "nbconvert_exporter": "python",
   "pygments_lexer": "ipython3",
   "version": "3.11.4"
  },
  "orig_nbformat": 4
 },
 "nbformat": 4,
 "nbformat_minor": 2
}
