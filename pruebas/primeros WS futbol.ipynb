{
 "cells": [
  {
   "cell_type": "code",
   "execution_count": 4,
   "metadata": {},
   "outputs": [],
   "source": [
    "import requests\n",
    "from bs4 import BeautifulSoup\n",
    "import pprint\n",
    "import pandas as pd\n",
    "import re\n",
    "import time\n",
    "\n"
   ]
  },
  {
   "cell_type": "code",
   "execution_count": 5,
   "metadata": {},
   "outputs": [],
   "source": [
    "url='https://www.sofascore.com/tournament/football/spain/laliga/8#42409'\n",
    "headers={'user-agent':'Mozilla/5.0 (Windows NT 10.0; Win64; x64) AppleWebKit/537.36 (KHTML, like Gecko) Chrome/116.0.0.0 Safari/537.36'}"
   ]
  },
  {
   "cell_type": "code",
   "execution_count": 6,
   "metadata": {},
   "outputs": [],
   "source": [
    "res=requests.get(url, headers=headers)"
   ]
  },
  {
   "cell_type": "code",
   "execution_count": 7,
   "metadata": {},
   "outputs": [
    {
     "data": {
      "text/plain": [
       "True"
      ]
     },
     "execution_count": 7,
     "metadata": {},
     "output_type": "execute_result"
    }
   ],
   "source": [
    "res.ok"
   ]
  },
  {
   "cell_type": "code",
   "execution_count": 8,
   "metadata": {},
   "outputs": [],
   "source": [
    "soup= BeautifulSoup(res.text, 'html.parser')"
   ]
  },
  {
   "cell_type": "code",
   "execution_count": null,
   "metadata": {},
   "outputs": [],
   "source": [
    "soup.title\n",
    "soup.title.text"
   ]
  },
  {
   "cell_type": "code",
   "execution_count": null,
   "metadata": {},
   "outputs": [],
   "source": [
    "soup.find('div', class_='sc-fqkvVR.sc-dcJsrY.djvcFd.fFmCDf.sc-526d246a-0.gukSMf')"
   ]
  },
  {
   "cell_type": "code",
   "execution_count": 10,
   "metadata": {},
   "outputs": [],
   "source": [
    "url2='https://fbref.com/es/comps/12/Estadisticas-de-La-Liga'"
   ]
  },
  {
   "cell_type": "code",
   "execution_count": 11,
   "metadata": {},
   "outputs": [],
   "source": [
    "res2=requests.get(url2, headers=headers, timeout=10)"
   ]
  },
  {
   "cell_type": "code",
   "execution_count": null,
   "metadata": {},
   "outputs": [],
   "source": [
    "res2.ok"
   ]
  },
  {
   "cell_type": "code",
   "execution_count": 12,
   "metadata": {},
   "outputs": [],
   "source": [
    "soup= BeautifulSoup(res2.text, 'html.parser')"
   ]
  },
  {
   "cell_type": "code",
   "execution_count": 13,
   "metadata": {},
   "outputs": [
    {
     "data": {
      "text/plain": [
       "[<tr><th class=\"left\" data-stat=\"team\" scope=\"row\"><a href=\"/es/equipos/8d6fd021/Estadisticas-de-Alaves\">vs. Alavés</a></th><td class=\"right\" data-stat=\"players_used\">17</td><td class=\"right modified\" data-stat=\"minutes_90s\">2.0</td><td class=\"right modified group_start\" data-stat=\"passes_completed\">726</td><td class=\"right modified\" data-stat=\"passes\">955</td><td class=\"right modified\" data-stat=\"passes_pct\">76.0</td><td class=\"right modified\" data-stat=\"passes_total_distance\">13156</td><td class=\"right modified\" data-stat=\"passes_progressive_distance\">4598</td><td class=\"right modified group_start\" data-stat=\"passes_completed_short\">304</td><td class=\"right modified\" data-stat=\"passes_short\">358</td><td class=\"right modified\" data-stat=\"passes_pct_short\">84.9</td><td class=\"right modified group_start\" data-stat=\"passes_completed_medium\">329</td><td class=\"right modified\" data-stat=\"passes_medium\">402</td><td class=\"right modified\" data-stat=\"passes_pct_medium\">81.8</td><td class=\"right modified group_start\" data-stat=\"passes_completed_long\">73</td><td class=\"right modified\" data-stat=\"passes_long\">152</td><td class=\"right modified\" data-stat=\"passes_pct_long\">48.0</td><td class=\"right modified group_start\" data-stat=\"assists\">2</td><td class=\"right modified\" data-stat=\"xg_assist\">0.7</td><td class=\"right modified\" data-stat=\"pass_xa\">1.4</td><td class=\"right modified\" data-stat=\"xg_assist_net\">+1.3</td><td class=\"right modified\" data-stat=\"assisted_shots\">16</td><td class=\"right modified\" data-stat=\"passes_into_final_third\">51</td><td class=\"right modified\" data-stat=\"passes_into_penalty_area\">6</td><td class=\"right modified\" data-stat=\"crosses_into_penalty_area\">1</td><td class=\"right modified\" data-stat=\"progressive_passes\">61</td></tr>,\n",
       " <tr><th class=\"left\" data-stat=\"team\" scope=\"row\"><a href=\"/es/equipos/78ecf4bb/Estadisticas-de-Almeria\">vs. Almería</a></th><td class=\"right\" data-stat=\"players_used\">20</td><td class=\"right modified\" data-stat=\"minutes_90s\">2.0</td><td class=\"right modified group_start\" data-stat=\"passes_completed\">816</td><td class=\"right modified\" data-stat=\"passes\">976</td><td class=\"right modified\" data-stat=\"passes_pct\">83.6</td><td class=\"right modified\" data-stat=\"passes_total_distance\">13165</td><td class=\"right modified\" data-stat=\"passes_progressive_distance\">4649</td><td class=\"right modified group_start\" data-stat=\"passes_completed_short\">452</td><td class=\"right modified\" data-stat=\"passes_short\">490</td><td class=\"right modified\" data-stat=\"passes_pct_short\">92.2</td><td class=\"right modified group_start\" data-stat=\"passes_completed_medium\">261</td><td class=\"right modified\" data-stat=\"passes_medium\">302</td><td class=\"right modified\" data-stat=\"passes_pct_medium\">86.4</td><td class=\"right modified group_start\" data-stat=\"passes_completed_long\">75</td><td class=\"right modified\" data-stat=\"passes_long\">131</td><td class=\"right modified\" data-stat=\"passes_pct_long\">57.3</td><td class=\"right modified group_start\" data-stat=\"assists\">2</td><td class=\"right modified\" data-stat=\"xg_assist\">2.0</td><td class=\"right modified\" data-stat=\"pass_xa\">2.1</td><td class=\"right modified iz\" data-stat=\"xg_assist_net\">0.0</td><td class=\"right modified\" data-stat=\"assisted_shots\">27</td><td class=\"right modified\" data-stat=\"passes_into_final_third\">76</td><td class=\"right modified\" data-stat=\"passes_into_penalty_area\">20</td><td class=\"right modified\" data-stat=\"crosses_into_penalty_area\">5</td><td class=\"right modified\" data-stat=\"progressive_passes\">73</td></tr>,\n",
       " <tr><th class=\"left\" data-stat=\"team\" scope=\"row\"><a href=\"/es/equipos/2b390eca/Estadisticas-de-Athletic-Club\">vs. Athletic Club</a></th><td class=\"right\" data-stat=\"players_used\">18</td><td class=\"right modified\" data-stat=\"minutes_90s\">2.0</td><td class=\"right modified group_start\" data-stat=\"passes_completed\">1030</td><td class=\"right modified\" data-stat=\"passes\">1247</td><td class=\"right modified\" data-stat=\"passes_pct\">82.6</td><td class=\"right modified\" data-stat=\"passes_total_distance\">18716</td><td class=\"right modified\" data-stat=\"passes_progressive_distance\">6416</td><td class=\"right modified group_start\" data-stat=\"passes_completed_short\">462</td><td class=\"right modified\" data-stat=\"passes_short\">504</td><td class=\"right modified\" data-stat=\"passes_pct_short\">91.7</td><td class=\"right modified group_start\" data-stat=\"passes_completed_medium\">433</td><td class=\"right modified\" data-stat=\"passes_medium\">492</td><td class=\"right modified\" data-stat=\"passes_pct_medium\">88.0</td><td class=\"right modified group_start\" data-stat=\"passes_completed_long\">116</td><td class=\"right modified\" data-stat=\"passes_long\">199</td><td class=\"right modified\" data-stat=\"passes_pct_long\">58.3</td><td class=\"right modified group_start\" data-stat=\"assists\">2</td><td class=\"right modified\" data-stat=\"xg_assist\">1.8</td><td class=\"right modified\" data-stat=\"pass_xa\">2.5</td><td class=\"right modified\" data-stat=\"xg_assist_net\">+0.2</td><td class=\"right modified\" data-stat=\"assisted_shots\">21</td><td class=\"right modified\" data-stat=\"passes_into_final_third\">93</td><td class=\"right modified\" data-stat=\"passes_into_penalty_area\">23</td><td class=\"right modified\" data-stat=\"crosses_into_penalty_area\">6</td><td class=\"right modified\" data-stat=\"progressive_passes\">109</td></tr>,\n",
       " <tr><th class=\"left\" data-stat=\"team\" scope=\"row\"><a href=\"/es/equipos/db3b9613/Estadisticas-de-Atletico-Madrid\">vs. Atlético Madrid</a></th><td class=\"right\" data-stat=\"players_used\">19</td><td class=\"right modified\" data-stat=\"minutes_90s\">2.0</td><td class=\"right modified group_start\" data-stat=\"passes_completed\">969</td><td class=\"right modified\" data-stat=\"passes\">1159</td><td class=\"right modified\" data-stat=\"passes_pct\">83.6</td><td class=\"right modified\" data-stat=\"passes_total_distance\">17359</td><td class=\"right modified\" data-stat=\"passes_progressive_distance\">5620</td><td class=\"right modified group_start\" data-stat=\"passes_completed_short\">431</td><td class=\"right modified\" data-stat=\"passes_short\">468</td><td class=\"right modified\" data-stat=\"passes_pct_short\">92.1</td><td class=\"right modified group_start\" data-stat=\"passes_completed_medium\">397</td><td class=\"right modified\" data-stat=\"passes_medium\">450</td><td class=\"right modified\" data-stat=\"passes_pct_medium\">88.2</td><td class=\"right modified group_start\" data-stat=\"passes_completed_long\">113</td><td class=\"right modified\" data-stat=\"passes_long\">176</td><td class=\"right modified\" data-stat=\"passes_pct_long\">64.2</td><td class=\"right modified group_start\" data-stat=\"assists\">1</td><td class=\"right modified\" data-stat=\"xg_assist\">1.4</td><td class=\"right modified\" data-stat=\"pass_xa\">1.5</td><td class=\"right modified\" data-stat=\"xg_assist_net\">-0.4</td><td class=\"right modified\" data-stat=\"assisted_shots\">17</td><td class=\"right modified\" data-stat=\"passes_into_final_third\">53</td><td class=\"right modified\" data-stat=\"passes_into_penalty_area\">13</td><td class=\"right modified\" data-stat=\"crosses_into_penalty_area\">3</td><td class=\"right modified\" data-stat=\"progressive_passes\">57</td></tr>,\n",
       " <tr><th class=\"left\" data-stat=\"team\" scope=\"row\"><a href=\"/es/equipos/206d90db/Estadisticas-de-Barcelona\">vs. Barcelona</a></th><td class=\"right\" data-stat=\"players_used\">18</td><td class=\"right modified\" data-stat=\"minutes_90s\">2.0</td><td class=\"right modified group_start\" data-stat=\"passes_completed\">337</td><td class=\"right modified\" data-stat=\"passes\">500</td><td class=\"right modified\" data-stat=\"passes_pct\">67.4</td><td class=\"right modified\" data-stat=\"passes_total_distance\">7189</td><td class=\"right modified\" data-stat=\"passes_progressive_distance\">3505</td><td class=\"right modified group_start\" data-stat=\"passes_completed_short\">118</td><td class=\"right modified\" data-stat=\"passes_short\">142</td><td class=\"right modified\" data-stat=\"passes_pct_short\">83.1</td><td class=\"right modified group_start\" data-stat=\"passes_completed_medium\">126</td><td class=\"right modified\" data-stat=\"passes_medium\">158</td><td class=\"right modified\" data-stat=\"passes_pct_medium\">79.7</td><td class=\"right modified group_start\" data-stat=\"passes_completed_long\">69</td><td class=\"right modified\" data-stat=\"passes_long\">149</td><td class=\"right modified\" data-stat=\"passes_pct_long\">46.3</td><td class=\"right modified iz group_start\" data-stat=\"assists\">0</td><td class=\"right modified\" data-stat=\"xg_assist\">1.0</td><td class=\"right modified\" data-stat=\"pass_xa\">1.6</td><td class=\"right modified\" data-stat=\"xg_assist_net\">-1.0</td><td class=\"right modified\" data-stat=\"assisted_shots\">12</td><td class=\"right modified\" data-stat=\"passes_into_final_third\">29</td><td class=\"right modified\" data-stat=\"passes_into_penalty_area\">12</td><td class=\"right modified\" data-stat=\"crosses_into_penalty_area\">7</td><td class=\"right modified\" data-stat=\"progressive_passes\">35</td></tr>,\n",
       " <tr><th class=\"left\" data-stat=\"team\" scope=\"row\"><a href=\"/es/equipos/fc536746/Estadisticas-de-Real-Betis\">vs. Betis</a></th><td class=\"right\" data-stat=\"players_used\">17</td><td class=\"right modified\" data-stat=\"minutes_90s\">2.0</td><td class=\"right modified group_start\" data-stat=\"passes_completed\">949</td><td class=\"right modified\" data-stat=\"passes\">1130</td><td class=\"right modified\" data-stat=\"passes_pct\">84.0</td><td class=\"right modified\" data-stat=\"passes_total_distance\">15482</td><td class=\"right modified\" data-stat=\"passes_progressive_distance\">5772</td><td class=\"right modified group_start\" data-stat=\"passes_completed_short\">513</td><td class=\"right modified\" data-stat=\"passes_short\">565</td><td class=\"right modified\" data-stat=\"passes_pct_short\">90.8</td><td class=\"right modified group_start\" data-stat=\"passes_completed_medium\">352</td><td class=\"right modified\" data-stat=\"passes_medium\">391</td><td class=\"right modified\" data-stat=\"passes_pct_medium\">90.0</td><td class=\"right modified group_start\" data-stat=\"passes_completed_long\">71</td><td class=\"right modified\" data-stat=\"passes_long\">124</td><td class=\"right modified\" data-stat=\"passes_pct_long\">57.3</td><td class=\"right modified group_start\" data-stat=\"assists\">1</td><td class=\"right modified\" data-stat=\"xg_assist\">1.1</td><td class=\"right modified\" data-stat=\"pass_xa\">2.3</td><td class=\"right modified\" data-stat=\"xg_assist_net\">-0.1</td><td class=\"right modified\" data-stat=\"assisted_shots\">17</td><td class=\"right modified\" data-stat=\"passes_into_final_third\">76</td><td class=\"right modified\" data-stat=\"passes_into_penalty_area\">18</td><td class=\"right modified\" data-stat=\"crosses_into_penalty_area\">2</td><td class=\"right modified\" data-stat=\"progressive_passes\">93</td></tr>,\n",
       " <tr><th class=\"left\" data-stat=\"team\" scope=\"row\"><a href=\"/es/equipos/ee7c297c/Estadisticas-de-Cadiz\">vs. Cádiz</a></th><td class=\"right\" data-stat=\"players_used\">19</td><td class=\"right modified\" data-stat=\"minutes_90s\">2.0</td><td class=\"right modified group_start\" data-stat=\"passes_completed\">887</td><td class=\"right modified\" data-stat=\"passes\">1076</td><td class=\"right modified\" data-stat=\"passes_pct\">82.4</td><td class=\"right modified\" data-stat=\"passes_total_distance\">14465</td><td class=\"right modified\" data-stat=\"passes_progressive_distance\">5043</td><td class=\"right modified group_start\" data-stat=\"passes_completed_short\">447</td><td class=\"right modified\" data-stat=\"passes_short\">496</td><td class=\"right modified\" data-stat=\"passes_pct_short\">90.1</td><td class=\"right modified group_start\" data-stat=\"passes_completed_medium\">331</td><td class=\"right modified\" data-stat=\"passes_medium\">387</td><td class=\"right modified\" data-stat=\"passes_pct_medium\">85.5</td><td class=\"right modified group_start\" data-stat=\"passes_completed_long\">78</td><td class=\"right modified\" data-stat=\"passes_long\">136</td><td class=\"right modified\" data-stat=\"passes_pct_long\">57.4</td><td class=\"right modified group_start\" data-stat=\"assists\">2</td><td class=\"right modified\" data-stat=\"xg_assist\">2.7</td><td class=\"right modified\" data-stat=\"pass_xa\">2.8</td><td class=\"right modified\" data-stat=\"xg_assist_net\">-0.7</td><td class=\"right modified\" data-stat=\"assisted_shots\">25</td><td class=\"right modified\" data-stat=\"passes_into_final_third\">78</td><td class=\"right modified\" data-stat=\"passes_into_penalty_area\">21</td><td class=\"right modified\" data-stat=\"crosses_into_penalty_area\">8</td><td class=\"right modified\" data-stat=\"progressive_passes\">94</td></tr>,\n",
       " <tr><th class=\"left\" data-stat=\"team\" scope=\"row\"><a href=\"/es/equipos/f25da7fb/Estadisticas-de-Celta-Vigo\">vs. Celta Vigo</a></th><td class=\"right\" data-stat=\"players_used\">18</td><td class=\"right modified\" data-stat=\"minutes_90s\">2.0</td><td class=\"right modified group_start\" data-stat=\"passes_completed\">685</td><td class=\"right modified\" data-stat=\"passes\">936</td><td class=\"right modified\" data-stat=\"passes_pct\">73.2</td><td class=\"right modified\" data-stat=\"passes_total_distance\">13363</td><td class=\"right modified\" data-stat=\"passes_progressive_distance\">5163</td><td class=\"right modified group_start\" data-stat=\"passes_completed_short\">281</td><td class=\"right modified\" data-stat=\"passes_short\">335</td><td class=\"right modified\" data-stat=\"passes_pct_short\">83.9</td><td class=\"right modified group_start\" data-stat=\"passes_completed_medium\">297</td><td class=\"right modified\" data-stat=\"passes_medium\">364</td><td class=\"right modified\" data-stat=\"passes_pct_medium\">81.6</td><td class=\"right modified group_start\" data-stat=\"passes_completed_long\">95</td><td class=\"right modified\" data-stat=\"passes_long\">194</td><td class=\"right modified\" data-stat=\"passes_pct_long\">49.0</td><td class=\"right modified group_start\" data-stat=\"assists\">1</td><td class=\"right modified\" data-stat=\"xg_assist\">1.1</td><td class=\"right modified\" data-stat=\"pass_xa\">0.7</td><td class=\"right modified\" data-stat=\"xg_assist_net\">-0.1</td><td class=\"right modified\" data-stat=\"assisted_shots\">15</td><td class=\"right modified\" data-stat=\"passes_into_final_third\">65</td><td class=\"right modified\" data-stat=\"passes_into_penalty_area\">8</td><td class=\"right modified\" data-stat=\"crosses_into_penalty_area\">5</td><td class=\"right modified\" data-stat=\"progressive_passes\">64</td></tr>,\n",
       " <tr><th class=\"left\" data-stat=\"team\" scope=\"row\"><a href=\"/es/equipos/7848bd64/Estadisticas-de-Getafe\">vs. Getafe</a></th><td class=\"right\" data-stat=\"players_used\">16</td><td class=\"right modified\" data-stat=\"minutes_90s\">2.0</td><td class=\"right modified group_start\" data-stat=\"passes_completed\">1152</td><td class=\"right modified\" data-stat=\"passes\">1325</td><td class=\"right modified\" data-stat=\"passes_pct\">86.9</td><td class=\"right modified\" data-stat=\"passes_total_distance\">19049</td><td class=\"right modified\" data-stat=\"passes_progressive_distance\">6344</td><td class=\"right modified group_start\" data-stat=\"passes_completed_short\">548</td><td class=\"right modified\" data-stat=\"passes_short\">591</td><td class=\"right modified\" data-stat=\"passes_pct_short\">92.7</td><td class=\"right modified group_start\" data-stat=\"passes_completed_medium\">501</td><td class=\"right modified\" data-stat=\"passes_medium\">552</td><td class=\"right modified\" data-stat=\"passes_pct_medium\">90.8</td><td class=\"right modified group_start\" data-stat=\"passes_completed_long\">71</td><td class=\"right modified\" data-stat=\"passes_long\">129</td><td class=\"right modified\" data-stat=\"passes_pct_long\">55.0</td><td class=\"right modified group_start\" data-stat=\"assists\">2</td><td class=\"right modified\" data-stat=\"xg_assist\">2.4</td><td class=\"right modified\" data-stat=\"pass_xa\">2.5</td><td class=\"right modified\" data-stat=\"xg_assist_net\">-0.4</td><td class=\"right modified\" data-stat=\"assisted_shots\">15</td><td class=\"right modified\" data-stat=\"passes_into_final_third\">83</td><td class=\"right modified\" data-stat=\"passes_into_penalty_area\">16</td><td class=\"right modified\" data-stat=\"crosses_into_penalty_area\">1</td><td class=\"right modified\" data-stat=\"progressive_passes\">84</td></tr>,\n",
       " <tr><th class=\"left\" data-stat=\"team\" scope=\"row\"><a href=\"/es/equipos/9024a00a/Estadisticas-de-Girona\">vs. Girona</a></th><td class=\"right\" data-stat=\"players_used\">17</td><td class=\"right modified\" data-stat=\"minutes_90s\">2.0</td><td class=\"right modified group_start\" data-stat=\"passes_completed\">540</td><td class=\"right modified\" data-stat=\"passes\">736</td><td class=\"right modified\" data-stat=\"passes_pct\">73.4</td><td class=\"right modified\" data-stat=\"passes_total_distance\">10302</td><td class=\"right modified\" data-stat=\"passes_progressive_distance\">4100</td><td class=\"right modified group_start\" data-stat=\"passes_completed_short\">213</td><td class=\"right modified\" data-stat=\"passes_short\">247</td><td class=\"right modified\" data-stat=\"passes_pct_short\">86.2</td><td class=\"right modified group_start\" data-stat=\"passes_completed_medium\">236</td><td class=\"right modified\" data-stat=\"passes_medium\">301</td><td class=\"right modified\" data-stat=\"passes_pct_medium\">78.4</td><td class=\"right modified group_start\" data-stat=\"passes_completed_long\">73</td><td class=\"right modified\" data-stat=\"passes_long\">140</td><td class=\"right modified\" data-stat=\"passes_pct_long\">52.1</td><td class=\"right modified group_start\" data-stat=\"assists\">1</td><td class=\"right modified\" data-stat=\"xg_assist\">1.3</td><td class=\"right modified\" data-stat=\"pass_xa\">1.3</td><td class=\"right modified\" data-stat=\"xg_assist_net\">-0.3</td><td class=\"right modified\" data-stat=\"assisted_shots\">17</td><td class=\"right modified\" data-stat=\"passes_into_final_third\">51</td><td class=\"right modified\" data-stat=\"passes_into_penalty_area\">17</td><td class=\"right modified\" data-stat=\"crosses_into_penalty_area\">5</td><td class=\"right modified\" data-stat=\"progressive_passes\">57</td></tr>,\n",
       " <tr><th class=\"left\" data-stat=\"team\" scope=\"row\"><a href=\"/es/equipos/a0435291/Estadisticas-de-Granada\">vs. Granada</a></th><td class=\"right\" data-stat=\"players_used\">18</td><td class=\"right modified\" data-stat=\"minutes_90s\">2.0</td><td class=\"right modified group_start\" data-stat=\"passes_completed\">720</td><td class=\"right modified\" data-stat=\"passes\">922</td><td class=\"right modified\" data-stat=\"passes_pct\">78.1</td><td class=\"right modified\" data-stat=\"passes_total_distance\">12961</td><td class=\"right modified\" data-stat=\"passes_progressive_distance\">5421</td><td class=\"right modified group_start\" data-stat=\"passes_completed_short\">339</td><td class=\"right modified\" data-stat=\"passes_short\">389</td><td class=\"right modified\" data-stat=\"passes_pct_short\">87.1</td><td class=\"right modified group_start\" data-stat=\"passes_completed_medium\">265</td><td class=\"right modified\" data-stat=\"passes_medium\">323</td><td class=\"right modified\" data-stat=\"passes_pct_medium\">82.0</td><td class=\"right modified group_start\" data-stat=\"passes_completed_long\">93</td><td class=\"right modified\" data-stat=\"passes_long\">148</td><td class=\"right modified\" data-stat=\"passes_pct_long\">62.8</td><td class=\"right modified group_start\" data-stat=\"assists\">3</td><td class=\"right modified\" data-stat=\"xg_assist\">3.5</td><td class=\"right modified\" data-stat=\"pass_xa\">2.9</td><td class=\"right modified\" data-stat=\"xg_assist_net\">-0.5</td><td class=\"right modified\" data-stat=\"assisted_shots\">24</td><td class=\"right modified\" data-stat=\"passes_into_final_third\">49</td><td class=\"right modified\" data-stat=\"passes_into_penalty_area\">24</td><td class=\"right modified\" data-stat=\"crosses_into_penalty_area\">7</td><td class=\"right modified\" data-stat=\"progressive_passes\">77</td></tr>,\n",
       " <tr><th class=\"left\" data-stat=\"team\" scope=\"row\"><a href=\"/es/equipos/0049d422/Estadisticas-de-Las-Palmas\">vs. Las Palmas</a></th><td class=\"right\" data-stat=\"players_used\">18</td><td class=\"right modified\" data-stat=\"minutes_90s\">2.0</td><td class=\"right modified group_start\" data-stat=\"passes_completed\">519</td><td class=\"right modified\" data-stat=\"passes\">713</td><td class=\"right modified\" data-stat=\"passes_pct\">72.8</td><td class=\"right modified\" data-stat=\"passes_total_distance\">10036</td><td class=\"right modified\" data-stat=\"passes_progressive_distance\">3724</td><td class=\"right modified group_start\" data-stat=\"passes_completed_short\">207</td><td class=\"right modified\" data-stat=\"passes_short\">248</td><td class=\"right modified\" data-stat=\"passes_pct_short\">83.5</td><td class=\"right modified group_start\" data-stat=\"passes_completed_medium\">223</td><td class=\"right modified\" data-stat=\"passes_medium\">271</td><td class=\"right modified\" data-stat=\"passes_pct_medium\">82.3</td><td class=\"right modified group_start\" data-stat=\"passes_completed_long\">70</td><td class=\"right modified\" data-stat=\"passes_long\">149</td><td class=\"right modified\" data-stat=\"passes_pct_long\">47.0</td><td class=\"right modified group_start\" data-stat=\"assists\">1</td><td class=\"right modified\" data-stat=\"xg_assist\">1.6</td><td class=\"right modified\" data-stat=\"pass_xa\">1.3</td><td class=\"right modified\" data-stat=\"xg_assist_net\">-0.6</td><td class=\"right modified\" data-stat=\"assisted_shots\">15</td><td class=\"right modified\" data-stat=\"passes_into_final_third\">39</td><td class=\"right modified\" data-stat=\"passes_into_penalty_area\">9</td><td class=\"right modified\" data-stat=\"crosses_into_penalty_area\">2</td><td class=\"right modified\" data-stat=\"progressive_passes\">47</td></tr>,\n",
       " <tr><th class=\"left\" data-stat=\"team\" scope=\"row\"><a href=\"/es/equipos/2aa12281/Estadisticas-de-Mallorca\">vs. Mallorca</a></th><td class=\"right\" data-stat=\"players_used\">16</td><td class=\"right modified\" data-stat=\"minutes_90s\">2.0</td><td class=\"right modified group_start\" data-stat=\"passes_completed\">1028</td><td class=\"right modified\" data-stat=\"passes\">1190</td><td class=\"right modified\" data-stat=\"passes_pct\">86.4</td><td class=\"right modified\" data-stat=\"passes_total_distance\">15788</td><td class=\"right modified\" data-stat=\"passes_progressive_distance\">5384</td><td class=\"right modified group_start\" data-stat=\"passes_completed_short\">594</td><td class=\"right modified\" data-stat=\"passes_short\">625</td><td class=\"right modified\" data-stat=\"passes_pct_short\">95.0</td><td class=\"right modified group_start\" data-stat=\"passes_completed_medium\">351</td><td class=\"right modified\" data-stat=\"passes_medium\">403</td><td class=\"right modified\" data-stat=\"passes_pct_medium\">87.1</td><td class=\"right modified group_start\" data-stat=\"passes_completed_long\">60</td><td class=\"right modified\" data-stat=\"passes_long\">113</td><td class=\"right modified\" data-stat=\"passes_pct_long\">53.1</td><td class=\"right modified iz group_start\" data-stat=\"assists\">0</td><td class=\"right modified\" data-stat=\"xg_assist\">1.1</td><td class=\"right modified\" data-stat=\"pass_xa\">1.5</td><td class=\"right modified\" data-stat=\"xg_assist_net\">-1.1</td><td class=\"right modified\" data-stat=\"assisted_shots\">14</td><td class=\"right modified\" data-stat=\"passes_into_final_third\">68</td><td class=\"right modified\" data-stat=\"passes_into_penalty_area\">17</td><td class=\"right modified\" data-stat=\"crosses_into_penalty_area\">4</td><td class=\"right modified\" data-stat=\"progressive_passes\">83</td></tr>,\n",
       " <tr><th class=\"left\" data-stat=\"team\" scope=\"row\"><a href=\"/es/equipos/03c57e2b/Estadisticas-de-Osasuna\">vs. Osasuna</a></th><td class=\"right\" data-stat=\"players_used\">18</td><td class=\"right modified\" data-stat=\"minutes_90s\">2.0</td><td class=\"right modified group_start\" data-stat=\"passes_completed\">663</td><td class=\"right modified\" data-stat=\"passes\">892</td><td class=\"right modified\" data-stat=\"passes_pct\">74.3</td><td class=\"right modified\" data-stat=\"passes_total_distance\">11437</td><td class=\"right modified\" data-stat=\"passes_progressive_distance\">4625</td><td class=\"right modified group_start\" data-stat=\"passes_completed_short\">311</td><td class=\"right modified\" data-stat=\"passes_short\">352</td><td class=\"right modified\" data-stat=\"passes_pct_short\">88.4</td><td class=\"right modified group_start\" data-stat=\"passes_completed_medium\">272</td><td class=\"right modified\" data-stat=\"passes_medium\">332</td><td class=\"right modified\" data-stat=\"passes_pct_medium\">81.9</td><td class=\"right modified group_start\" data-stat=\"passes_completed_long\">59</td><td class=\"right modified\" data-stat=\"passes_long\">146</td><td class=\"right modified\" data-stat=\"passes_pct_long\">40.4</td><td class=\"right modified group_start\" data-stat=\"assists\">2</td><td class=\"right modified\" data-stat=\"xg_assist\">2.3</td><td class=\"right modified\" data-stat=\"pass_xa\">2.5</td><td class=\"right modified\" data-stat=\"xg_assist_net\">-0.3</td><td class=\"right modified\" data-stat=\"assisted_shots\">17</td><td class=\"right modified\" data-stat=\"passes_into_final_third\">47</td><td class=\"right modified\" data-stat=\"passes_into_penalty_area\">15</td><td class=\"right modified\" data-stat=\"crosses_into_penalty_area\">3</td><td class=\"right modified\" data-stat=\"progressive_passes\">68</td></tr>,\n",
       " <tr><th class=\"left\" data-stat=\"team\" scope=\"row\"><a href=\"/es/equipos/98e8af82/Estadisticas-de-Rayo-Vallecano\">vs. Rayo Vallecano</a></th><td class=\"right\" data-stat=\"players_used\">20</td><td class=\"right modified\" data-stat=\"minutes_90s\">2.0</td><td class=\"right modified group_start\" data-stat=\"passes_completed\">756</td><td class=\"right modified\" data-stat=\"passes\">946</td><td class=\"right modified\" data-stat=\"passes_pct\">79.9</td><td class=\"right modified\" data-stat=\"passes_total_distance\">13838</td><td class=\"right modified\" data-stat=\"passes_progressive_distance\">4979</td><td class=\"right modified group_start\" data-stat=\"passes_completed_short\">332</td><td class=\"right modified\" data-stat=\"passes_short\">366</td><td class=\"right modified\" data-stat=\"passes_pct_short\">90.7</td><td class=\"right modified group_start\" data-stat=\"passes_completed_medium\">324</td><td class=\"right modified\" data-stat=\"passes_medium\">376</td><td class=\"right modified\" data-stat=\"passes_pct_medium\">86.2</td><td class=\"right modified group_start\" data-stat=\"passes_completed_long\">83</td><td class=\"right modified\" data-stat=\"passes_long\">160</td><td class=\"right modified\" data-stat=\"passes_pct_long\">51.9</td><td class=\"right modified iz group_start\" data-stat=\"assists\">0</td><td class=\"right modified\" data-stat=\"xg_assist\">2.1</td><td class=\"right modified\" data-stat=\"pass_xa\">2.1</td><td class=\"right modified\" data-stat=\"xg_assist_net\">-2.1</td><td class=\"right modified\" data-stat=\"assisted_shots\">27</td><td class=\"right modified\" data-stat=\"passes_into_final_third\">48</td><td class=\"right modified\" data-stat=\"passes_into_penalty_area\">20</td><td class=\"right modified\" data-stat=\"crosses_into_penalty_area\">4</td><td class=\"right modified\" data-stat=\"progressive_passes\">68</td></tr>,\n",
       " <tr><th class=\"left\" data-stat=\"team\" scope=\"row\"><a href=\"/es/equipos/53a2f082/Estadisticas-de-Real-Madrid\">vs. Real Madrid</a></th><td class=\"right\" data-stat=\"players_used\">17</td><td class=\"right modified\" data-stat=\"minutes_90s\">2.0</td><td class=\"right modified group_start\" data-stat=\"passes_completed\">847</td><td class=\"right modified\" data-stat=\"passes\">1023</td><td class=\"right modified\" data-stat=\"passes_pct\">82.8</td><td class=\"right modified\" data-stat=\"passes_total_distance\">14928</td><td class=\"right modified\" data-stat=\"passes_progressive_distance\">5378</td><td class=\"right modified group_start\" data-stat=\"passes_completed_short\">397</td><td class=\"right modified\" data-stat=\"passes_short\">441</td><td class=\"right modified\" data-stat=\"passes_pct_short\">90.0</td><td class=\"right modified group_start\" data-stat=\"passes_completed_medium\">347</td><td class=\"right modified\" data-stat=\"passes_medium\">399</td><td class=\"right modified\" data-stat=\"passes_pct_medium\">87.0</td><td class=\"right modified group_start\" data-stat=\"passes_completed_long\">89</td><td class=\"right modified\" data-stat=\"passes_long\">144</td><td class=\"right modified\" data-stat=\"passes_pct_long\">61.8</td><td class=\"right modified group_start\" data-stat=\"assists\">1</td><td class=\"right modified\" data-stat=\"xg_assist\">1.4</td><td class=\"right modified\" data-stat=\"pass_xa\">1.7</td><td class=\"right modified\" data-stat=\"xg_assist_net\">-0.4</td><td class=\"right modified\" data-stat=\"assisted_shots\">21</td><td class=\"right modified\" data-stat=\"passes_into_final_third\">67</td><td class=\"right modified\" data-stat=\"passes_into_penalty_area\">16</td><td class=\"right modified\" data-stat=\"crosses_into_penalty_area\">9</td><td class=\"right modified\" data-stat=\"progressive_passes\">75</td></tr>,\n",
       " <tr><th class=\"left\" data-stat=\"team\" scope=\"row\"><a href=\"/es/equipos/e31d1cd9/Estadisticas-de-Real-Sociedad\">vs. Real Sociedad</a></th><td class=\"right\" data-stat=\"players_used\">17</td><td class=\"right modified\" data-stat=\"minutes_90s\">2.0</td><td class=\"right modified group_start\" data-stat=\"passes_completed\">669</td><td class=\"right modified\" data-stat=\"passes\">879</td><td class=\"right modified\" data-stat=\"passes_pct\">76.1</td><td class=\"right modified\" data-stat=\"passes_total_distance\">11840</td><td class=\"right modified\" data-stat=\"passes_progressive_distance\">3996</td><td class=\"right modified group_start\" data-stat=\"passes_completed_short\">284</td><td class=\"right modified\" data-stat=\"passes_short\">327</td><td class=\"right modified\" data-stat=\"passes_pct_short\">86.9</td><td class=\"right modified group_start\" data-stat=\"passes_completed_medium\">310</td><td class=\"right modified\" data-stat=\"passes_medium\">369</td><td class=\"right modified\" data-stat=\"passes_pct_medium\">84.0</td><td class=\"right modified group_start\" data-stat=\"passes_completed_long\">52</td><td class=\"right modified\" data-stat=\"passes_long\">130</td><td class=\"right modified\" data-stat=\"passes_pct_long\">40.0</td><td class=\"right modified group_start\" data-stat=\"assists\">1</td><td class=\"right modified\" data-stat=\"xg_assist\">1.4</td><td class=\"right modified\" data-stat=\"pass_xa\">2.3</td><td class=\"right modified\" data-stat=\"xg_assist_net\">-0.4</td><td class=\"right modified\" data-stat=\"assisted_shots\">19</td><td class=\"right modified\" data-stat=\"passes_into_final_third\">44</td><td class=\"right modified\" data-stat=\"passes_into_penalty_area\">11</td><td class=\"right modified\" data-stat=\"crosses_into_penalty_area\">5</td><td class=\"right modified\" data-stat=\"progressive_passes\">41</td></tr>,\n",
       " <tr><th class=\"left\" data-stat=\"team\" scope=\"row\"><a href=\"/es/equipos/ad2be733/Estadisticas-de-Sevilla\">vs. Sevilla</a></th><td class=\"right\" data-stat=\"players_used\">21</td><td class=\"right modified\" data-stat=\"minutes_90s\">2.0</td><td class=\"right modified group_start\" data-stat=\"passes_completed\">469</td><td class=\"right modified\" data-stat=\"passes\">698</td><td class=\"right modified\" data-stat=\"passes_pct\">67.2</td><td class=\"right modified\" data-stat=\"passes_total_distance\">8443</td><td class=\"right modified\" data-stat=\"passes_progressive_distance\">3815</td><td class=\"right modified group_start\" data-stat=\"passes_completed_short\">226</td><td class=\"right modified\" data-stat=\"passes_short\">282</td><td class=\"right modified\" data-stat=\"passes_pct_short\">80.1</td><td class=\"right modified group_start\" data-stat=\"passes_completed_medium\">175</td><td class=\"right modified\" data-stat=\"passes_medium\">242</td><td class=\"right modified\" data-stat=\"passes_pct_medium\">72.3</td><td class=\"right modified group_start\" data-stat=\"passes_completed_long\">54</td><td class=\"right modified\" data-stat=\"passes_long\">129</td><td class=\"right modified\" data-stat=\"passes_pct_long\">41.9</td><td class=\"right modified group_start\" data-stat=\"assists\">6</td><td class=\"right modified\" data-stat=\"xg_assist\">2.7</td><td class=\"right modified\" data-stat=\"pass_xa\">1.8</td><td class=\"right modified\" data-stat=\"xg_assist_net\">+3.3</td><td class=\"right modified\" data-stat=\"assisted_shots\">20</td><td class=\"right modified\" data-stat=\"passes_into_final_third\">38</td><td class=\"right modified\" data-stat=\"passes_into_penalty_area\">16</td><td class=\"right modified\" data-stat=\"crosses_into_penalty_area\">8</td><td class=\"right modified\" data-stat=\"progressive_passes\">57</td></tr>,\n",
       " <tr><th class=\"left\" data-stat=\"team\" scope=\"row\"><a href=\"/es/equipos/dcc91a7b/Estadisticas-de-Valencia\">vs. Valencia</a></th><td class=\"right\" data-stat=\"players_used\">16</td><td class=\"right modified\" data-stat=\"minutes_90s\">2.0</td><td class=\"right modified group_start\" data-stat=\"passes_completed\">888</td><td class=\"right modified\" data-stat=\"passes\">1115</td><td class=\"right modified\" data-stat=\"passes_pct\">79.6</td><td class=\"right modified\" data-stat=\"passes_total_distance\">15092</td><td class=\"right modified\" data-stat=\"passes_progressive_distance\">5349</td><td class=\"right modified group_start\" data-stat=\"passes_completed_short\">450</td><td class=\"right modified\" data-stat=\"passes_short\">507</td><td class=\"right modified\" data-stat=\"passes_pct_short\">88.8</td><td class=\"right modified group_start\" data-stat=\"passes_completed_medium\">334</td><td class=\"right modified\" data-stat=\"passes_medium\">390</td><td class=\"right modified\" data-stat=\"passes_pct_medium\">85.6</td><td class=\"right modified group_start\" data-stat=\"passes_completed_long\">83</td><td class=\"right modified\" data-stat=\"passes_long\">153</td><td class=\"right modified\" data-stat=\"passes_pct_long\">54.2</td><td class=\"right modified group_start\" data-stat=\"assists\">1</td><td class=\"right modified\" data-stat=\"xg_assist\">1.2</td><td class=\"right modified\" data-stat=\"pass_xa\">1.0</td><td class=\"right modified\" data-stat=\"xg_assist_net\">-0.2</td><td class=\"right modified\" data-stat=\"assisted_shots\">13</td><td class=\"right modified\" data-stat=\"passes_into_final_third\">54</td><td class=\"right modified\" data-stat=\"passes_into_penalty_area\">12</td><td class=\"right modified\" data-stat=\"crosses_into_penalty_area\">6</td><td class=\"right modified\" data-stat=\"progressive_passes\">58</td></tr>,\n",
       " <tr><th class=\"left\" data-stat=\"team\" scope=\"row\"><a href=\"/es/equipos/2a8183b3/Estadisticas-de-Villarreal\">vs. Villarreal</a></th><td class=\"right\" data-stat=\"players_used\">19</td><td class=\"right modified\" data-stat=\"minutes_90s\">2.0</td><td class=\"right modified group_start\" data-stat=\"passes_completed\">561</td><td class=\"right modified\" data-stat=\"passes\">720</td><td class=\"right modified\" data-stat=\"passes_pct\">77.9</td><td class=\"right modified\" data-stat=\"passes_total_distance\">10353</td><td class=\"right modified\" data-stat=\"passes_progressive_distance\">4311</td><td class=\"right modified group_start\" data-stat=\"passes_completed_short\">261</td><td class=\"right modified\" data-stat=\"passes_short\">305</td><td class=\"right modified\" data-stat=\"passes_pct_short\">85.6</td><td class=\"right modified group_start\" data-stat=\"passes_completed_medium\">204</td><td class=\"right modified\" data-stat=\"passes_medium\">236</td><td class=\"right modified\" data-stat=\"passes_pct_medium\">86.4</td><td class=\"right modified group_start\" data-stat=\"passes_completed_long\">75</td><td class=\"right modified\" data-stat=\"passes_long\">133</td><td class=\"right modified\" data-stat=\"passes_pct_long\">56.4</td><td class=\"right modified group_start\" data-stat=\"assists\">2</td><td class=\"right modified\" data-stat=\"xg_assist\">1.3</td><td class=\"right modified\" data-stat=\"pass_xa\">1.8</td><td class=\"right modified\" data-stat=\"xg_assist_net\">+0.7</td><td class=\"right modified\" data-stat=\"assisted_shots\">15</td><td class=\"right modified\" data-stat=\"passes_into_final_third\">48</td><td class=\"right modified\" data-stat=\"passes_into_penalty_area\">14</td><td class=\"right modified\" data-stat=\"crosses_into_penalty_area\">5</td><td class=\"right modified\" data-stat=\"progressive_passes\">57</td></tr>]"
      ]
     },
     "execution_count": 13,
     "metadata": {},
     "output_type": "execute_result"
    }
   ],
   "source": [
    "tbodys=soup.find_all(\"tbody\")\n",
    "trs=tbodys[11].find_all('tr')\n",
    "trs\n"
   ]
  },
  {
   "cell_type": "code",
   "execution_count": 14,
   "metadata": {},
   "outputs": [
    {
     "data": {
      "text/plain": [
       "['Alavés',\n",
       " 'Almería',\n",
       " 'Athletic Club',\n",
       " 'Atlético Madrid',\n",
       " 'Barcelona',\n",
       " 'Betis',\n",
       " 'Cádiz',\n",
       " 'Celta Vigo',\n",
       " 'Getafe',\n",
       " 'Girona',\n",
       " 'Granada',\n",
       " 'Las Palmas',\n",
       " 'Mallorca',\n",
       " 'Osasuna',\n",
       " 'Rayo Vallecano',\n",
       " 'Real Madrid',\n",
       " 'Real Sociedad',\n",
       " 'Sevilla',\n",
       " 'Valencia',\n",
       " 'Villarreal']"
      ]
     },
     "execution_count": 14,
     "metadata": {},
     "output_type": "execute_result"
    }
   ],
   "source": [
    "texto=[]\n",
    "codigos=[]\n",
    "equipos=[]\n",
    "for tr in trs:\n",
    "   texto.append(str(tr.find('th', class_='left')))\n",
    "for elemento in texto: \n",
    "    texto_split=elemento.split('href=\"/es/equipos/')\n",
    "    codigos.append(texto_split[1].split('/Estadisticas')[0].strip())\n",
    "    equipos.append(texto_split[1].split('>vs.')[1].split('</a>')[0].strip())\n",
    "\n",
    "\n",
    "equipos    \n",
    "\n",
    "    "
   ]
  },
  {
   "cell_type": "code",
   "execution_count": null,
   "metadata": {},
   "outputs": [],
   "source": [
    "texto=[]\n",
    "equipos=[]\n",
    "for tr in trs:\n",
    "   texto.append(str(tr.find('th', class_='left')))\n",
    "for elemento in texto: \n",
    "    texto_split=elemento.split('>vs.')\n",
    "    equipos.append(texto_split[1].split('</a>')[0])\n",
    "    \n",
    "equipos"
   ]
  },
  {
   "cell_type": "code",
   "execution_count": 141,
   "metadata": {},
   "outputs": [
    {
     "ename": "AttributeError",
     "evalue": "module 'pandas' has no attribute 'df'",
     "output_type": "error",
     "traceback": [
      "\u001b[1;31m---------------------------------------------------------------------------\u001b[0m",
      "\u001b[1;31mAttributeError\u001b[0m                            Traceback (most recent call last)",
      "Cell \u001b[1;32mIn[141], line 1\u001b[0m\n\u001b[1;32m----> 1\u001b[0m df\u001b[39m=\u001b[39mpd\u001b[39m.\u001b[39;49mdf(codigos)\n",
      "\u001b[1;31mAttributeError\u001b[0m: module 'pandas' has no attribute 'df'"
     ]
    }
   ],
   "source": []
  },
  {
   "cell_type": "code",
   "execution_count": null,
   "metadata": {},
   "outputs": [],
   "source": [
    "\n",
    "#no sirve\n",
    "dataframes=[]\n",
    "for i in codigos:\n",
    "    url=f'https://fbref.com/es/equipos/{i}/2021-2022/partidos/all_comps/schedule/'\n",
    "    pagina=pd.read_html(url)\n",
    "    dataframes.append(pagina[0]) \n",
    "\n"
   ]
  },
  {
   "cell_type": "code",
   "execution_count": 1,
   "metadata": {},
   "outputs": [
    {
     "ename": "NameError",
     "evalue": "name 'codigos' is not defined",
     "output_type": "error",
     "traceback": [
      "\u001b[1;31m---------------------------------------------------------------------------\u001b[0m",
      "\u001b[1;31mNameError\u001b[0m                                 Traceback (most recent call last)",
      "Cell \u001b[1;32mIn[1], line 4\u001b[0m\n\u001b[0;32m      1\u001b[0m dataframes\u001b[39m=\u001b[39m[]\n\u001b[0;32m      2\u001b[0m ediciones\u001b[39m=\u001b[39m[\u001b[39m2021\u001b[39m\u001b[39m-\u001b[39m\u001b[39m2022\u001b[39m,\u001b[39m2022\u001b[39m\u001b[39m-\u001b[39m\u001b[39m2023\u001b[39m]\n\u001b[1;32m----> 4\u001b[0m \u001b[39mfor\u001b[39;00m i \u001b[39min\u001b[39;00m codigos:\n\u001b[0;32m      5\u001b[0m     df\u001b[39m=\u001b[39m[]\n\u001b[0;32m      6\u001b[0m     \u001b[39mfor\u001b[39;00m n \u001b[39min\u001b[39;00m ediciones:\n",
      "\u001b[1;31mNameError\u001b[0m: name 'codigos' is not defined"
     ]
    }
   ],
   "source": [
    "dataframes=[]\n",
    "ediciones=[2021-2022,2022-2023]\n",
    "\n",
    "for i in codigos:\n",
    "    df=[]\n",
    "    for n in ediciones:\n",
    "        url=f'https://fbref.com/es/equipos/{i}/{n}/partidos/all_comps/schedule/'\n",
    "        pagina=pd.read_html(url)\n",
    "        df.append(pagina[0])\n",
    "        time.sleep(2)\n",
    "        print(df)\n",
    "    \n",
    "    #dataframes.append(pd.concat([df], ignore_index=True))"
   ]
  },
  {
   "cell_type": "code",
   "execution_count": 135,
   "metadata": {},
   "outputs": [
    {
     "ename": "IndexError",
     "evalue": "list index out of range",
     "output_type": "error",
     "traceback": [
      "\u001b[1;31m---------------------------------------------------------------------------\u001b[0m",
      "\u001b[1;31mIndexError\u001b[0m                                Traceback (most recent call last)",
      "Cell \u001b[1;32mIn[135], line 6\u001b[0m\n\u001b[0;32m      4\u001b[0m df\u001b[39m.\u001b[39mappend(pagina[\u001b[39m0\u001b[39m])\n\u001b[0;32m      5\u001b[0m time\u001b[39m.\u001b[39msleep(\u001b[39m2\u001b[39m)\n\u001b[1;32m----> 6\u001b[0m pagina[\u001b[39m1\u001b[39;49m]\n",
      "\u001b[1;31mIndexError\u001b[0m: list index out of range"
     ]
    }
   ],
   "source": [
    "df=[]\n",
    "url='https://fbref.com/es/equipos/8d6fd021/2022-2023/partidos/all_comps/schedule/'\n",
    "pagina=pd.read_html(url)\n",
    "df.append(pagina[0])\n",
    "time.sleep(2)\n",
    "pagina[]"
   ]
  },
  {
   "cell_type": "code",
   "execution_count": 133,
   "metadata": {},
   "outputs": [],
   "source": [
    "url2='https://fbref.com/es/equipos/8d6fd021/2022-2023/partidos/all_comps/schedule/'\n",
    "pagina=pd.read_html(url2)\n",
    "df.append(pagina[0])"
   ]
  },
  {
   "cell_type": "code",
   "execution_count": 128,
   "metadata": {},
   "outputs": [
    {
     "data": {
      "text/plain": [
       "list"
      ]
     },
     "execution_count": 128,
     "metadata": {},
     "output_type": "execute_result"
    }
   ],
   "source": [
    "type(df)"
   ]
  },
  {
   "cell_type": "code",
   "execution_count": 134,
   "metadata": {},
   "outputs": [
    {
     "data": {
      "text/html": [
       "<div>\n",
       "<style scoped>\n",
       "    .dataframe tbody tr th:only-of-type {\n",
       "        vertical-align: middle;\n",
       "    }\n",
       "\n",
       "    .dataframe tbody tr th {\n",
       "        vertical-align: top;\n",
       "    }\n",
       "\n",
       "    .dataframe thead th {\n",
       "        text-align: right;\n",
       "    }\n",
       "</style>\n",
       "<table border=\"1\" class=\"dataframe\">\n",
       "  <thead>\n",
       "    <tr style=\"text-align: right;\">\n",
       "      <th></th>\n",
       "      <th>Fecha</th>\n",
       "      <th>Hora</th>\n",
       "      <th>Comp</th>\n",
       "      <th>Ronda</th>\n",
       "      <th>Día</th>\n",
       "      <th>Sedes</th>\n",
       "      <th>Resultado</th>\n",
       "      <th>GF</th>\n",
       "      <th>GC</th>\n",
       "      <th>Adversario</th>\n",
       "      <th>Pos.</th>\n",
       "      <th>Asistencia</th>\n",
       "      <th>Capitán</th>\n",
       "      <th>Formación</th>\n",
       "      <th>Árbitro</th>\n",
       "      <th>Informe del partido</th>\n",
       "      <th>Notas</th>\n",
       "    </tr>\n",
       "  </thead>\n",
       "  <tbody>\n",
       "    <tr>\n",
       "      <th>0</th>\n",
       "      <td>2022-08-13</td>\n",
       "      <td>21:00</td>\n",
       "      <td>Segunda División</td>\n",
       "      <td>Semana 1 de partido</td>\n",
       "      <td>Sáb</td>\n",
       "      <td>Visitante</td>\n",
       "      <td>V</td>\n",
       "      <td>2</td>\n",
       "      <td>1</td>\n",
       "      <td>Leganés</td>\n",
       "      <td>38.0</td>\n",
       "      <td>5316</td>\n",
       "      <td>Luis Rioja</td>\n",
       "      <td>4-3-3</td>\n",
       "      <td>Víctor García Verdura</td>\n",
       "      <td>Informe del partido</td>\n",
       "      <td>NaN</td>\n",
       "    </tr>\n",
       "    <tr>\n",
       "      <th>1</th>\n",
       "      <td>2022-08-19</td>\n",
       "      <td>22:00</td>\n",
       "      <td>Segunda División</td>\n",
       "      <td>Semana 2 de partido</td>\n",
       "      <td>Vie</td>\n",
       "      <td>Local</td>\n",
       "      <td>V</td>\n",
       "      <td>1</td>\n",
       "      <td>0</td>\n",
       "      <td>CD Mirandés</td>\n",
       "      <td>44.0</td>\n",
       "      <td>11310</td>\n",
       "      <td>Luis Rioja</td>\n",
       "      <td>4-2-3-1</td>\n",
       "      <td>Iván Caparrós</td>\n",
       "      <td>Informe del partido</td>\n",
       "      <td>NaN</td>\n",
       "    </tr>\n",
       "    <tr>\n",
       "      <th>2</th>\n",
       "      <td>2022-08-28</td>\n",
       "      <td>22:00</td>\n",
       "      <td>Segunda División</td>\n",
       "      <td>Semana 3 de partido</td>\n",
       "      <td>Dom</td>\n",
       "      <td>Visitante</td>\n",
       "      <td>E</td>\n",
       "      <td>1</td>\n",
       "      <td>1</td>\n",
       "      <td>UD Ibiza</td>\n",
       "      <td>46.0</td>\n",
       "      <td>2855</td>\n",
       "      <td>Luis Rioja</td>\n",
       "      <td>4-4-2</td>\n",
       "      <td>Luis Milla</td>\n",
       "      <td>Informe del partido</td>\n",
       "      <td>NaN</td>\n",
       "    </tr>\n",
       "    <tr>\n",
       "      <th>3</th>\n",
       "      <td>2022-09-03</td>\n",
       "      <td>14:00</td>\n",
       "      <td>Segunda División</td>\n",
       "      <td>Semana 4 de partido</td>\n",
       "      <td>Sáb</td>\n",
       "      <td>Local</td>\n",
       "      <td>E</td>\n",
       "      <td>1</td>\n",
       "      <td>1</td>\n",
       "      <td>Las Palmas</td>\n",
       "      <td>23.0</td>\n",
       "      <td>11388</td>\n",
       "      <td>Rubén Duarte</td>\n",
       "      <td>4-2-3-1</td>\n",
       "      <td>Oliver De La Fuente</td>\n",
       "      <td>Informe del partido</td>\n",
       "      <td>NaN</td>\n",
       "    </tr>\n",
       "    <tr>\n",
       "      <th>4</th>\n",
       "      <td>2022-09-10</td>\n",
       "      <td>14:00</td>\n",
       "      <td>Segunda División</td>\n",
       "      <td>Semana 5 de partido</td>\n",
       "      <td>Sáb</td>\n",
       "      <td>Visitante</td>\n",
       "      <td>V</td>\n",
       "      <td>2</td>\n",
       "      <td>1</td>\n",
       "      <td>Lugo</td>\n",
       "      <td>64.0</td>\n",
       "      <td>2347</td>\n",
       "      <td>Rubén Duarte</td>\n",
       "      <td>4-2-3-1</td>\n",
       "      <td>Iosu Galech</td>\n",
       "      <td>Informe del partido</td>\n",
       "      <td>NaN</td>\n",
       "    </tr>\n",
       "    <tr>\n",
       "      <th>...</th>\n",
       "      <td>...</td>\n",
       "      <td>...</td>\n",
       "      <td>...</td>\n",
       "      <td>...</td>\n",
       "      <td>...</td>\n",
       "      <td>...</td>\n",
       "      <td>...</td>\n",
       "      <td>...</td>\n",
       "      <td>...</td>\n",
       "      <td>...</td>\n",
       "      <td>...</td>\n",
       "      <td>...</td>\n",
       "      <td>...</td>\n",
       "      <td>...</td>\n",
       "      <td>...</td>\n",
       "      <td>...</td>\n",
       "      <td>...</td>\n",
       "    </tr>\n",
       "    <tr>\n",
       "      <th>95</th>\n",
       "      <td>2023-05-27</td>\n",
       "      <td>20:00</td>\n",
       "      <td>Segunda División</td>\n",
       "      <td>Semana 42 de partido</td>\n",
       "      <td>Sáb</td>\n",
       "      <td>Visitante</td>\n",
       "      <td>E</td>\n",
       "      <td>0</td>\n",
       "      <td>0</td>\n",
       "      <td>Las Palmas</td>\n",
       "      <td>37.0</td>\n",
       "      <td>31790</td>\n",
       "      <td>Rubén Duarte</td>\n",
       "      <td>4-2-3-1</td>\n",
       "      <td>Víctor García Verdura</td>\n",
       "      <td>Informe del partido</td>\n",
       "      <td>NaN</td>\n",
       "    </tr>\n",
       "    <tr>\n",
       "      <th>96</th>\n",
       "      <td>2023-06-03</td>\n",
       "      <td>18:30</td>\n",
       "      <td>Segunda División</td>\n",
       "      <td>Semifinales</td>\n",
       "      <td>Sáb</td>\n",
       "      <td>Visitante</td>\n",
       "      <td>E</td>\n",
       "      <td>1</td>\n",
       "      <td>1</td>\n",
       "      <td>Eibar</td>\n",
       "      <td>51.0</td>\n",
       "      <td>7300</td>\n",
       "      <td>Rubén Duarte</td>\n",
       "      <td>4-3-3</td>\n",
       "      <td>David Gálvez</td>\n",
       "      <td>Informe del partido</td>\n",
       "      <td>Llave 1 de 2</td>\n",
       "    </tr>\n",
       "    <tr>\n",
       "      <th>97</th>\n",
       "      <td>2023-06-08</td>\n",
       "      <td>21:00</td>\n",
       "      <td>Segunda División</td>\n",
       "      <td>Semifinales</td>\n",
       "      <td>Jue</td>\n",
       "      <td>Local</td>\n",
       "      <td>V</td>\n",
       "      <td>2</td>\n",
       "      <td>0</td>\n",
       "      <td>Eibar</td>\n",
       "      <td>38.0</td>\n",
       "      <td>19060</td>\n",
       "      <td>Rubén Duarte</td>\n",
       "      <td>4-2-3-1</td>\n",
       "      <td>Adrián Cordero</td>\n",
       "      <td>Informe del partido</td>\n",
       "      <td>Llave 2 de 2; Alavés ganó</td>\n",
       "    </tr>\n",
       "    <tr>\n",
       "      <th>98</th>\n",
       "      <td>2023-06-11</td>\n",
       "      <td>21:00</td>\n",
       "      <td>Segunda División</td>\n",
       "      <td>Final</td>\n",
       "      <td>Dom</td>\n",
       "      <td>Local</td>\n",
       "      <td>E</td>\n",
       "      <td>0</td>\n",
       "      <td>0</td>\n",
       "      <td>Levante</td>\n",
       "      <td>55.0</td>\n",
       "      <td>19369</td>\n",
       "      <td>Rubén Duarte</td>\n",
       "      <td>4-3-3</td>\n",
       "      <td>Víctor García Verdura</td>\n",
       "      <td>Informe del partido</td>\n",
       "      <td>Llave 1 de 2</td>\n",
       "    </tr>\n",
       "    <tr>\n",
       "      <th>99</th>\n",
       "      <td>2023-06-17</td>\n",
       "      <td>21:00</td>\n",
       "      <td>Segunda División</td>\n",
       "      <td>Final</td>\n",
       "      <td>Sáb</td>\n",
       "      <td>Visitante</td>\n",
       "      <td>V</td>\n",
       "      <td>1</td>\n",
       "      <td>0</td>\n",
       "      <td>Levante</td>\n",
       "      <td>49.0</td>\n",
       "      <td>22919</td>\n",
       "      <td>Rubén Duarte</td>\n",
       "      <td>4-4-2</td>\n",
       "      <td>Francisco Hernández</td>\n",
       "      <td>Informe del partido</td>\n",
       "      <td>Llave 2 de 2; Alavés ganó; Tiempo suplementari...</td>\n",
       "    </tr>\n",
       "  </tbody>\n",
       "</table>\n",
       "<p>100 rows × 17 columns</p>\n",
       "</div>"
      ],
      "text/plain": [
       "         Fecha   Hora              Comp                 Ronda  Día      Sedes  \\\n",
       "0   2022-08-13  21:00  Segunda División   Semana 1 de partido  Sáb  Visitante   \n",
       "1   2022-08-19  22:00  Segunda División   Semana 2 de partido  Vie      Local   \n",
       "2   2022-08-28  22:00  Segunda División   Semana 3 de partido  Dom  Visitante   \n",
       "3   2022-09-03  14:00  Segunda División   Semana 4 de partido  Sáb      Local   \n",
       "4   2022-09-10  14:00  Segunda División   Semana 5 de partido  Sáb  Visitante   \n",
       "..         ...    ...               ...                   ...  ...        ...   \n",
       "95  2023-05-27  20:00  Segunda División  Semana 42 de partido  Sáb  Visitante   \n",
       "96  2023-06-03  18:30  Segunda División           Semifinales  Sáb  Visitante   \n",
       "97  2023-06-08  21:00  Segunda División           Semifinales  Jue      Local   \n",
       "98  2023-06-11  21:00  Segunda División                 Final  Dom      Local   \n",
       "99  2023-06-17  21:00  Segunda División                 Final  Sáb  Visitante   \n",
       "\n",
       "   Resultado  GF  GC   Adversario  Pos.  Asistencia       Capitán Formación  \\\n",
       "0          V   2   1      Leganés  38.0        5316    Luis Rioja     4-3-3   \n",
       "1          V   1   0  CD Mirandés  44.0       11310    Luis Rioja   4-2-3-1   \n",
       "2          E   1   1     UD Ibiza  46.0        2855    Luis Rioja     4-4-2   \n",
       "3          E   1   1   Las Palmas  23.0       11388  Rubén Duarte   4-2-3-1   \n",
       "4          V   2   1         Lugo  64.0        2347  Rubén Duarte   4-2-3-1   \n",
       "..       ...  ..  ..          ...   ...         ...           ...       ...   \n",
       "95         E   0   0   Las Palmas  37.0       31790  Rubén Duarte   4-2-3-1   \n",
       "96         E   1   1        Eibar  51.0        7300  Rubén Duarte     4-3-3   \n",
       "97         V   2   0        Eibar  38.0       19060  Rubén Duarte   4-2-3-1   \n",
       "98         E   0   0      Levante  55.0       19369  Rubén Duarte     4-3-3   \n",
       "99         V   1   0      Levante  49.0       22919  Rubén Duarte     4-4-2   \n",
       "\n",
       "                  Árbitro  Informe del partido  \\\n",
       "0   Víctor García Verdura  Informe del partido   \n",
       "1           Iván Caparrós  Informe del partido   \n",
       "2              Luis Milla  Informe del partido   \n",
       "3     Oliver De La Fuente  Informe del partido   \n",
       "4             Iosu Galech  Informe del partido   \n",
       "..                    ...                  ...   \n",
       "95  Víctor García Verdura  Informe del partido   \n",
       "96           David Gálvez  Informe del partido   \n",
       "97         Adrián Cordero  Informe del partido   \n",
       "98  Víctor García Verdura  Informe del partido   \n",
       "99    Francisco Hernández  Informe del partido   \n",
       "\n",
       "                                                Notas  \n",
       "0                                                 NaN  \n",
       "1                                                 NaN  \n",
       "2                                                 NaN  \n",
       "3                                                 NaN  \n",
       "4                                                 NaN  \n",
       "..                                                ...  \n",
       "95                                                NaN  \n",
       "96                                       Llave 1 de 2  \n",
       "97                          Llave 2 de 2; Alavés ganó  \n",
       "98                                       Llave 1 de 2  \n",
       "99  Llave 2 de 2; Alavés ganó; Tiempo suplementari...  \n",
       "\n",
       "[100 rows x 17 columns]"
      ]
     },
     "execution_count": 134,
     "metadata": {},
     "output_type": "execute_result"
    }
   ],
   "source": [
    "dataframes=(pd.concat([df[0],df[1]], ignore_index=True))\n",
    "dataframes"
   ]
  }
 ],
 "metadata": {
  "kernelspec": {
   "display_name": "Python 3",
   "language": "python",
   "name": "python3"
  },
  "language_info": {
   "codemirror_mode": {
    "name": "ipython",
    "version": 3
   },
   "file_extension": ".py",
   "mimetype": "text/x-python",
   "name": "python",
   "nbconvert_exporter": "python",
   "pygments_lexer": "ipython3",
   "version": "3.11.4"
  },
  "orig_nbformat": 4
 },
 "nbformat": 4,
 "nbformat_minor": 2
}
