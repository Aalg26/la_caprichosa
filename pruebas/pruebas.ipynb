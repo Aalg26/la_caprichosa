{
 "cells": [
  {
   "cell_type": "code",
   "execution_count": 3,
   "metadata": {},
   "outputs": [],
   "source": [
    "import requests\n",
    "from bs4 import BeautifulSoup\n",
    "import time \n",
    "import pandas as pd\n",
    "import modulo as md"
   ]
  },
  {
   "cell_type": "code",
   "execution_count": 2,
   "metadata": {},
   "outputs": [],
   "source": [
    "headers={'user-agent':'Mozilla/5.0 (Windows NT 10.0; Win64; x64) AppleWebKit/537.36 (KHTML, like Gecko) Chrome/116.0.0.0 Safari/537.36'}"
   ]
  },
  {
   "cell_type": "code",
   "execution_count": 15,
   "metadata": {},
   "outputs": [],
   "source": [
    "url='https://fbref.com/es/comps/41/Estadisticas-de-La-Liga'\n",
    "res=requests.get(url,headers=headers)"
   ]
  },
  {
   "cell_type": "code",
   "execution_count": 16,
   "metadata": {},
   "outputs": [
    {
     "data": {
      "text/plain": [
       "True"
      ]
     },
     "execution_count": 16,
     "metadata": {},
     "output_type": "execute_result"
    }
   ],
   "source": [
    "res.ok"
   ]
  },
  {
   "cell_type": "code",
   "execution_count": 17,
   "metadata": {},
   "outputs": [],
   "source": [
    "soup=BeautifulSoup(res.text, 'html.parser')\n",
    "\n"
   ]
  },
  {
   "cell_type": "code",
   "execution_count": 28,
   "metadata": {},
   "outputs": [
    {
     "data": {
      "text/plain": [
       "'4c319052'"
      ]
     },
     "execution_count": 28,
     "metadata": {},
     "output_type": "execute_result"
    }
   ],
   "source": [
    "millonarios=str(soup.find_all('tbody')[4].find_all('tr')[11].find('th'))\n",
    "millonarios.split('href=\"/es/equipos/')[1].split('/Estadisticas')[0]"
   ]
  },
  {
   "cell_type": "code",
   "execution_count": 31,
   "metadata": {},
   "outputs": [],
   "source": [
    "pagina=pd.read_html(url)\n",
    "\n"
   ]
  },
  {
   "cell_type": "code",
   "execution_count": 34,
   "metadata": {},
   "outputs": [
    {
     "data": {
      "text/html": [
       "<div>\n",
       "<style scoped>\n",
       "    .dataframe tbody tr th:only-of-type {\n",
       "        vertical-align: middle;\n",
       "    }\n",
       "\n",
       "    .dataframe tbody tr th {\n",
       "        vertical-align: top;\n",
       "    }\n",
       "\n",
       "    .dataframe thead th {\n",
       "        text-align: right;\n",
       "    }\n",
       "</style>\n",
       "<table border=\"1\" class=\"dataframe\">\n",
       "  <thead>\n",
       "    <tr style=\"text-align: right;\">\n",
       "      <th></th>\n",
       "      <th>RL</th>\n",
       "      <th>Equipo</th>\n",
       "      <th>PJ</th>\n",
       "      <th>PG</th>\n",
       "      <th>PE</th>\n",
       "      <th>PP</th>\n",
       "      <th>GF</th>\n",
       "      <th>GC</th>\n",
       "      <th>DG</th>\n",
       "      <th>Pts</th>\n",
       "      <th>Pts/PJ</th>\n",
       "      <th>Notas</th>\n",
       "    </tr>\n",
       "  </thead>\n",
       "  <tbody>\n",
       "    <tr>\n",
       "      <th>0</th>\n",
       "      <td>1</td>\n",
       "      <td>Millonarios</td>\n",
       "      <td>6</td>\n",
       "      <td>4</td>\n",
       "      <td>1</td>\n",
       "      <td>1</td>\n",
       "      <td>9</td>\n",
       "      <td>6</td>\n",
       "      <td>3</td>\n",
       "      <td>13</td>\n",
       "      <td>2.17</td>\n",
       "      <td>→ Apertura — Final</td>\n",
       "    </tr>\n",
       "    <tr>\n",
       "      <th>1</th>\n",
       "      <td>2</td>\n",
       "      <td>CD América</td>\n",
       "      <td>6</td>\n",
       "      <td>3</td>\n",
       "      <td>1</td>\n",
       "      <td>2</td>\n",
       "      <td>8</td>\n",
       "      <td>6</td>\n",
       "      <td>2</td>\n",
       "      <td>10</td>\n",
       "      <td>1.67</td>\n",
       "      <td>NaN</td>\n",
       "    </tr>\n",
       "    <tr>\n",
       "      <th>2</th>\n",
       "      <td>3</td>\n",
       "      <td>Boyacá Chicó</td>\n",
       "      <td>6</td>\n",
       "      <td>2</td>\n",
       "      <td>2</td>\n",
       "      <td>2</td>\n",
       "      <td>6</td>\n",
       "      <td>6</td>\n",
       "      <td>0</td>\n",
       "      <td>8</td>\n",
       "      <td>1.33</td>\n",
       "      <td>NaN</td>\n",
       "    </tr>\n",
       "    <tr>\n",
       "      <th>3</th>\n",
       "      <td>4</td>\n",
       "      <td>Independiente</td>\n",
       "      <td>6</td>\n",
       "      <td>0</td>\n",
       "      <td>2</td>\n",
       "      <td>4</td>\n",
       "      <td>3</td>\n",
       "      <td>8</td>\n",
       "      <td>-5</td>\n",
       "      <td>2</td>\n",
       "      <td>0.33</td>\n",
       "      <td>NaN</td>\n",
       "    </tr>\n",
       "  </tbody>\n",
       "</table>\n",
       "</div>"
      ],
      "text/plain": [
       "   RL         Equipo  PJ  PG  PE  PP  GF  GC  DG  Pts  Pts/PJ  \\\n",
       "0   1    Millonarios   6   4   1   1   9   6   3   13    2.17   \n",
       "1   2     CD América   6   3   1   2   8   6   2   10    1.67   \n",
       "2   3   Boyacá Chicó   6   2   2   2   6   6   0    8    1.33   \n",
       "3   4  Independiente   6   0   2   4   3   8  -5    2    0.33   \n",
       "\n",
       "                Notas  \n",
       "0  → Apertura — Final  \n",
       "1                 NaN  \n",
       "2                 NaN  \n",
       "3                 NaN  "
      ]
     },
     "execution_count": 34,
     "metadata": {},
     "output_type": "execute_result"
    }
   ],
   "source": [
    "pagina[2]"
   ]
  },
  {
   "cell_type": "code",
   "execution_count": 1,
   "metadata": {},
   "outputs": [],
   "source": [
    "import modulo"
   ]
  },
  {
   "cell_type": "code",
   "execution_count": 4,
   "metadata": {},
   "outputs": [
    {
     "ename": "NameError",
     "evalue": "name 'headers' is not defined",
     "output_type": "error",
     "traceback": [
      "\u001b[1;31m---------------------------------------------------------------------------\u001b[0m",
      "\u001b[1;31mNameError\u001b[0m                                 Traceback (most recent call last)",
      "Cell \u001b[1;32mIn[4], line 2\u001b[0m\n\u001b[0;32m      1\u001b[0m url1\u001b[39m=\u001b[39m\u001b[39mf\u001b[39m\u001b[39m'\u001b[39m\u001b[39mhttps://fbref.com/es/comps/9\u001b[39m\u001b[39m'\u001b[39m\n\u001b[1;32m----> 2\u001b[0m res\u001b[39m=\u001b[39mrequests\u001b[39m.\u001b[39mget(url1, headers\u001b[39m=\u001b[39mheaders, timeout\u001b[39m=\u001b[39m\u001b[39m10\u001b[39m)\n",
      "\u001b[1;31mNameError\u001b[0m: name 'headers' is not defined"
     ]
    }
   ],
   "source": [
    "url1=f'https://fbref.com/es/comps/9'\n",
    "res=requests.get(url1, headers=headers, timeout=10)"
   ]
  },
  {
   "cell_type": "code",
   "execution_count": 9,
   "metadata": {},
   "outputs": [],
   "source": [
    "equipos=modulo.get_teams(res)"
   ]
  },
  {
   "cell_type": "code",
   "execution_count": 10,
   "metadata": {},
   "outputs": [
    {
     "data": {
      "text/plain": [
       "[['Arsenal',\n",
       "  'Aston Villa',\n",
       "  'Bournemouth',\n",
       "  'Brentford',\n",
       "  'Brighton',\n",
       "  'Burnley',\n",
       "  'Chelsea',\n",
       "  'Crystal Palace',\n",
       "  'Everton',\n",
       "  'Fulham',\n",
       "  'Liverpool',\n",
       "  'Luton Town',\n",
       "  'Manchester City',\n",
       "  'Manchester Utd',\n",
       "  'Newcastle Utd',\n",
       "  \"Nott'ham Forest\",\n",
       "  'Sheffield Utd',\n",
       "  'Tottenham',\n",
       "  'West Ham',\n",
       "  'Wolves'],\n",
       " ['18bb7c10',\n",
       "  '8602292d',\n",
       "  '4ba7cbea',\n",
       "  'cd051869',\n",
       "  'd07537b9',\n",
       "  '943e8050',\n",
       "  'cff3d9bb',\n",
       "  '47c64c55',\n",
       "  'd3fd31cc',\n",
       "  'fd962109',\n",
       "  '822bd0ba',\n",
       "  'e297cd13',\n",
       "  'b8fd03ef',\n",
       "  '19538871',\n",
       "  'b2b47a98',\n",
       "  'e4a775cb',\n",
       "  '1df6b87e',\n",
       "  '361ca564',\n",
       "  '7c21e445',\n",
       "  '8cec06e1']]"
      ]
     },
     "execution_count": 10,
     "metadata": {},
     "output_type": "execute_result"
    }
   ],
   "source": [
    "equipos"
   ]
  },
  {
   "cell_type": "code",
   "execution_count": 1,
   "metadata": {},
   "outputs": [],
   "source": [
    "columnas=['Goles sin penalización','Goles esperados (xG) sin contar penaltis','Total de disparos','Asistencias',\n",
    "              'xAG','npxG + xAG','Acciones para la creación de tiros','Pases intentados','% de pase completo',\n",
    "              'Pases progresivos','Acarreos progresivos','Tomas exitosas','Toques (Ataq. pen.)','Pases progresivos Rec',\n",
    "              'Derribos','Intercepciones','Bloqueos','Despeje','Aéreos ganados']\n"
   ]
  },
  {
   "cell_type": "code",
   "execution_count": 2,
   "metadata": {},
   "outputs": [
    {
     "data": {
      "text/plain": [
       "19"
      ]
     },
     "execution_count": 2,
     "metadata": {},
     "output_type": "execute_result"
    }
   ],
   "source": [
    "len(columnas)"
   ]
  },
  {
   "cell_type": "code",
   "execution_count": 5,
   "metadata": {},
   "outputs": [
    {
     "data": {
      "text/html": [
       "<div>\n",
       "<style scoped>\n",
       "    .dataframe tbody tr th:only-of-type {\n",
       "        vertical-align: middle;\n",
       "    }\n",
       "\n",
       "    .dataframe tbody tr th {\n",
       "        vertical-align: top;\n",
       "    }\n",
       "\n",
       "    .dataframe thead th {\n",
       "        text-align: right;\n",
       "    }\n",
       "</style>\n",
       "<table border=\"1\" class=\"dataframe\">\n",
       "  <thead>\n",
       "    <tr style=\"text-align: right;\">\n",
       "      <th></th>\n",
       "      <th>Goles sin penalización</th>\n",
       "      <th>Goles esperados (xG) sin contar penaltis</th>\n",
       "      <th>Total de disparos</th>\n",
       "      <th>Asistencias</th>\n",
       "      <th>xAG</th>\n",
       "      <th>npxG + xAG</th>\n",
       "      <th>Acciones para la creación de tiros</th>\n",
       "      <th>Pases intentados</th>\n",
       "      <th>% de pase completo</th>\n",
       "      <th>Pases progresivos</th>\n",
       "      <th>Acarreos progresivos</th>\n",
       "      <th>Tomas exitosas</th>\n",
       "      <th>Toques (Ataq. pen.)</th>\n",
       "      <th>Pases progresivos Rec</th>\n",
       "      <th>Derribos</th>\n",
       "      <th>Intercepciones</th>\n",
       "      <th>Bloqueos</th>\n",
       "      <th>Despeje</th>\n",
       "      <th>Aéreos ganados</th>\n",
       "    </tr>\n",
       "  </thead>\n",
       "  <tbody>\n",
       "  </tbody>\n",
       "</table>\n",
       "</div>"
      ],
      "text/plain": [
       "Empty DataFrame\n",
       "Columns: [Goles sin penalización, Goles esperados (xG) sin contar penaltis, Total de disparos, Asistencias, xAG, npxG + xAG, Acciones para la creación de tiros, Pases intentados, % de pase completo, Pases progresivos, Acarreos progresivos, Tomas exitosas, Toques (Ataq. pen.), Pases progresivos Rec, Derribos, Intercepciones, Bloqueos, Despeje, Aéreos ganados]\n",
       "Index: []"
      ]
     },
     "execution_count": 5,
     "metadata": {},
     "output_type": "execute_result"
    }
   ],
   "source": [
    "tabla=pd.DataFrame(columns=columnas)\n",
    "tabla"
   ]
  },
  {
   "cell_type": "code",
   "execution_count": 2,
   "metadata": {},
   "outputs": [
    {
     "ename": "NameError",
     "evalue": "name 'requests' is not defined",
     "output_type": "error",
     "traceback": [
      "\u001b[1;31m---------------------------------------------------------------------------\u001b[0m",
      "\u001b[1;31mNameError\u001b[0m                                 Traceback (most recent call last)",
      "Cell \u001b[1;32mIn[2], line 2\u001b[0m\n\u001b[0;32m      1\u001b[0m urljorg\u001b[39m=\u001b[39m\u001b[39m'\u001b[39m\u001b[39mhttps://fbref.com/es/comps/9/\u001b[39m\u001b[39m'\u001b[39m\n\u001b[1;32m----> 2\u001b[0m resjorg\u001b[39m=\u001b[39mrequests\u001b[39m.\u001b[39mget(urljorg,headers\u001b[39m=\u001b[39mheaders)\n\u001b[0;32m      3\u001b[0m soup\u001b[39m=\u001b[39mBeautifulSoup(resjorg\u001b[39m.\u001b[39mtext, \u001b[39m'\u001b[39m\u001b[39mhtml.parser\u001b[39m\u001b[39m'\u001b[39m)\n",
      "\u001b[1;31mNameError\u001b[0m: name 'requests' is not defined"
     ]
    }
   ],
   "source": [
    "urljorg='https://fbref.com/es/comps/9/'\n",
    "resjorg=requests.get(urljorg,headers=headers)\n",
    "soup=BeautifulSoup(resjorg.text, 'html.parser')"
   ]
  },
  {
   "cell_type": "code",
   "execution_count": 48,
   "metadata": {},
   "outputs": [
    {
     "data": {
      "text/plain": [
       "' Manchester City'"
      ]
     },
     "execution_count": 48,
     "metadata": {},
     "output_type": "execute_result"
    }
   ],
   "source": [
    "soup.find_all('tbody')[1].find_all('tr')[0].find('td').text"
   ]
  },
  {
   "cell_type": "code",
   "execution_count": 35,
   "metadata": {},
   "outputs": [
    {
     "name": "stdout",
     "output_type": "stream",
     "text": [
      " Manchester City\n",
      "me la pelas\n",
      " West Ham\n",
      "me la pelas\n",
      " Tottenham\n",
      "me la pelas\n",
      " Liverpool\n",
      "me la pelas\n",
      " Arsenal\n",
      "me la pelas\n",
      " Brighton\n",
      "me la pelas\n",
      " Aston Villa\n",
      "me la pelas\n",
      " Manchester Utd\n",
      "me la pelas\n",
      " Brentford\n",
      "me la pelas\n",
      " Chelsea\n",
      "me la pelas\n",
      " Crystal Palace\n",
      "me la pelas\n",
      " Fulham\n",
      "me la pelas\n",
      " Newcastle Utd\n",
      "me la pelas\n",
      " Nott'ham Forest\n",
      "me la pelas\n",
      " Wolves\n",
      "me la pelas\n",
      " Bournemouth\n",
      "me la pelas\n",
      " Sheffield Utd\n",
      "me la pelas\n",
      " Burnley\n",
      "me la pelas\n",
      " Luton Town\n",
      "me la pelas\n",
      " Everton\n",
      "me la pelas\n"
     ]
    }
   ],
   "source": [
    "for tr in soup.find_all('tbody')[1].find_all('tr'):\n",
    "    print(tr.find('td').text)\n",
    "    \n"
   ]
  },
  {
   "cell_type": "code",
   "execution_count": 1,
   "metadata": {},
   "outputs": [
    {
     "ename": "NameError",
     "evalue": "name 'soup' is not defined",
     "output_type": "error",
     "traceback": [
      "\u001b[1;31m---------------------------------------------------------------------------\u001b[0m",
      "\u001b[1;31mNameError\u001b[0m                                 Traceback (most recent call last)",
      "Cell \u001b[1;32mIn[1], line 1\u001b[0m\n\u001b[1;32m----> 1\u001b[0m soup\u001b[39m.\u001b[39mfind_all(\u001b[39m'\u001b[39m\u001b[39mtbody\u001b[39m\u001b[39m'\u001b[39m)[\u001b[39m1\u001b[39m]\u001b[39m.\u001b[39mfind_all(\u001b[39m'\u001b[39m\u001b[39mtr\u001b[39m\u001b[39m'\u001b[39m)\n",
      "\u001b[1;31mNameError\u001b[0m: name 'soup' is not defined"
     ]
    }
   ],
   "source": [
    "soup.find_all('tbody')[1].find_all('tr')"
   ]
  },
  {
   "cell_type": "code",
   "execution_count": 25,
   "metadata": {},
   "outputs": [
    {
     "data": {
      "text/plain": [
       "[['Arsenal',\n",
       "  'Aston Villa',\n",
       "  'Bournemouth',\n",
       "  'Brentford',\n",
       "  'Brighton',\n",
       "  'Burnley',\n",
       "  'Chelsea',\n",
       "  'Crystal Palace',\n",
       "  'Everton',\n",
       "  'Fulham',\n",
       "  'Liverpool',\n",
       "  'Luton Town',\n",
       "  'Manchester City',\n",
       "  'Manchester Utd',\n",
       "  'Newcastle Utd',\n",
       "  \"Nott'ham Forest\",\n",
       "  'Sheffield Utd',\n",
       "  'Tottenham',\n",
       "  'West Ham',\n",
       "  'Wolves'],\n",
       " ['18bb7c10',\n",
       "  '8602292d',\n",
       "  '4ba7cbea',\n",
       "  'cd051869',\n",
       "  'd07537b9',\n",
       "  '943e8050',\n",
       "  'cff3d9bb',\n",
       "  '47c64c55',\n",
       "  'd3fd31cc',\n",
       "  'fd962109',\n",
       "  '822bd0ba',\n",
       "  'e297cd13',\n",
       "  'b8fd03ef',\n",
       "  '19538871',\n",
       "  'b2b47a98',\n",
       "  'e4a775cb',\n",
       "  '1df6b87e',\n",
       "  '361ca564',\n",
       "  '7c21e445',\n",
       "  '8cec06e1']]"
      ]
     },
     "execution_count": 25,
     "metadata": {},
     "output_type": "execute_result"
    }
   ],
   "source": [
    "equipos"
   ]
  },
  {
   "cell_type": "code",
   "execution_count": 50,
   "metadata": {},
   "outputs": [
    {
     "data": {
      "text/plain": [
       "[<tr><th class=\"right qualifier1 qualification_indicator\" csk=\"1\" data-stat=\"rank\" scope=\"row\">1</th><td class=\"left\" data-stat=\"team\"><img alt=\"Escudo del Club\" height=\"13\" itemscope=\"image\" src=\"https://cdn.ssref.net/req/202308191/tlogo/fb/mini.b8fd03ef.png\" style=\"vertical-align:text-top\" width=\"13\"/> <a href=\"/es/equipos/b8fd03ef/Estadisticas-de-Manchester-City\">Manchester City</a></td><td class=\"right group_start\" data-stat=\"home_games\">1</td><td class=\"right\" data-stat=\"home_wins\">1</td><td class=\"right iz\" data-stat=\"home_ties\">0</td><td class=\"right iz\" data-stat=\"home_losses\">0</td><td class=\"right\" data-stat=\"home_goals_for\">1</td><td class=\"right iz\" data-stat=\"home_goals_against\">0</td><td class=\"right\" data-stat=\"home_goal_diff\">+1</td><td class=\"right\" data-stat=\"home_points\">3</td><td class=\"right\" data-stat=\"home_points_avg\">3.00</td><td class=\"right\" data-stat=\"home_xg_for\">1.0</td><td class=\"right\" data-stat=\"home_xg_against\">0.3</td><td class=\"right\" data-stat=\"home_xg_diff\">+0.7</td><td class=\"right\" data-stat=\"home_xg_diff_per90\">+0.71</td><td class=\"right group_start\" data-stat=\"away_games\">2</td><td class=\"right\" data-stat=\"away_wins\">2</td><td class=\"right iz\" data-stat=\"away_ties\">0</td><td class=\"right iz\" data-stat=\"away_losses\">0</td><td class=\"right\" data-stat=\"away_goals_for\">5</td><td class=\"right\" data-stat=\"away_goals_against\">1</td><td class=\"right\" data-stat=\"away_goal_diff\">+4</td><td class=\"right\" data-stat=\"away_points\">6</td><td class=\"right\" data-stat=\"away_points_avg\">3.00</td><td class=\"right\" data-stat=\"away_xg_for\">5.4</td><td class=\"right\" data-stat=\"away_xg_against\">1.1</td><td class=\"right\" data-stat=\"away_xg_diff\">+4.4</td><td class=\"right\" data-stat=\"away_xg_diff_per90\">+2.19</td></tr>,\n",
       " <tr><th class=\"right qualifier1 qualification_indicator\" csk=\"2\" data-stat=\"rank\" scope=\"row\">2</th><td class=\"left\" data-stat=\"team\"><img alt=\"Escudo del Club\" height=\"13\" itemscope=\"image\" src=\"https://cdn.ssref.net/req/202308191/tlogo/fb/mini.7c21e445.png\" style=\"vertical-align:text-top\" width=\"13\"/> <a href=\"/es/equipos/7c21e445/Estadisticas-de-West-Ham-United\">West Ham</a></td><td class=\"right group_start\" data-stat=\"home_games\">1</td><td class=\"right\" data-stat=\"home_wins\">1</td><td class=\"right iz\" data-stat=\"home_ties\">0</td><td class=\"right iz\" data-stat=\"home_losses\">0</td><td class=\"right\" data-stat=\"home_goals_for\">3</td><td class=\"right\" data-stat=\"home_goals_against\">1</td><td class=\"right\" data-stat=\"home_goal_diff\">+2</td><td class=\"right\" data-stat=\"home_points\">3</td><td class=\"right\" data-stat=\"home_points_avg\">3.00</td><td class=\"right\" data-stat=\"home_xg_for\">1.8</td><td class=\"right\" data-stat=\"home_xg_against\">2.5</td><td class=\"right\" data-stat=\"home_xg_diff\">-0.7</td><td class=\"right\" data-stat=\"home_xg_diff_per90\">-0.69</td><td class=\"right group_start\" data-stat=\"away_games\">2</td><td class=\"right\" data-stat=\"away_wins\">1</td><td class=\"right\" data-stat=\"away_ties\">1</td><td class=\"right iz\" data-stat=\"away_losses\">0</td><td class=\"right\" data-stat=\"away_goals_for\">4</td><td class=\"right\" data-stat=\"away_goals_against\">2</td><td class=\"right\" data-stat=\"away_goal_diff\">+2</td><td class=\"right\" data-stat=\"away_points\">4</td><td class=\"right\" data-stat=\"away_points_avg\">2.00</td><td class=\"right\" data-stat=\"away_xg_for\">4.1</td><td class=\"right\" data-stat=\"away_xg_against\">2.8</td><td class=\"right\" data-stat=\"away_xg_diff\">+1.3</td><td class=\"right\" data-stat=\"away_xg_diff_per90\">+0.66</td></tr>,\n",
       " <tr><th class=\"right qualifier1 qualification_indicator\" csk=\"3\" data-stat=\"rank\" scope=\"row\">3</th><td class=\"left\" data-stat=\"team\"><img alt=\"Escudo del Club\" height=\"13\" itemscope=\"image\" src=\"https://cdn.ssref.net/req/202308191/tlogo/fb/mini.361ca564.png\" style=\"vertical-align:text-top\" width=\"13\"/> <a href=\"/es/equipos/361ca564/Estadisticas-de-Tottenham-Hotspur\">Tottenham</a></td><td class=\"right group_start\" data-stat=\"home_games\">1</td><td class=\"right\" data-stat=\"home_wins\">1</td><td class=\"right iz\" data-stat=\"home_ties\">0</td><td class=\"right iz\" data-stat=\"home_losses\">0</td><td class=\"right\" data-stat=\"home_goals_for\">2</td><td class=\"right iz\" data-stat=\"home_goals_against\">0</td><td class=\"right\" data-stat=\"home_goal_diff\">+2</td><td class=\"right\" data-stat=\"home_points\">3</td><td class=\"right\" data-stat=\"home_points_avg\">3.00</td><td class=\"right\" data-stat=\"home_xg_for\">1.7</td><td class=\"right\" data-stat=\"home_xg_against\">2.1</td><td class=\"right\" data-stat=\"home_xg_diff\">-0.3</td><td class=\"right\" data-stat=\"home_xg_diff_per90\">-0.32</td><td class=\"right group_start\" data-stat=\"away_games\">2</td><td class=\"right\" data-stat=\"away_wins\">1</td><td class=\"right\" data-stat=\"away_ties\">1</td><td class=\"right iz\" data-stat=\"away_losses\">0</td><td class=\"right\" data-stat=\"away_goals_for\">4</td><td class=\"right\" data-stat=\"away_goals_against\">2</td><td class=\"right\" data-stat=\"away_goal_diff\">+2</td><td class=\"right\" data-stat=\"away_points\">4</td><td class=\"right\" data-stat=\"away_points_avg\">2.00</td><td class=\"right\" data-stat=\"away_xg_for\">3.3</td><td class=\"right\" data-stat=\"away_xg_against\">2.9</td><td class=\"right\" data-stat=\"away_xg_diff\">+0.5</td><td class=\"right\" data-stat=\"away_xg_diff_per90\">+0.23</td></tr>,\n",
       " <tr><th class=\"right qualifier1 qualification_indicator\" csk=\"4\" data-stat=\"rank\" scope=\"row\">4</th><td class=\"left\" data-stat=\"team\"><img alt=\"Escudo del Club\" height=\"13\" itemscope=\"image\" src=\"https://cdn.ssref.net/req/202308191/tlogo/fb/mini.822bd0ba.png\" style=\"vertical-align:text-top\" width=\"13\"/> <a href=\"/es/equipos/822bd0ba/Estadisticas-de-Liverpool\">Liverpool</a></td><td class=\"right group_start\" data-stat=\"home_games\">1</td><td class=\"right\" data-stat=\"home_wins\">1</td><td class=\"right iz\" data-stat=\"home_ties\">0</td><td class=\"right iz\" data-stat=\"home_losses\">0</td><td class=\"right\" data-stat=\"home_goals_for\">3</td><td class=\"right\" data-stat=\"home_goals_against\">1</td><td class=\"right\" data-stat=\"home_goal_diff\">+2</td><td class=\"right\" data-stat=\"home_points\">3</td><td class=\"right\" data-stat=\"home_points_avg\">3.00</td><td class=\"right\" data-stat=\"home_xg_for\">3.0</td><td class=\"right\" data-stat=\"home_xg_against\">1.3</td><td class=\"right\" data-stat=\"home_xg_diff\">+1.8</td><td class=\"right\" data-stat=\"home_xg_diff_per90\">+1.77</td><td class=\"right group_start\" data-stat=\"away_games\">2</td><td class=\"right\" data-stat=\"away_wins\">1</td><td class=\"right\" data-stat=\"away_ties\">1</td><td class=\"right iz\" data-stat=\"away_losses\">0</td><td class=\"right\" data-stat=\"away_goals_for\">3</td><td class=\"right\" data-stat=\"away_goals_against\">2</td><td class=\"right\" data-stat=\"away_goal_diff\">+1</td><td class=\"right\" data-stat=\"away_points\">4</td><td class=\"right\" data-stat=\"away_points_avg\">2.00</td><td class=\"right\" data-stat=\"away_xg_for\">2.2</td><td class=\"right\" data-stat=\"away_xg_against\">3.3</td><td class=\"right\" data-stat=\"away_xg_diff\">-1.1</td><td class=\"right\" data-stat=\"away_xg_diff_per90\">-0.56</td></tr>,\n",
       " <tr><th class=\"right qualifier2 qualification_indicator\" csk=\"5\" data-stat=\"rank\" scope=\"row\">5</th><td class=\"left\" data-stat=\"team\"><img alt=\"Escudo del Club\" height=\"13\" itemscope=\"image\" src=\"https://cdn.ssref.net/req/202308191/tlogo/fb/mini.18bb7c10.png\" style=\"vertical-align:text-top\" width=\"13\"/> <a href=\"/es/equipos/18bb7c10/Estadisticas-de-Arsenal\">Arsenal</a></td><td class=\"right group_start\" data-stat=\"home_games\">2</td><td class=\"right\" data-stat=\"home_wins\">1</td><td class=\"right\" data-stat=\"home_ties\">1</td><td class=\"right iz\" data-stat=\"home_losses\">0</td><td class=\"right\" data-stat=\"home_goals_for\">4</td><td class=\"right\" data-stat=\"home_goals_against\">3</td><td class=\"right\" data-stat=\"home_goal_diff\">+1</td><td class=\"right\" data-stat=\"home_points\">4</td><td class=\"right\" data-stat=\"home_points_avg\">2.00</td><td class=\"right\" data-stat=\"home_xg_for\">4.0</td><td class=\"right\" data-stat=\"home_xg_against\">1.7</td><td class=\"right\" data-stat=\"home_xg_diff\">+2.3</td><td class=\"right\" data-stat=\"home_xg_diff_per90\">+1.13</td><td class=\"right group_start\" data-stat=\"away_games\">1</td><td class=\"right\" data-stat=\"away_wins\">1</td><td class=\"right iz\" data-stat=\"away_ties\">0</td><td class=\"right iz\" data-stat=\"away_losses\">0</td><td class=\"right\" data-stat=\"away_goals_for\">1</td><td class=\"right iz\" data-stat=\"away_goals_against\">0</td><td class=\"right\" data-stat=\"away_goal_diff\">+1</td><td class=\"right\" data-stat=\"away_points\">3</td><td class=\"right\" data-stat=\"away_points_avg\">3.00</td><td class=\"right\" data-stat=\"away_xg_for\">2.0</td><td class=\"right\" data-stat=\"away_xg_against\">1.0</td><td class=\"right\" data-stat=\"away_xg_diff\">+1.0</td><td class=\"right\" data-stat=\"away_xg_diff_per90\">+1.01</td></tr>,\n",
       " <tr><th class=\"right\" csk=\"6\" data-stat=\"rank\" scope=\"row\">6</th><td class=\"left\" data-stat=\"team\"><img alt=\"Escudo del Club\" height=\"13\" itemscope=\"image\" src=\"https://cdn.ssref.net/req/202308191/tlogo/fb/mini.d07537b9.png\" style=\"vertical-align:text-top\" width=\"13\"/> <a href=\"/es/equipos/d07537b9/Estadisticas-de-Brighton-and-Hove-Albion\">Brighton</a></td><td class=\"right group_start\" data-stat=\"home_games\">2</td><td class=\"right\" data-stat=\"home_wins\">1</td><td class=\"right iz\" data-stat=\"home_ties\">0</td><td class=\"right\" data-stat=\"home_losses\">1</td><td class=\"right\" data-stat=\"home_goals_for\">5</td><td class=\"right\" data-stat=\"home_goals_against\">4</td><td class=\"right\" data-stat=\"home_goal_diff\">+1</td><td class=\"right\" data-stat=\"home_points\">3</td><td class=\"right\" data-stat=\"home_points_avg\">1.50</td><td class=\"right\" data-stat=\"home_xg_for\">5.5</td><td class=\"right\" data-stat=\"home_xg_against\">4.5</td><td class=\"right\" data-stat=\"home_xg_diff\">+1.0</td><td class=\"right\" data-stat=\"home_xg_diff_per90\">+0.48</td><td class=\"right group_start\" data-stat=\"away_games\">1</td><td class=\"right\" data-stat=\"away_wins\">1</td><td class=\"right iz\" data-stat=\"away_ties\">0</td><td class=\"right iz\" data-stat=\"away_losses\">0</td><td class=\"right\" data-stat=\"away_goals_for\">4</td><td class=\"right\" data-stat=\"away_goals_against\">1</td><td class=\"right\" data-stat=\"away_goal_diff\">+3</td><td class=\"right\" data-stat=\"away_points\">3</td><td class=\"right\" data-stat=\"away_points_avg\">3.00</td><td class=\"right\" data-stat=\"away_xg_for\">2.2</td><td class=\"right\" data-stat=\"away_xg_against\">2.1</td><td class=\"right\" data-stat=\"away_xg_diff\">+0.1</td><td class=\"right\" data-stat=\"away_xg_diff_per90\">+0.14</td></tr>,\n",
       " <tr><th class=\"right\" csk=\"7\" data-stat=\"rank\" scope=\"row\">7</th><td class=\"left\" data-stat=\"team\"><img alt=\"Escudo del Club\" height=\"13\" itemscope=\"image\" src=\"https://cdn.ssref.net/req/202308191/tlogo/fb/mini.8602292d.png\" style=\"vertical-align:text-top\" width=\"13\"/> <a href=\"/es/equipos/8602292d/Estadisticas-de-Aston-Villa\">Aston Villa</a></td><td class=\"right group_start\" data-stat=\"home_games\">1</td><td class=\"right\" data-stat=\"home_wins\">1</td><td class=\"right iz\" data-stat=\"home_ties\">0</td><td class=\"right iz\" data-stat=\"home_losses\">0</td><td class=\"right\" data-stat=\"home_goals_for\">4</td><td class=\"right iz\" data-stat=\"home_goals_against\">0</td><td class=\"right\" data-stat=\"home_goal_diff\">+4</td><td class=\"right\" data-stat=\"home_points\">3</td><td class=\"right\" data-stat=\"home_points_avg\">3.00</td><td class=\"right\" data-stat=\"home_xg_for\">2.9</td><td class=\"right\" data-stat=\"home_xg_against\">0.6</td><td class=\"right\" data-stat=\"home_xg_diff\">+2.3</td><td class=\"right\" data-stat=\"home_xg_diff_per90\">+2.29</td><td class=\"right group_start\" data-stat=\"away_games\">2</td><td class=\"right\" data-stat=\"away_wins\">1</td><td class=\"right iz\" data-stat=\"away_ties\">0</td><td class=\"right\" data-stat=\"away_losses\">1</td><td class=\"right\" data-stat=\"away_goals_for\">4</td><td class=\"right\" data-stat=\"away_goals_against\">6</td><td class=\"right\" data-stat=\"away_goal_diff\">-2</td><td class=\"right\" data-stat=\"away_points\">3</td><td class=\"right\" data-stat=\"away_points_avg\">1.50</td><td class=\"right\" data-stat=\"away_xg_for\">4.1</td><td class=\"right\" data-stat=\"away_xg_against\">4.0</td><td class=\"right\" data-stat=\"away_xg_diff\">+0.1</td><td class=\"right\" data-stat=\"away_xg_diff_per90\">+0.04</td></tr>,\n",
       " <tr><th class=\"right\" csk=\"8\" data-stat=\"rank\" scope=\"row\">8</th><td class=\"left\" data-stat=\"team\"><img alt=\"Escudo del Club\" height=\"13\" itemscope=\"image\" src=\"https://cdn.ssref.net/req/202308191/tlogo/fb/mini.19538871.png\" style=\"vertical-align:text-top\" width=\"13\"/> <a href=\"/es/equipos/19538871/Estadisticas-de-Manchester-United\">Manchester Utd</a></td><td class=\"right group_start\" data-stat=\"home_games\">2</td><td class=\"right\" data-stat=\"home_wins\">2</td><td class=\"right iz\" data-stat=\"home_ties\">0</td><td class=\"right iz\" data-stat=\"home_losses\">0</td><td class=\"right\" data-stat=\"home_goals_for\">4</td><td class=\"right\" data-stat=\"home_goals_against\">2</td><td class=\"right\" data-stat=\"home_goal_diff\">+2</td><td class=\"right\" data-stat=\"home_points\">6</td><td class=\"right\" data-stat=\"home_points_avg\">3.00</td><td class=\"right\" data-stat=\"home_xg_for\">5.0</td><td class=\"right\" data-stat=\"home_xg_against\">3.4</td><td class=\"right\" data-stat=\"home_xg_diff\">+1.6</td><td class=\"right\" data-stat=\"home_xg_diff_per90\">+0.80</td><td class=\"right group_start\" data-stat=\"away_games\">1</td><td class=\"right iz\" data-stat=\"away_wins\">0</td><td class=\"right iz\" data-stat=\"away_ties\">0</td><td class=\"right\" data-stat=\"away_losses\">1</td><td class=\"right iz\" data-stat=\"away_goals_for\">0</td><td class=\"right\" data-stat=\"away_goals_against\">2</td><td class=\"right\" data-stat=\"away_goal_diff\">-2</td><td class=\"right iz\" data-stat=\"away_points\">0</td><td class=\"right iz\" data-stat=\"away_points_avg\">0.00</td><td class=\"right\" data-stat=\"away_xg_for\">2.1</td><td class=\"right\" data-stat=\"away_xg_against\">1.7</td><td class=\"right\" data-stat=\"away_xg_diff\">+0.3</td><td class=\"right\" data-stat=\"away_xg_diff_per90\">+0.32</td></tr>,\n",
       " <tr><th class=\"right\" csk=\"9\" data-stat=\"rank\" scope=\"row\">9</th><td class=\"left\" data-stat=\"team\"><img alt=\"Escudo del Club\" height=\"13\" itemscope=\"image\" src=\"https://cdn.ssref.net/req/202308191/tlogo/fb/mini.cd051869.png\" style=\"vertical-align:text-top\" width=\"13\"/> <a href=\"/es/equipos/cd051869/Estadisticas-de-Brentford\">Brentford</a></td><td class=\"right group_start\" data-stat=\"home_games\">2</td><td class=\"right iz\" data-stat=\"home_wins\">0</td><td class=\"right\" data-stat=\"home_ties\">2</td><td class=\"right iz\" data-stat=\"home_losses\">0</td><td class=\"right\" data-stat=\"home_goals_for\">3</td><td class=\"right\" data-stat=\"home_goals_against\">3</td><td class=\"right iz\" data-stat=\"home_goal_diff\">0</td><td class=\"right\" data-stat=\"home_points\">2</td><td class=\"right\" data-stat=\"home_points_avg\">1.00</td><td class=\"right\" data-stat=\"home_xg_for\">3.2</td><td class=\"right\" data-stat=\"home_xg_against\">2.1</td><td class=\"right\" data-stat=\"home_xg_diff\">+1.1</td><td class=\"right\" data-stat=\"home_xg_diff_per90\">+0.55</td><td class=\"right group_start\" data-stat=\"away_games\">1</td><td class=\"right\" data-stat=\"away_wins\">1</td><td class=\"right iz\" data-stat=\"away_ties\">0</td><td class=\"right iz\" data-stat=\"away_losses\">0</td><td class=\"right\" data-stat=\"away_goals_for\">3</td><td class=\"right iz\" data-stat=\"away_goals_against\">0</td><td class=\"right\" data-stat=\"away_goal_diff\">+3</td><td class=\"right\" data-stat=\"away_points\">3</td><td class=\"right\" data-stat=\"away_points_avg\">3.00</td><td class=\"right\" data-stat=\"away_xg_for\">3.7</td><td class=\"right\" data-stat=\"away_xg_against\">0.5</td><td class=\"right\" data-stat=\"away_xg_diff\">+3.2</td><td class=\"right\" data-stat=\"away_xg_diff_per90\">+3.19</td></tr>,\n",
       " <tr><th class=\"right\" csk=\"10\" data-stat=\"rank\" scope=\"row\">10</th><td class=\"left\" data-stat=\"team\"><img alt=\"Escudo del Club\" height=\"13\" itemscope=\"image\" src=\"https://cdn.ssref.net/req/202308191/tlogo/fb/mini.cff3d9bb.png\" style=\"vertical-align:text-top\" width=\"13\"/> <a href=\"/es/equipos/cff3d9bb/Estadisticas-de-Chelsea\">Chelsea</a></td><td class=\"right group_start\" data-stat=\"home_games\">2</td><td class=\"right\" data-stat=\"home_wins\">1</td><td class=\"right\" data-stat=\"home_ties\">1</td><td class=\"right iz\" data-stat=\"home_losses\">0</td><td class=\"right\" data-stat=\"home_goals_for\">4</td><td class=\"right\" data-stat=\"home_goals_against\">1</td><td class=\"right\" data-stat=\"home_goal_diff\">+3</td><td class=\"right\" data-stat=\"home_points\">4</td><td class=\"right\" data-stat=\"home_points_avg\">2.00</td><td class=\"right\" data-stat=\"home_xg_for\">3.6</td><td class=\"right\" data-stat=\"home_xg_against\">1.7</td><td class=\"right\" data-stat=\"home_xg_diff\">+1.9</td><td class=\"right\" data-stat=\"home_xg_diff_per90\">+0.94</td><td class=\"right group_start\" data-stat=\"away_games\">1</td><td class=\"right iz\" data-stat=\"away_wins\">0</td><td class=\"right iz\" data-stat=\"away_ties\">0</td><td class=\"right\" data-stat=\"away_losses\">1</td><td class=\"right\" data-stat=\"away_goals_for\">1</td><td class=\"right\" data-stat=\"away_goals_against\">3</td><td class=\"right\" data-stat=\"away_goal_diff\">-2</td><td class=\"right iz\" data-stat=\"away_points\">0</td><td class=\"right iz\" data-stat=\"away_points_avg\">0.00</td><td class=\"right\" data-stat=\"away_xg_for\">2.5</td><td class=\"right\" data-stat=\"away_xg_against\">1.8</td><td class=\"right\" data-stat=\"away_xg_diff\">+0.7</td><td class=\"right\" data-stat=\"away_xg_diff_per90\">+0.69</td></tr>,\n",
       " <tr><th class=\"right\" csk=\"11\" data-stat=\"rank\" scope=\"row\">11</th><td class=\"left\" data-stat=\"team\"><img alt=\"Escudo del Club\" height=\"13\" itemscope=\"image\" src=\"https://cdn.ssref.net/req/202308191/tlogo/fb/mini.47c64c55.png\" style=\"vertical-align:text-top\" width=\"13\"/> <a href=\"/es/equipos/47c64c55/Estadisticas-de-Crystal-Palace\">Crystal Palace</a></td><td class=\"right group_start\" data-stat=\"home_games\">1</td><td class=\"right iz\" data-stat=\"home_wins\">0</td><td class=\"right iz\" data-stat=\"home_ties\">0</td><td class=\"right\" data-stat=\"home_losses\">1</td><td class=\"right iz\" data-stat=\"home_goals_for\">0</td><td class=\"right\" data-stat=\"home_goals_against\">1</td><td class=\"right\" data-stat=\"home_goal_diff\">-1</td><td class=\"right iz\" data-stat=\"home_points\">0</td><td class=\"right iz\" data-stat=\"home_points_avg\">0.00</td><td class=\"right\" data-stat=\"home_xg_for\">1.0</td><td class=\"right\" data-stat=\"home_xg_against\">2.0</td><td class=\"right\" data-stat=\"home_xg_diff\">-1.0</td><td class=\"right\" data-stat=\"home_xg_diff_per90\">-1.01</td><td class=\"right group_start\" data-stat=\"away_games\">2</td><td class=\"right\" data-stat=\"away_wins\">1</td><td class=\"right\" data-stat=\"away_ties\">1</td><td class=\"right iz\" data-stat=\"away_losses\">0</td><td class=\"right\" data-stat=\"away_goals_for\">2</td><td class=\"right\" data-stat=\"away_goals_against\">1</td><td class=\"right\" data-stat=\"away_goal_diff\">+1</td><td class=\"right\" data-stat=\"away_points\">4</td><td class=\"right\" data-stat=\"away_points_avg\">2.00</td><td class=\"right\" data-stat=\"away_xg_for\">2.7</td><td class=\"right\" data-stat=\"away_xg_against\">1.5</td><td class=\"right\" data-stat=\"away_xg_diff\">+1.2</td><td class=\"right\" data-stat=\"away_xg_diff_per90\">+0.60</td></tr>,\n",
       " <tr><th class=\"right\" csk=\"12\" data-stat=\"rank\" scope=\"row\">12</th><td class=\"left\" data-stat=\"team\"><img alt=\"Escudo del Club\" height=\"13\" itemscope=\"image\" src=\"https://cdn.ssref.net/req/202308191/tlogo/fb/mini.fd962109.png\" style=\"vertical-align:text-top\" width=\"13\"/> <a href=\"/es/equipos/fd962109/Estadisticas-de-Fulham\">Fulham</a></td><td class=\"right group_start\" data-stat=\"home_games\">1</td><td class=\"right iz\" data-stat=\"home_wins\">0</td><td class=\"right iz\" data-stat=\"home_ties\">0</td><td class=\"right\" data-stat=\"home_losses\">1</td><td class=\"right iz\" data-stat=\"home_goals_for\">0</td><td class=\"right\" data-stat=\"home_goals_against\">3</td><td class=\"right\" data-stat=\"home_goal_diff\">-3</td><td class=\"right iz\" data-stat=\"home_points\">0</td><td class=\"right iz\" data-stat=\"home_points_avg\">0.00</td><td class=\"right\" data-stat=\"home_xg_for\">0.5</td><td class=\"right\" data-stat=\"home_xg_against\">3.7</td><td class=\"right\" data-stat=\"home_xg_diff\">-3.2</td><td class=\"right\" data-stat=\"home_xg_diff_per90\">-3.19</td><td class=\"right group_start\" data-stat=\"away_games\">2</td><td class=\"right\" data-stat=\"away_wins\">1</td><td class=\"right\" data-stat=\"away_ties\">1</td><td class=\"right iz\" data-stat=\"away_losses\">0</td><td class=\"right\" data-stat=\"away_goals_for\">3</td><td class=\"right\" data-stat=\"away_goals_against\">2</td><td class=\"right\" data-stat=\"away_goal_diff\">+1</td><td class=\"right\" data-stat=\"away_points\">4</td><td class=\"right\" data-stat=\"away_points_avg\">2.00</td><td class=\"right\" data-stat=\"away_xg_for\">2.1</td><td class=\"right\" data-stat=\"away_xg_against\">5.9</td><td class=\"right\" data-stat=\"away_xg_diff\">-3.8</td><td class=\"right\" data-stat=\"away_xg_diff_per90\">-1.91</td></tr>,\n",
       " <tr><th class=\"right\" csk=\"13\" data-stat=\"rank\" scope=\"row\">13</th><td class=\"left\" data-stat=\"team\"><img alt=\"Escudo del Club\" height=\"13\" itemscope=\"image\" src=\"https://cdn.ssref.net/req/202308191/tlogo/fb/mini.b2b47a98.png\" style=\"vertical-align:text-top\" width=\"13\"/> <a href=\"/es/equipos/b2b47a98/Estadisticas-de-Newcastle-United\">Newcastle Utd</a></td><td class=\"right group_start\" data-stat=\"home_games\">2</td><td class=\"right\" data-stat=\"home_wins\">1</td><td class=\"right iz\" data-stat=\"home_ties\">0</td><td class=\"right\" data-stat=\"home_losses\">1</td><td class=\"right\" data-stat=\"home_goals_for\">6</td><td class=\"right\" data-stat=\"home_goals_against\">3</td><td class=\"right\" data-stat=\"home_goal_diff\">+3</td><td class=\"right\" data-stat=\"home_points\">3</td><td class=\"right\" data-stat=\"home_points_avg\">1.50</td><td class=\"right\" data-stat=\"home_xg_for\">5.3</td><td class=\"right\" data-stat=\"home_xg_against\">2.7</td><td class=\"right\" data-stat=\"home_xg_diff\">+2.6</td><td class=\"right\" data-stat=\"home_xg_diff_per90\">+1.31</td><td class=\"right group_start\" data-stat=\"away_games\">1</td><td class=\"right iz\" data-stat=\"away_wins\">0</td><td class=\"right iz\" data-stat=\"away_ties\">0</td><td class=\"right\" data-stat=\"away_losses\">1</td><td class=\"right iz\" data-stat=\"away_goals_for\">0</td><td class=\"right\" data-stat=\"away_goals_against\">1</td><td class=\"right\" data-stat=\"away_goal_diff\">-1</td><td class=\"right iz\" data-stat=\"away_points\">0</td><td class=\"right iz\" data-stat=\"away_points_avg\">0.00</td><td class=\"right\" data-stat=\"away_xg_for\">0.3</td><td class=\"right\" data-stat=\"away_xg_against\">1.0</td><td class=\"right\" data-stat=\"away_xg_diff\">-0.7</td><td class=\"right\" data-stat=\"away_xg_diff_per90\">-0.71</td></tr>,\n",
       " <tr><th class=\"right\" csk=\"14\" data-stat=\"rank\" scope=\"row\">14</th><td class=\"left\" data-stat=\"team\"><img alt=\"Escudo del Club\" height=\"13\" itemscope=\"image\" src=\"https://cdn.ssref.net/req/202308191/tlogo/fb/mini.e4a775cb.png\" style=\"vertical-align:text-top\" width=\"13\"/> <a href=\"/es/equipos/e4a775cb/Estadisticas-de-Nottingham-Forest\">Nott'ham Forest</a></td><td class=\"right group_start\" data-stat=\"home_games\">1</td><td class=\"right\" data-stat=\"home_wins\">1</td><td class=\"right iz\" data-stat=\"home_ties\">0</td><td class=\"right iz\" data-stat=\"home_losses\">0</td><td class=\"right\" data-stat=\"home_goals_for\">2</td><td class=\"right\" data-stat=\"home_goals_against\">1</td><td class=\"right\" data-stat=\"home_goal_diff\">+1</td><td class=\"right\" data-stat=\"home_points\">3</td><td class=\"right\" data-stat=\"home_points_avg\">3.00</td><td class=\"right\" data-stat=\"home_xg_for\">1.4</td><td class=\"right\" data-stat=\"home_xg_against\">0.5</td><td class=\"right\" data-stat=\"home_xg_diff\">+0.9</td><td class=\"right\" data-stat=\"home_xg_diff_per90\">+0.88</td><td class=\"right group_start\" data-stat=\"away_games\">2</td><td class=\"right iz\" data-stat=\"away_wins\">0</td><td class=\"right iz\" data-stat=\"away_ties\">0</td><td class=\"right\" data-stat=\"away_losses\">2</td><td class=\"right\" data-stat=\"away_goals_for\">3</td><td class=\"right\" data-stat=\"away_goals_against\">5</td><td class=\"right\" data-stat=\"away_goal_diff\">-2</td><td class=\"right iz\" data-stat=\"away_points\">0</td><td class=\"right iz\" data-stat=\"away_points_avg\">0.00</td><td class=\"right\" data-stat=\"away_xg_for\">2.4</td><td class=\"right\" data-stat=\"away_xg_against\">3.7</td><td class=\"right\" data-stat=\"away_xg_diff\">-1.3</td><td class=\"right\" data-stat=\"away_xg_diff_per90\">-0.63</td></tr>,\n",
       " <tr><th class=\"right\" csk=\"15\" data-stat=\"rank\" scope=\"row\">15</th><td class=\"left\" data-stat=\"team\"><img alt=\"Escudo del Club\" height=\"13\" itemscope=\"image\" src=\"https://cdn.ssref.net/req/202308191/tlogo/fb/mini.8cec06e1.png\" style=\"vertical-align:text-top\" width=\"13\"/> <a href=\"/es/equipos/8cec06e1/Estadisticas-de-Wolverhampton-Wanderers\">Wolves</a></td><td class=\"right group_start\" data-stat=\"home_games\">1</td><td class=\"right iz\" data-stat=\"home_wins\">0</td><td class=\"right iz\" data-stat=\"home_ties\">0</td><td class=\"right\" data-stat=\"home_losses\">1</td><td class=\"right\" data-stat=\"home_goals_for\">1</td><td class=\"right\" data-stat=\"home_goals_against\">4</td><td class=\"right\" data-stat=\"home_goal_diff\">-3</td><td class=\"right iz\" data-stat=\"home_points\">0</td><td class=\"right iz\" data-stat=\"home_points_avg\">0.00</td><td class=\"right\" data-stat=\"home_xg_for\">2.1</td><td class=\"right\" data-stat=\"home_xg_against\">2.2</td><td class=\"right\" data-stat=\"home_xg_diff\">-0.1</td><td class=\"right\" data-stat=\"home_xg_diff_per90\">-0.14</td><td class=\"right group_start\" data-stat=\"away_games\">2</td><td class=\"right\" data-stat=\"away_wins\">1</td><td class=\"right iz\" data-stat=\"away_ties\">0</td><td class=\"right\" data-stat=\"away_losses\">1</td><td class=\"right\" data-stat=\"away_goals_for\">1</td><td class=\"right\" data-stat=\"away_goals_against\">1</td><td class=\"right iz\" data-stat=\"away_goal_diff\">0</td><td class=\"right\" data-stat=\"away_points\">3</td><td class=\"right\" data-stat=\"away_points_avg\">1.50</td><td class=\"right\" data-stat=\"away_xg_for\">3.3</td><td class=\"right\" data-stat=\"away_xg_against\">3.5</td><td class=\"right\" data-stat=\"away_xg_diff\">-0.2</td><td class=\"right\" data-stat=\"away_xg_diff_per90\">-0.12</td></tr>,\n",
       " <tr><th class=\"right\" csk=\"16\" data-stat=\"rank\" scope=\"row\">16</th><td class=\"left\" data-stat=\"team\"><img alt=\"Escudo del Club\" height=\"13\" itemscope=\"image\" src=\"https://cdn.ssref.net/req/202308191/tlogo/fb/mini.4ba7cbea.png\" style=\"vertical-align:text-top\" width=\"13\"/> <a href=\"/es/equipos/4ba7cbea/Estadisticas-de-Bournemouth\">Bournemouth</a></td><td class=\"right group_start\" data-stat=\"home_games\">2</td><td class=\"right iz\" data-stat=\"home_wins\">0</td><td class=\"right\" data-stat=\"home_ties\">1</td><td class=\"right\" data-stat=\"home_losses\">1</td><td class=\"right\" data-stat=\"home_goals_for\">1</td><td class=\"right\" data-stat=\"home_goals_against\">3</td><td class=\"right\" data-stat=\"home_goal_diff\">-2</td><td class=\"right\" data-stat=\"home_points\">1</td><td class=\"right\" data-stat=\"home_points_avg\">0.50</td><td class=\"right\" data-stat=\"home_xg_for\">2.0</td><td class=\"right\" data-stat=\"home_xg_against\">3.1</td><td class=\"right\" data-stat=\"home_xg_diff\">-1.1</td><td class=\"right\" data-stat=\"home_xg_diff_per90\">-0.57</td><td class=\"right group_start\" data-stat=\"away_games\">1</td><td class=\"right iz\" data-stat=\"away_wins\">0</td><td class=\"right iz\" data-stat=\"away_ties\">0</td><td class=\"right\" data-stat=\"away_losses\">1</td><td class=\"right\" data-stat=\"away_goals_for\">1</td><td class=\"right\" data-stat=\"away_goals_against\">3</td><td class=\"right\" data-stat=\"away_goal_diff\">-2</td><td class=\"right iz\" data-stat=\"away_points\">0</td><td class=\"right iz\" data-stat=\"away_points_avg\">0.00</td><td class=\"right\" data-stat=\"away_xg_for\">1.3</td><td class=\"right\" data-stat=\"away_xg_against\">3.0</td><td class=\"right\" data-stat=\"away_xg_diff\">-1.8</td><td class=\"right\" data-stat=\"away_xg_diff_per90\">-1.77</td></tr>,\n",
       " <tr><th class=\"right\" csk=\"17\" data-stat=\"rank\" scope=\"row\">17</th><td class=\"left\" data-stat=\"team\"><img alt=\"Escudo del Club\" height=\"13\" itemscope=\"image\" src=\"https://cdn.ssref.net/req/202308191/tlogo/fb/mini.1df6b87e.png\" style=\"vertical-align:text-top\" width=\"13\"/> <a href=\"/es/equipos/1df6b87e/Estadisticas-de-Sheffield-United\">Sheffield Utd</a></td><td class=\"right group_start\" data-stat=\"home_games\">2</td><td class=\"right iz\" data-stat=\"home_wins\">0</td><td class=\"right iz\" data-stat=\"home_ties\">0</td><td class=\"right\" data-stat=\"home_losses\">2</td><td class=\"right\" data-stat=\"home_goals_for\">1</td><td class=\"right\" data-stat=\"home_goals_against\">3</td><td class=\"right\" data-stat=\"home_goal_diff\">-2</td><td class=\"right iz\" data-stat=\"home_points\">0</td><td class=\"right iz\" data-stat=\"home_points_avg\">0.00</td><td class=\"right\" data-stat=\"home_xg_for\">1.2</td><td class=\"right\" data-stat=\"home_xg_against\">5.4</td><td class=\"right\" data-stat=\"home_xg_diff\">-4.1</td><td class=\"right\" data-stat=\"home_xg_diff_per90\">-2.06</td><td class=\"right group_start\" data-stat=\"away_games\">1</td><td class=\"right iz\" data-stat=\"away_wins\">0</td><td class=\"right iz\" data-stat=\"away_ties\">0</td><td class=\"right\" data-stat=\"away_losses\">1</td><td class=\"right\" data-stat=\"away_goals_for\">1</td><td class=\"right\" data-stat=\"away_goals_against\">2</td><td class=\"right\" data-stat=\"away_goal_diff\">-1</td><td class=\"right iz\" data-stat=\"away_points\">0</td><td class=\"right iz\" data-stat=\"away_points_avg\">0.00</td><td class=\"right\" data-stat=\"away_xg_for\">0.5</td><td class=\"right\" data-stat=\"away_xg_against\">1.4</td><td class=\"right\" data-stat=\"away_xg_diff\">-0.9</td><td class=\"right\" data-stat=\"away_xg_diff_per90\">-0.88</td></tr>,\n",
       " <tr><th class=\"right relegate qualification_indicator\" csk=\"18\" data-stat=\"rank\" scope=\"row\">18</th><td class=\"left\" data-stat=\"team\"><img alt=\"Escudo del Club\" height=\"13\" itemscope=\"image\" src=\"https://cdn.ssref.net/req/202308191/tlogo/fb/mini.943e8050.png\" style=\"vertical-align:text-top\" width=\"13\"/> <a href=\"/es/equipos/943e8050/Estadisticas-de-Burnley\">Burnley</a></td><td class=\"right group_start\" data-stat=\"home_games\">2</td><td class=\"right iz\" data-stat=\"home_wins\">0</td><td class=\"right iz\" data-stat=\"home_ties\">0</td><td class=\"right\" data-stat=\"home_losses\">2</td><td class=\"right\" data-stat=\"home_goals_for\">1</td><td class=\"right\" data-stat=\"home_goals_against\">6</td><td class=\"right\" data-stat=\"home_goal_diff\">-5</td><td class=\"right iz\" data-stat=\"home_points\">0</td><td class=\"right iz\" data-stat=\"home_points_avg\">0.00</td><td class=\"right\" data-stat=\"home_xg_for\">1.0</td><td class=\"right\" data-stat=\"home_xg_against\">4.3</td><td class=\"right\" data-stat=\"home_xg_diff\">-3.3</td><td class=\"right\" data-stat=\"home_xg_diff_per90\">-1.64</td><td class=\"right iz group_start\" data-stat=\"away_games\">0</td><td class=\"right iz\" data-stat=\"away_wins\">0</td><td class=\"right iz\" data-stat=\"away_ties\">0</td><td class=\"right iz\" data-stat=\"away_losses\">0</td><td class=\"right iz\" data-stat=\"away_goals_for\">0</td><td class=\"right iz\" data-stat=\"away_goals_against\">0</td><td class=\"right iz\" data-stat=\"away_goal_diff\">0</td><td class=\"right iz\" data-stat=\"away_points\">0</td><td class=\"right iz\" data-stat=\"away_points_avg\"></td><td class=\"right iz\" data-stat=\"away_xg_for\">0.0</td><td class=\"right iz\" data-stat=\"away_xg_against\">0.0</td><td class=\"right iz\" data-stat=\"away_xg_diff\">0.0</td><td class=\"right iz\" data-stat=\"away_xg_diff_per90\"></td></tr>,\n",
       " <tr><th class=\"right relegate qualification_indicator\" csk=\"19\" data-stat=\"rank\" scope=\"row\">19</th><td class=\"left\" data-stat=\"team\"><img alt=\"Escudo del Club\" height=\"13\" itemscope=\"image\" src=\"https://cdn.ssref.net/req/202308191/tlogo/fb/mini.e297cd13.png\" style=\"vertical-align:text-top\" width=\"13\"/> <a href=\"/es/equipos/e297cd13/Estadisticas-de-Luton-Town\">Luton Town</a></td><td class=\"right iz group_start\" data-stat=\"home_games\">0</td><td class=\"right iz\" data-stat=\"home_wins\">0</td><td class=\"right iz\" data-stat=\"home_ties\">0</td><td class=\"right iz\" data-stat=\"home_losses\">0</td><td class=\"right iz\" data-stat=\"home_goals_for\">0</td><td class=\"right iz\" data-stat=\"home_goals_against\">0</td><td class=\"right iz\" data-stat=\"home_goal_diff\">0</td><td class=\"right iz\" data-stat=\"home_points\">0</td><td class=\"right iz\" data-stat=\"home_points_avg\"></td><td class=\"right iz\" data-stat=\"home_xg_for\">0.0</td><td class=\"right iz\" data-stat=\"home_xg_against\">0.0</td><td class=\"right iz\" data-stat=\"home_xg_diff\">0.0</td><td class=\"right iz\" data-stat=\"home_xg_diff_per90\"></td><td class=\"right group_start\" data-stat=\"away_games\">2</td><td class=\"right iz\" data-stat=\"away_wins\">0</td><td class=\"right iz\" data-stat=\"away_ties\">0</td><td class=\"right\" data-stat=\"away_losses\">2</td><td class=\"right\" data-stat=\"away_goals_for\">1</td><td class=\"right\" data-stat=\"away_goals_against\">7</td><td class=\"right\" data-stat=\"away_goal_diff\">-6</td><td class=\"right iz\" data-stat=\"away_points\">0</td><td class=\"right iz\" data-stat=\"away_points_avg\">0.00</td><td class=\"right\" data-stat=\"away_xg_for\">1.9</td><td class=\"right\" data-stat=\"away_xg_against\">6.2</td><td class=\"right\" data-stat=\"away_xg_diff\">-4.3</td><td class=\"right\" data-stat=\"away_xg_diff_per90\">-2.16</td></tr>,\n",
       " <tr><th class=\"right relegate qualification_indicator\" csk=\"20\" data-stat=\"rank\" scope=\"row\">20</th><td class=\"left\" data-stat=\"team\"><img alt=\"Escudo del Club\" height=\"13\" itemscope=\"image\" src=\"https://cdn.ssref.net/req/202308191/tlogo/fb/mini.d3fd31cc.png\" style=\"vertical-align:text-top\" width=\"13\"/> <a href=\"/es/equipos/d3fd31cc/Estadisticas-de-Everton\">Everton</a></td><td class=\"right group_start\" data-stat=\"home_games\">2</td><td class=\"right iz\" data-stat=\"home_wins\">0</td><td class=\"right iz\" data-stat=\"home_ties\">0</td><td class=\"right\" data-stat=\"home_losses\">2</td><td class=\"right iz\" data-stat=\"home_goals_for\">0</td><td class=\"right\" data-stat=\"home_goals_against\">2</td><td class=\"right\" data-stat=\"home_goal_diff\">-2</td><td class=\"right iz\" data-stat=\"home_points\">0</td><td class=\"right iz\" data-stat=\"home_points_avg\">0.00</td><td class=\"right\" data-stat=\"home_xg_for\">4.0</td><td class=\"right\" data-stat=\"home_xg_against\">2.6</td><td class=\"right\" data-stat=\"home_xg_diff\">+1.5</td><td class=\"right\" data-stat=\"home_xg_diff_per90\">+0.73</td><td class=\"right group_start\" data-stat=\"away_games\">1</td><td class=\"right iz\" data-stat=\"away_wins\">0</td><td class=\"right iz\" data-stat=\"away_ties\">0</td><td class=\"right\" data-stat=\"away_losses\">1</td><td class=\"right iz\" data-stat=\"away_goals_for\">0</td><td class=\"right\" data-stat=\"away_goals_against\">4</td><td class=\"right\" data-stat=\"away_goal_diff\">-4</td><td class=\"right iz\" data-stat=\"away_points\">0</td><td class=\"right iz\" data-stat=\"away_points_avg\">0.00</td><td class=\"right\" data-stat=\"away_xg_for\">0.6</td><td class=\"right\" data-stat=\"away_xg_against\">2.9</td><td class=\"right\" data-stat=\"away_xg_diff\">-2.3</td><td class=\"right\" data-stat=\"away_xg_diff_per90\">-2.29</td></tr>]"
      ]
     },
     "execution_count": 50,
     "metadata": {},
     "output_type": "execute_result"
    }
   ],
   "source": [
    "soup.find_all(\"tbody\")[1].find_all(\"tr\")"
   ]
  }
 ],
 "metadata": {
  "kernelspec": {
   "display_name": "Python 3",
   "language": "python",
   "name": "python3"
  },
  "language_info": {
   "codemirror_mode": {
    "name": "ipython",
    "version": 3
   },
   "file_extension": ".py",
   "mimetype": "text/x-python",
   "name": "python",
   "nbconvert_exporter": "python",
   "pygments_lexer": "ipython3",
   "version": "3.11.4"
  },
  "orig_nbformat": 4
 },
 "nbformat": 4,
 "nbformat_minor": 2
}
